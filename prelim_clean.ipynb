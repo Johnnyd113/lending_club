{
 "cells": [
  {
   "cell_type": "markdown",
   "metadata": {},
   "source": [
    "This notebook is a quick cleaning of the data just to get it usable for our baseline ML models. This is quick and dirty cleaning with further refinements (feature eng, cat encoding, etc) to be done later. Different models will require different cleaning so this mostly just establishes train/val/test sets."
   ]
  },
  {
   "cell_type": "code",
   "execution_count": 1,
   "metadata": {},
   "outputs": [],
   "source": [
    "import os, warnings, gc, requests, json, re\n",
    "from requests.auth import HTTPDigestAuth\n",
    "from pathlib import Path\n",
    "import numpy as np\n",
    "import pandas as pd\n",
    "import matplotlib.pyplot as plt\n",
    "%matplotlib inline\n",
    "warnings.filterwarnings('ignore')\n",
    "pd.set_option('display.max_columns', 50)"
   ]
  },
  {
   "cell_type": "markdown",
   "metadata": {},
   "source": [
    "The cleaning function does some very simple cleaning like converting interest rates from strings to floats."
   ]
  },
  {
   "cell_type": "code",
   "execution_count": 2,
   "metadata": {},
   "outputs": [],
   "source": [
    "def cleaning(df):\n",
    "            \n",
    "    # drop non_loan columns\n",
    "    index = df[df['loan_amnt'].isnull()].index\n",
    "    df.drop(index=index, inplace=True)\n",
    "    \n",
    "    # convert % rate from str to float\n",
    "    df['int_rate'] = df['int_rate'].str[:-1].astype(float)\n",
    "    df['revol_util'] = df['revol_util'].str[:-1].astype(float)\n",
    "    \n",
    "    # convert term from str to int\n",
    "    df['term'] = df['term'].str.strip().str[:2].astype(int)\n",
    "    \n",
    "    # drop weird old columns\n",
    "    index = (df[(df['loan_status'] == 'Does not meet the credit policy. Status:Charged Off')\n",
    "            |(df['loan_status'] == 'Does not meet the credit policy. Status:Fully Paid')]).index\n",
    "    df.drop(index=index, inplace=True)\n",
    "    \n",
    "    # convert dates to useable formats\n",
    "    df['earliest_cr_line'] = pd.to_datetime(df['earliest_cr_line'], format='%b-%Y')\n",
    "    df['issue_d'] = pd.to_datetime(df['issue_d'], format='%b-%Y')\n",
    "    \n",
    "    # convert earliest cr_line from date to months since loan request\n",
    "    df['earliest_cr_line'] = ((df['issue_d'] - df['earliest_cr_line']) / np.timedelta64(1, 'M')).astype(int)\n",
    "    \n",
    "    return df "
   ]
  },
  {
   "cell_type": "markdown",
   "metadata": {},
   "source": [
    "The historical data is split into different csv files. The get data function will clean each one, then combine them all into one dataframe."
   ]
  },
  {
   "cell_type": "code",
   "execution_count": 3,
   "metadata": {},
   "outputs": [],
   "source": [
    "def get_data(approved_files, data_path):\n",
    "    df = pd.DataFrame()\n",
    "    for file in approved_files:\n",
    "        print('reading in {}'.format(file))\n",
    "        temp_df = pd.read_csv(data_path/file,header=1)\n",
    "        temp_df = cleaning(temp_df)\n",
    "        df = pd.concat([df,temp_df],ignore_index=True)\n",
    "    del temp_df\n",
    "    return df"
   ]
  },
  {
   "cell_type": "markdown",
   "metadata": {},
   "source": [
    "My data folder also contains info on rejected loans. Bc of this, my a list of files containing only the csv files containing approved and issued loans"
   ]
  },
  {
   "cell_type": "code",
   "execution_count": 4,
   "metadata": {},
   "outputs": [],
   "source": [
    "data_path = Path('data') # replace with name of your data file if different\n",
    "files = os.listdir(data_path)\n",
    "# only files with approved loans start with 'L'\n",
    "approved_files = [f for f in files if f[0]=='L']"
   ]
  },
  {
   "cell_type": "markdown",
   "metadata": {},
   "source": [
    "Clean and combine all historical loan files into one."
   ]
  },
  {
   "cell_type": "code",
   "execution_count": 5,
   "metadata": {},
   "outputs": [
    {
     "name": "stdout",
     "output_type": "stream",
     "text": [
      "reading in LoanStats_securev1_2018Q4.csv\n",
      "reading in LoanStats3b_securev1.csv\n",
      "reading in LoanStats3c_securev1.csv\n",
      "reading in LoanStats3d_securev1.csv\n",
      "reading in LoanStats_securev1_2018Q2.csv\n",
      "reading in LoanStats_securev1_2018Q3.csv\n",
      "reading in LoanStats_securev1_2018Q1.csv\n",
      "reading in LoanStats_securev1_2019Q1.csv\n",
      "reading in LoanStats_securev1_2017Q1.csv\n",
      "reading in LoanStats_securev1_2017Q2.csv\n",
      "reading in LoanStats_securev1_2017Q3.csv\n",
      "reading in LoanStats_securev1_2017Q4.csv\n",
      "reading in LoanStats_securev1_2016Q2.csv\n",
      "reading in LoanStats3a_securev1.csv\n",
      "reading in LoanStats_securev1_2016Q3.csv\n",
      "reading in LoanStats_securev1_2016Q1.csv\n",
      "reading in LoanStats_securev1_2016Q4.csv\n"
     ]
    }
   ],
   "source": [
    "df = get_data(approved_files, data_path)"
   ]
  },
  {
   "cell_type": "code",
   "execution_count": 6,
   "metadata": {},
   "outputs": [
    {
     "data": {
      "text/html": [
       "<div>\n",
       "<style scoped>\n",
       "    .dataframe tbody tr th:only-of-type {\n",
       "        vertical-align: middle;\n",
       "    }\n",
       "\n",
       "    .dataframe tbody tr th {\n",
       "        vertical-align: top;\n",
       "    }\n",
       "\n",
       "    .dataframe thead th {\n",
       "        text-align: right;\n",
       "    }\n",
       "</style>\n",
       "<table border=\"1\" class=\"dataframe\">\n",
       "  <thead>\n",
       "    <tr style=\"text-align: right;\">\n",
       "      <th></th>\n",
       "      <th>id</th>\n",
       "      <th>member_id</th>\n",
       "      <th>loan_amnt</th>\n",
       "      <th>funded_amnt</th>\n",
       "      <th>funded_amnt_inv</th>\n",
       "      <th>term</th>\n",
       "      <th>int_rate</th>\n",
       "      <th>installment</th>\n",
       "      <th>grade</th>\n",
       "      <th>sub_grade</th>\n",
       "      <th>emp_title</th>\n",
       "      <th>emp_length</th>\n",
       "      <th>home_ownership</th>\n",
       "      <th>annual_inc</th>\n",
       "      <th>verification_status</th>\n",
       "      <th>issue_d</th>\n",
       "      <th>loan_status</th>\n",
       "      <th>pymnt_plan</th>\n",
       "      <th>url</th>\n",
       "      <th>desc</th>\n",
       "      <th>purpose</th>\n",
       "      <th>title</th>\n",
       "      <th>zip_code</th>\n",
       "      <th>addr_state</th>\n",
       "      <th>dti</th>\n",
       "      <th>...</th>\n",
       "      <th>sec_app_chargeoff_within_12_mths</th>\n",
       "      <th>sec_app_collections_12_mths_ex_med</th>\n",
       "      <th>sec_app_mths_since_last_major_derog</th>\n",
       "      <th>hardship_flag</th>\n",
       "      <th>hardship_type</th>\n",
       "      <th>hardship_reason</th>\n",
       "      <th>hardship_status</th>\n",
       "      <th>deferral_term</th>\n",
       "      <th>hardship_amount</th>\n",
       "      <th>hardship_start_date</th>\n",
       "      <th>hardship_end_date</th>\n",
       "      <th>payment_plan_start_date</th>\n",
       "      <th>hardship_length</th>\n",
       "      <th>hardship_dpd</th>\n",
       "      <th>hardship_loan_status</th>\n",
       "      <th>orig_projected_additional_accrued_interest</th>\n",
       "      <th>hardship_payoff_balance_amount</th>\n",
       "      <th>hardship_last_payment_amount</th>\n",
       "      <th>debt_settlement_flag</th>\n",
       "      <th>debt_settlement_flag_date</th>\n",
       "      <th>settlement_status</th>\n",
       "      <th>settlement_date</th>\n",
       "      <th>settlement_amount</th>\n",
       "      <th>settlement_percentage</th>\n",
       "      <th>settlement_term</th>\n",
       "    </tr>\n",
       "  </thead>\n",
       "  <tbody>\n",
       "    <tr>\n",
       "      <th>0</th>\n",
       "      <td>145647242</td>\n",
       "      <td>NaN</td>\n",
       "      <td>9600.0</td>\n",
       "      <td>9600.0</td>\n",
       "      <td>9600.0</td>\n",
       "      <td>36</td>\n",
       "      <td>12.98</td>\n",
       "      <td>323.37</td>\n",
       "      <td>B</td>\n",
       "      <td>B5</td>\n",
       "      <td>NaN</td>\n",
       "      <td>NaN</td>\n",
       "      <td>MORTGAGE</td>\n",
       "      <td>35704.0</td>\n",
       "      <td>Not Verified</td>\n",
       "      <td>2018-12-01</td>\n",
       "      <td>Current</td>\n",
       "      <td>n</td>\n",
       "      <td>https://lendingclub.com/browse/loanDetail.acti...</td>\n",
       "      <td>NaN</td>\n",
       "      <td>home_improvement</td>\n",
       "      <td>Home improvement</td>\n",
       "      <td>401xx</td>\n",
       "      <td>KY</td>\n",
       "      <td>0.84</td>\n",
       "      <td>...</td>\n",
       "      <td>NaN</td>\n",
       "      <td>NaN</td>\n",
       "      <td>NaN</td>\n",
       "      <td>N</td>\n",
       "      <td>NaN</td>\n",
       "      <td>NaN</td>\n",
       "      <td>NaN</td>\n",
       "      <td>NaN</td>\n",
       "      <td>NaN</td>\n",
       "      <td>NaN</td>\n",
       "      <td>NaN</td>\n",
       "      <td>NaN</td>\n",
       "      <td>NaN</td>\n",
       "      <td>NaN</td>\n",
       "      <td>NaN</td>\n",
       "      <td>NaN</td>\n",
       "      <td>NaN</td>\n",
       "      <td>NaN</td>\n",
       "      <td>N</td>\n",
       "      <td>NaN</td>\n",
       "      <td>NaN</td>\n",
       "      <td>NaN</td>\n",
       "      <td>NaN</td>\n",
       "      <td>NaN</td>\n",
       "      <td>NaN</td>\n",
       "    </tr>\n",
       "    <tr>\n",
       "      <th>1</th>\n",
       "      <td>145248657</td>\n",
       "      <td>NaN</td>\n",
       "      <td>4000.0</td>\n",
       "      <td>4000.0</td>\n",
       "      <td>4000.0</td>\n",
       "      <td>36</td>\n",
       "      <td>23.40</td>\n",
       "      <td>155.68</td>\n",
       "      <td>E</td>\n",
       "      <td>E1</td>\n",
       "      <td>Security</td>\n",
       "      <td>3 years</td>\n",
       "      <td>RENT</td>\n",
       "      <td>90000.0</td>\n",
       "      <td>Source Verified</td>\n",
       "      <td>2018-12-01</td>\n",
       "      <td>Current</td>\n",
       "      <td>n</td>\n",
       "      <td>https://lendingclub.com/browse/loanDetail.acti...</td>\n",
       "      <td>NaN</td>\n",
       "      <td>debt_consolidation</td>\n",
       "      <td>Debt consolidation</td>\n",
       "      <td>070xx</td>\n",
       "      <td>NJ</td>\n",
       "      <td>26.33</td>\n",
       "      <td>...</td>\n",
       "      <td>NaN</td>\n",
       "      <td>NaN</td>\n",
       "      <td>NaN</td>\n",
       "      <td>N</td>\n",
       "      <td>NaN</td>\n",
       "      <td>NaN</td>\n",
       "      <td>NaN</td>\n",
       "      <td>NaN</td>\n",
       "      <td>NaN</td>\n",
       "      <td>NaN</td>\n",
       "      <td>NaN</td>\n",
       "      <td>NaN</td>\n",
       "      <td>NaN</td>\n",
       "      <td>NaN</td>\n",
       "      <td>NaN</td>\n",
       "      <td>NaN</td>\n",
       "      <td>NaN</td>\n",
       "      <td>NaN</td>\n",
       "      <td>N</td>\n",
       "      <td>NaN</td>\n",
       "      <td>NaN</td>\n",
       "      <td>NaN</td>\n",
       "      <td>NaN</td>\n",
       "      <td>NaN</td>\n",
       "      <td>NaN</td>\n",
       "    </tr>\n",
       "    <tr>\n",
       "      <th>2</th>\n",
       "      <td>145640422</td>\n",
       "      <td>NaN</td>\n",
       "      <td>2500.0</td>\n",
       "      <td>2500.0</td>\n",
       "      <td>2500.0</td>\n",
       "      <td>36</td>\n",
       "      <td>13.56</td>\n",
       "      <td>84.92</td>\n",
       "      <td>C</td>\n",
       "      <td>C1</td>\n",
       "      <td>Chef</td>\n",
       "      <td>10+ years</td>\n",
       "      <td>RENT</td>\n",
       "      <td>55000.0</td>\n",
       "      <td>Not Verified</td>\n",
       "      <td>2018-12-01</td>\n",
       "      <td>Current</td>\n",
       "      <td>n</td>\n",
       "      <td>https://lendingclub.com/browse/loanDetail.acti...</td>\n",
       "      <td>NaN</td>\n",
       "      <td>debt_consolidation</td>\n",
       "      <td>Debt consolidation</td>\n",
       "      <td>109xx</td>\n",
       "      <td>NY</td>\n",
       "      <td>18.24</td>\n",
       "      <td>...</td>\n",
       "      <td>NaN</td>\n",
       "      <td>NaN</td>\n",
       "      <td>NaN</td>\n",
       "      <td>N</td>\n",
       "      <td>NaN</td>\n",
       "      <td>NaN</td>\n",
       "      <td>NaN</td>\n",
       "      <td>NaN</td>\n",
       "      <td>NaN</td>\n",
       "      <td>NaN</td>\n",
       "      <td>NaN</td>\n",
       "      <td>NaN</td>\n",
       "      <td>NaN</td>\n",
       "      <td>NaN</td>\n",
       "      <td>NaN</td>\n",
       "      <td>NaN</td>\n",
       "      <td>NaN</td>\n",
       "      <td>NaN</td>\n",
       "      <td>N</td>\n",
       "      <td>NaN</td>\n",
       "      <td>NaN</td>\n",
       "      <td>NaN</td>\n",
       "      <td>NaN</td>\n",
       "      <td>NaN</td>\n",
       "      <td>NaN</td>\n",
       "    </tr>\n",
       "    <tr>\n",
       "      <th>3</th>\n",
       "      <td>145631930</td>\n",
       "      <td>NaN</td>\n",
       "      <td>30000.0</td>\n",
       "      <td>30000.0</td>\n",
       "      <td>30000.0</td>\n",
       "      <td>60</td>\n",
       "      <td>18.94</td>\n",
       "      <td>777.23</td>\n",
       "      <td>D</td>\n",
       "      <td>D2</td>\n",
       "      <td>Postmaster</td>\n",
       "      <td>10+ years</td>\n",
       "      <td>MORTGAGE</td>\n",
       "      <td>90000.0</td>\n",
       "      <td>Source Verified</td>\n",
       "      <td>2018-12-01</td>\n",
       "      <td>Current</td>\n",
       "      <td>n</td>\n",
       "      <td>https://lendingclub.com/browse/loanDetail.acti...</td>\n",
       "      <td>NaN</td>\n",
       "      <td>debt_consolidation</td>\n",
       "      <td>Debt consolidation</td>\n",
       "      <td>713xx</td>\n",
       "      <td>LA</td>\n",
       "      <td>26.52</td>\n",
       "      <td>...</td>\n",
       "      <td>NaN</td>\n",
       "      <td>NaN</td>\n",
       "      <td>NaN</td>\n",
       "      <td>N</td>\n",
       "      <td>NaN</td>\n",
       "      <td>NaN</td>\n",
       "      <td>NaN</td>\n",
       "      <td>NaN</td>\n",
       "      <td>NaN</td>\n",
       "      <td>NaN</td>\n",
       "      <td>NaN</td>\n",
       "      <td>NaN</td>\n",
       "      <td>NaN</td>\n",
       "      <td>NaN</td>\n",
       "      <td>NaN</td>\n",
       "      <td>NaN</td>\n",
       "      <td>NaN</td>\n",
       "      <td>NaN</td>\n",
       "      <td>N</td>\n",
       "      <td>NaN</td>\n",
       "      <td>NaN</td>\n",
       "      <td>NaN</td>\n",
       "      <td>NaN</td>\n",
       "      <td>NaN</td>\n",
       "      <td>NaN</td>\n",
       "    </tr>\n",
       "    <tr>\n",
       "      <th>4</th>\n",
       "      <td>145638579</td>\n",
       "      <td>NaN</td>\n",
       "      <td>5000.0</td>\n",
       "      <td>5000.0</td>\n",
       "      <td>5000.0</td>\n",
       "      <td>36</td>\n",
       "      <td>17.97</td>\n",
       "      <td>180.69</td>\n",
       "      <td>D</td>\n",
       "      <td>D1</td>\n",
       "      <td>Administrative</td>\n",
       "      <td>6 years</td>\n",
       "      <td>MORTGAGE</td>\n",
       "      <td>59280.0</td>\n",
       "      <td>Source Verified</td>\n",
       "      <td>2018-12-01</td>\n",
       "      <td>Current</td>\n",
       "      <td>n</td>\n",
       "      <td>https://lendingclub.com/browse/loanDetail.acti...</td>\n",
       "      <td>NaN</td>\n",
       "      <td>debt_consolidation</td>\n",
       "      <td>Debt consolidation</td>\n",
       "      <td>490xx</td>\n",
       "      <td>MI</td>\n",
       "      <td>10.51</td>\n",
       "      <td>...</td>\n",
       "      <td>NaN</td>\n",
       "      <td>NaN</td>\n",
       "      <td>NaN</td>\n",
       "      <td>N</td>\n",
       "      <td>NaN</td>\n",
       "      <td>NaN</td>\n",
       "      <td>NaN</td>\n",
       "      <td>NaN</td>\n",
       "      <td>NaN</td>\n",
       "      <td>NaN</td>\n",
       "      <td>NaN</td>\n",
       "      <td>NaN</td>\n",
       "      <td>NaN</td>\n",
       "      <td>NaN</td>\n",
       "      <td>NaN</td>\n",
       "      <td>NaN</td>\n",
       "      <td>NaN</td>\n",
       "      <td>NaN</td>\n",
       "      <td>N</td>\n",
       "      <td>NaN</td>\n",
       "      <td>NaN</td>\n",
       "      <td>NaN</td>\n",
       "      <td>NaN</td>\n",
       "      <td>NaN</td>\n",
       "      <td>NaN</td>\n",
       "    </tr>\n",
       "  </tbody>\n",
       "</table>\n",
       "<p>5 rows × 150 columns</p>\n",
       "</div>"
      ],
      "text/plain": [
       "          id  member_id  loan_amnt  funded_amnt  funded_amnt_inv  term  \\\n",
       "0  145647242        NaN     9600.0       9600.0           9600.0    36   \n",
       "1  145248657        NaN     4000.0       4000.0           4000.0    36   \n",
       "2  145640422        NaN     2500.0       2500.0           2500.0    36   \n",
       "3  145631930        NaN    30000.0      30000.0          30000.0    60   \n",
       "4  145638579        NaN     5000.0       5000.0           5000.0    36   \n",
       "\n",
       "   int_rate  installment grade sub_grade       emp_title emp_length  \\\n",
       "0     12.98       323.37     B        B5             NaN        NaN   \n",
       "1     23.40       155.68     E        E1        Security    3 years   \n",
       "2     13.56        84.92     C        C1            Chef  10+ years   \n",
       "3     18.94       777.23     D        D2     Postmaster   10+ years   \n",
       "4     17.97       180.69     D        D1  Administrative    6 years   \n",
       "\n",
       "  home_ownership  annual_inc verification_status    issue_d loan_status  \\\n",
       "0       MORTGAGE     35704.0        Not Verified 2018-12-01     Current   \n",
       "1           RENT     90000.0     Source Verified 2018-12-01     Current   \n",
       "2           RENT     55000.0        Not Verified 2018-12-01     Current   \n",
       "3       MORTGAGE     90000.0     Source Verified 2018-12-01     Current   \n",
       "4       MORTGAGE     59280.0     Source Verified 2018-12-01     Current   \n",
       "\n",
       "  pymnt_plan                                                url desc  \\\n",
       "0          n  https://lendingclub.com/browse/loanDetail.acti...  NaN   \n",
       "1          n  https://lendingclub.com/browse/loanDetail.acti...  NaN   \n",
       "2          n  https://lendingclub.com/browse/loanDetail.acti...  NaN   \n",
       "3          n  https://lendingclub.com/browse/loanDetail.acti...  NaN   \n",
       "4          n  https://lendingclub.com/browse/loanDetail.acti...  NaN   \n",
       "\n",
       "              purpose               title zip_code addr_state    dti  ...  \\\n",
       "0    home_improvement    Home improvement    401xx         KY   0.84  ...   \n",
       "1  debt_consolidation  Debt consolidation    070xx         NJ  26.33  ...   \n",
       "2  debt_consolidation  Debt consolidation    109xx         NY  18.24  ...   \n",
       "3  debt_consolidation  Debt consolidation    713xx         LA  26.52  ...   \n",
       "4  debt_consolidation  Debt consolidation    490xx         MI  10.51  ...   \n",
       "\n",
       "   sec_app_chargeoff_within_12_mths  sec_app_collections_12_mths_ex_med  \\\n",
       "0                               NaN                                 NaN   \n",
       "1                               NaN                                 NaN   \n",
       "2                               NaN                                 NaN   \n",
       "3                               NaN                                 NaN   \n",
       "4                               NaN                                 NaN   \n",
       "\n",
       "   sec_app_mths_since_last_major_derog  hardship_flag  hardship_type  \\\n",
       "0                                  NaN              N            NaN   \n",
       "1                                  NaN              N            NaN   \n",
       "2                                  NaN              N            NaN   \n",
       "3                                  NaN              N            NaN   \n",
       "4                                  NaN              N            NaN   \n",
       "\n",
       "   hardship_reason  hardship_status  deferral_term  hardship_amount  \\\n",
       "0              NaN              NaN            NaN              NaN   \n",
       "1              NaN              NaN            NaN              NaN   \n",
       "2              NaN              NaN            NaN              NaN   \n",
       "3              NaN              NaN            NaN              NaN   \n",
       "4              NaN              NaN            NaN              NaN   \n",
       "\n",
       "   hardship_start_date  hardship_end_date  payment_plan_start_date  \\\n",
       "0                  NaN                NaN                      NaN   \n",
       "1                  NaN                NaN                      NaN   \n",
       "2                  NaN                NaN                      NaN   \n",
       "3                  NaN                NaN                      NaN   \n",
       "4                  NaN                NaN                      NaN   \n",
       "\n",
       "  hardship_length  hardship_dpd  hardship_loan_status  \\\n",
       "0             NaN           NaN                   NaN   \n",
       "1             NaN           NaN                   NaN   \n",
       "2             NaN           NaN                   NaN   \n",
       "3             NaN           NaN                   NaN   \n",
       "4             NaN           NaN                   NaN   \n",
       "\n",
       "   orig_projected_additional_accrued_interest  hardship_payoff_balance_amount  \\\n",
       "0                                         NaN                             NaN   \n",
       "1                                         NaN                             NaN   \n",
       "2                                         NaN                             NaN   \n",
       "3                                         NaN                             NaN   \n",
       "4                                         NaN                             NaN   \n",
       "\n",
       "   hardship_last_payment_amount  debt_settlement_flag  \\\n",
       "0                           NaN                     N   \n",
       "1                           NaN                     N   \n",
       "2                           NaN                     N   \n",
       "3                           NaN                     N   \n",
       "4                           NaN                     N   \n",
       "\n",
       "   debt_settlement_flag_date  settlement_status  settlement_date  \\\n",
       "0                        NaN                NaN              NaN   \n",
       "1                        NaN                NaN              NaN   \n",
       "2                        NaN                NaN              NaN   \n",
       "3                        NaN                NaN              NaN   \n",
       "4                        NaN                NaN              NaN   \n",
       "\n",
       "  settlement_amount  settlement_percentage settlement_term  \n",
       "0               NaN                    NaN             NaN  \n",
       "1               NaN                    NaN             NaN  \n",
       "2               NaN                    NaN             NaN  \n",
       "3               NaN                    NaN             NaN  \n",
       "4               NaN                    NaN             NaN  \n",
       "\n",
       "[5 rows x 150 columns]"
      ]
     },
     "execution_count": 6,
     "metadata": {},
     "output_type": "execute_result"
    }
   ],
   "source": [
    "df.head()"
   ]
  },
  {
   "cell_type": "code",
   "execution_count": 7,
   "metadata": {},
   "outputs": [
    {
     "data": {
      "text/plain": [
       "(2373594, 150)"
      ]
     },
     "execution_count": 7,
     "metadata": {},
     "output_type": "execute_result"
    }
   ],
   "source": [
    "df.shape"
   ]
  },
  {
   "cell_type": "code",
   "execution_count": 8,
   "metadata": {},
   "outputs": [],
   "source": [
    "# to view all column names\n",
    "#list(df.columns)"
   ]
  },
  {
   "cell_type": "markdown",
   "metadata": {},
   "source": [
    "The dataframe currently holds information not available at the time of investment."
   ]
  },
  {
   "cell_type": "markdown",
   "metadata": {},
   "source": [
    "Enter your LC account info to preview the currently listed loans. From the currently available loans create a list of all available features. These are the features we know we can use in our ML models. Then try to match these features to the ones available in the Lending Club historical data."
   ]
  },
  {
   "cell_type": "code",
   "execution_count": 9,
   "metadata": {},
   "outputs": [],
   "source": [
    "api_key =  {'Authorization': ''} # put your api key here\n",
    "investor_id = '' # put your account id here\n",
    "\n",
    "# get loan listings data\n",
    "loans = 'https://api.lendingclub.com/api/investor/v1/loans/listing'\n",
    "res = requests.get(loans, headers=api_key)\n",
    "data = json.loads(res.text)\n",
    "\n",
    "# grabs the available features\n",
    "avail_cols = list(data['loans'][0].keys())"
   ]
  },
  {
   "cell_type": "code",
   "execution_count": 10,
   "metadata": {},
   "outputs": [],
   "source": [
    "# to view columns from the listings api\n",
    "#avail_cols"
   ]
  },
  {
   "cell_type": "markdown",
   "metadata": {},
   "source": [
    "Feature names from the api differ from the historical data. Since it's mostly slight formatting differences regex functions will be used to match column names. A dictionary is created to map other feature names from the api to the historical data. Some of the features mapped in the dictionary could also be matched using regex"
   ]
  },
  {
   "cell_type": "code",
   "execution_count": 11,
   "metadata": {},
   "outputs": [],
   "source": [
    "to_map = {'secAppCollections12MthsExMed': 'sec_app_collections_12_mths_ex_med',\n",
    "          'secAppInqLast6Mths': 'sec_app_inq_last_6mths',\n",
    "          'numAcctsEver120Ppd': 'num_accts_ever_120_pd',\n",
    "          'inqLast6Mths': 'inq_last_6mths',\n",
    "          'numTl120dpd2m': 'num_tl_120dpd_2m',\n",
    "          'numTl30dpd': 'num_tl_30dpd',\n",
    "          'numTl90gDpd24m': 'num_tl_90g_dpd_24m',\n",
    "          'numTlOpPast12m': 'num_tl_op_past_12m',\n",
    "          'collections12MthsExMed': 'collections_12_mths_ex_med',\n",
    "          'isIncV': 'verification_status',\n",
    "          'isIncVJoint': 'verification_status_joint',\n",
    "          'openIl12m': 'open_il_12m',\n",
    "          'openIl24m': 'open_il_24m',\n",
    "          'openRv12m': 'open_rv_12m',\n",
    "          'openRv24m': 'open_rv_24m',\n",
    "          'secAppChargeoffWithin12Mths': 'sec_app_chargeoff_within_12_mths',\n",
    "          'addrZip': 'zip_code',\n",
    "          'accOpenPast24Mths': 'acc_open_past_24mths',\n",
    "          'chargeoffWithin12Mths': 'chargeoff_within_12_mths',\n",
    "          'inqLast12m': 'inq_last_12m',\n",
    "          'delinq2Yrs': 'delinq_2yrs',\n",
    "          'percentBcGt75': 'percent_bc_gt_75',\n",
    "          'loanAmount': 'loan_amnt',\n",
    "          'iLUtil': 'il_util',          \n",
    "         }\n",
    "\n",
    "# cols w info regarding loan performace from LC dataset\n",
    "# this will get stored with the data used for modeling so we can see returns on investment later\n",
    "cols_of_interest = ['issue_d','loan_status','total_pymnt', 'total_rec_int','total_rec_late_fee','total_rec_prncp']\n",
    "\n",
    "# cols dropped from the listed loans features (these features are not in historical data)\n",
    "to_drop = ['reviewStatus', 'housingPayment', 'creditPullD', 'ilsExpD', 'mtgPayment', 'expD', 'acceptD',\n",
    "          'investorCount','serviceFeeRate', 'disbursementMethod', 'listD', 'expDefaultRate',\n",
    "          'reviewStatusD','fundedAmount']"
   ]
  },
  {
   "cell_type": "markdown",
   "metadata": {},
   "source": [
    "The next block calls the lendingclub api to get a list of available loans. From this we get the available features to use for our models. You can use your api key and investor id."
   ]
  },
  {
   "cell_type": "code",
   "execution_count": 12,
   "metadata": {},
   "outputs": [],
   "source": [
    "# performs feature matching between features from api call and features from dataset\n",
    "# some features were easy to match with regex but for others is was quick to manually write mapping\n",
    "# this can probably be clean up further\n",
    "api_cols = []\n",
    "for col in avail_cols:\n",
    "    if col in list(to_map.keys()):\n",
    "        new_col = to_map[col]\n",
    "        api_cols.append(new_col)\n",
    "        continue\n",
    "    if col in to_drop:\n",
    "        continue\n",
    "    new_col = re.sub(r'([A-Z])', r'_\\1', col).lower()\n",
    "    new_col = re.sub(r'([0-9])+', r'_\\1', new_col).lower()\n",
    "    api_cols.append(new_col)"
   ]
  },
  {
   "cell_type": "code",
   "execution_count": 13,
   "metadata": {},
   "outputs": [
    {
     "data": {
      "text/plain": [
       "['id',\n",
       " 'member_id',\n",
       " 'loan_amnt',\n",
       " 'term',\n",
       " 'int_rate',\n",
       " 'installment',\n",
       " 'grade',\n",
       " 'sub_grade',\n",
       " 'emp_length',\n",
       " 'home_ownership']"
      ]
     },
     "execution_count": 13,
     "metadata": {},
     "output_type": "execute_result"
    }
   ],
   "source": [
    "api_cols[:10]"
   ]
  },
  {
   "cell_type": "code",
   "execution_count": 14,
   "metadata": {},
   "outputs": [
    {
     "data": {
      "text/plain": [
       "105"
      ]
     },
     "execution_count": 14,
     "metadata": {},
     "output_type": "execute_result"
    }
   ],
   "source": [
    "len(api_cols)"
   ]
  },
  {
   "cell_type": "markdown",
   "metadata": {},
   "source": [
    "api_cols is a list of usable features from the api call listed the feature names in the historical data. Now reassign the dataframe into a df with only the features we want."
   ]
  },
  {
   "cell_type": "code",
   "execution_count": 15,
   "metadata": {},
   "outputs": [],
   "source": [
    "df = df[api_cols+cols_of_interest]"
   ]
  },
  {
   "cell_type": "code",
   "execution_count": 16,
   "metadata": {},
   "outputs": [
    {
     "data": {
      "text/html": [
       "<div>\n",
       "<style scoped>\n",
       "    .dataframe tbody tr th:only-of-type {\n",
       "        vertical-align: middle;\n",
       "    }\n",
       "\n",
       "    .dataframe tbody tr th {\n",
       "        vertical-align: top;\n",
       "    }\n",
       "\n",
       "    .dataframe thead th {\n",
       "        text-align: right;\n",
       "    }\n",
       "</style>\n",
       "<table border=\"1\" class=\"dataframe\">\n",
       "  <thead>\n",
       "    <tr style=\"text-align: right;\">\n",
       "      <th></th>\n",
       "      <th>id</th>\n",
       "      <th>member_id</th>\n",
       "      <th>loan_amnt</th>\n",
       "      <th>term</th>\n",
       "      <th>int_rate</th>\n",
       "      <th>installment</th>\n",
       "      <th>grade</th>\n",
       "      <th>sub_grade</th>\n",
       "      <th>emp_length</th>\n",
       "      <th>home_ownership</th>\n",
       "      <th>annual_inc</th>\n",
       "      <th>verification_status</th>\n",
       "      <th>desc</th>\n",
       "      <th>purpose</th>\n",
       "      <th>zip_code</th>\n",
       "      <th>addr_state</th>\n",
       "      <th>initial_list_status</th>\n",
       "      <th>emp_title</th>\n",
       "      <th>acc_now_delinq</th>\n",
       "      <th>acc_open_past_24mths</th>\n",
       "      <th>bc_open_to_buy</th>\n",
       "      <th>percent_bc_gt_75</th>\n",
       "      <th>bc_util</th>\n",
       "      <th>dti</th>\n",
       "      <th>delinq_2yrs</th>\n",
       "      <th>...</th>\n",
       "      <th>max_bal_bc</th>\n",
       "      <th>all_util</th>\n",
       "      <th>inq_fi</th>\n",
       "      <th>total_cu_tl</th>\n",
       "      <th>inq_last_12m</th>\n",
       "      <th>sec_app_fico_range_low</th>\n",
       "      <th>sec_app_fico_range_high</th>\n",
       "      <th>sec_app_earliest_cr_line</th>\n",
       "      <th>sec_app_inq_last_6mths</th>\n",
       "      <th>sec_app_mort_acc</th>\n",
       "      <th>sec_app_open_acc</th>\n",
       "      <th>sec_app_revol_util</th>\n",
       "      <th>sec_app_num_rev_accts</th>\n",
       "      <th>sec_app_chargeoff_within_12_mths</th>\n",
       "      <th>sec_app_collections_12_mths_ex_med</th>\n",
       "      <th>sec_app_mths_since_last_major_derog</th>\n",
       "      <th>revol_bal_joint</th>\n",
       "      <th>open_act_il</th>\n",
       "      <th>sec_app_open_act_il</th>\n",
       "      <th>issue_d</th>\n",
       "      <th>loan_status</th>\n",
       "      <th>total_pymnt</th>\n",
       "      <th>total_rec_int</th>\n",
       "      <th>total_rec_late_fee</th>\n",
       "      <th>total_rec_prncp</th>\n",
       "    </tr>\n",
       "  </thead>\n",
       "  <tbody>\n",
       "    <tr>\n",
       "      <th>0</th>\n",
       "      <td>145647242</td>\n",
       "      <td>NaN</td>\n",
       "      <td>9600.0</td>\n",
       "      <td>36</td>\n",
       "      <td>12.98</td>\n",
       "      <td>323.37</td>\n",
       "      <td>B</td>\n",
       "      <td>B5</td>\n",
       "      <td>NaN</td>\n",
       "      <td>MORTGAGE</td>\n",
       "      <td>35704.0</td>\n",
       "      <td>Not Verified</td>\n",
       "      <td>NaN</td>\n",
       "      <td>home_improvement</td>\n",
       "      <td>401xx</td>\n",
       "      <td>KY</td>\n",
       "      <td>w</td>\n",
       "      <td>NaN</td>\n",
       "      <td>0.0</td>\n",
       "      <td>3.0</td>\n",
       "      <td>3452.0</td>\n",
       "      <td>0.0</td>\n",
       "      <td>17.8</td>\n",
       "      <td>0.84</td>\n",
       "      <td>0.0</td>\n",
       "      <td>...</td>\n",
       "      <td>748.0</td>\n",
       "      <td>12.0</td>\n",
       "      <td>0.0</td>\n",
       "      <td>0.0</td>\n",
       "      <td>1.0</td>\n",
       "      <td>NaN</td>\n",
       "      <td>NaN</td>\n",
       "      <td>NaN</td>\n",
       "      <td>NaN</td>\n",
       "      <td>NaN</td>\n",
       "      <td>NaN</td>\n",
       "      <td>NaN</td>\n",
       "      <td>NaN</td>\n",
       "      <td>NaN</td>\n",
       "      <td>NaN</td>\n",
       "      <td>NaN</td>\n",
       "      <td>NaN</td>\n",
       "      <td>0.0</td>\n",
       "      <td>NaN</td>\n",
       "      <td>2018-12-01</td>\n",
       "      <td>Current</td>\n",
       "      <td>1317.72</td>\n",
       "      <td>425.24</td>\n",
       "      <td>0.0</td>\n",
       "      <td>892.48</td>\n",
       "    </tr>\n",
       "    <tr>\n",
       "      <th>1</th>\n",
       "      <td>145248657</td>\n",
       "      <td>NaN</td>\n",
       "      <td>4000.0</td>\n",
       "      <td>36</td>\n",
       "      <td>23.40</td>\n",
       "      <td>155.68</td>\n",
       "      <td>E</td>\n",
       "      <td>E1</td>\n",
       "      <td>3 years</td>\n",
       "      <td>RENT</td>\n",
       "      <td>90000.0</td>\n",
       "      <td>Source Verified</td>\n",
       "      <td>NaN</td>\n",
       "      <td>debt_consolidation</td>\n",
       "      <td>070xx</td>\n",
       "      <td>NJ</td>\n",
       "      <td>w</td>\n",
       "      <td>Security</td>\n",
       "      <td>0.0</td>\n",
       "      <td>15.0</td>\n",
       "      <td>20174.0</td>\n",
       "      <td>0.0</td>\n",
       "      <td>7.9</td>\n",
       "      <td>26.33</td>\n",
       "      <td>0.0</td>\n",
       "      <td>...</td>\n",
       "      <td>1353.0</td>\n",
       "      <td>68.0</td>\n",
       "      <td>4.0</td>\n",
       "      <td>0.0</td>\n",
       "      <td>4.0</td>\n",
       "      <td>NaN</td>\n",
       "      <td>NaN</td>\n",
       "      <td>NaN</td>\n",
       "      <td>NaN</td>\n",
       "      <td>NaN</td>\n",
       "      <td>NaN</td>\n",
       "      <td>NaN</td>\n",
       "      <td>NaN</td>\n",
       "      <td>NaN</td>\n",
       "      <td>NaN</td>\n",
       "      <td>NaN</td>\n",
       "      <td>NaN</td>\n",
       "      <td>4.0</td>\n",
       "      <td>NaN</td>\n",
       "      <td>2018-12-01</td>\n",
       "      <td>Current</td>\n",
       "      <td>770.60</td>\n",
       "      <td>366.75</td>\n",
       "      <td>0.0</td>\n",
       "      <td>403.85</td>\n",
       "    </tr>\n",
       "    <tr>\n",
       "      <th>2</th>\n",
       "      <td>145640422</td>\n",
       "      <td>NaN</td>\n",
       "      <td>2500.0</td>\n",
       "      <td>36</td>\n",
       "      <td>13.56</td>\n",
       "      <td>84.92</td>\n",
       "      <td>C</td>\n",
       "      <td>C1</td>\n",
       "      <td>10+ years</td>\n",
       "      <td>RENT</td>\n",
       "      <td>55000.0</td>\n",
       "      <td>Not Verified</td>\n",
       "      <td>NaN</td>\n",
       "      <td>debt_consolidation</td>\n",
       "      <td>109xx</td>\n",
       "      <td>NY</td>\n",
       "      <td>w</td>\n",
       "      <td>Chef</td>\n",
       "      <td>0.0</td>\n",
       "      <td>9.0</td>\n",
       "      <td>34360.0</td>\n",
       "      <td>0.0</td>\n",
       "      <td>5.9</td>\n",
       "      <td>18.24</td>\n",
       "      <td>0.0</td>\n",
       "      <td>...</td>\n",
       "      <td>2137.0</td>\n",
       "      <td>28.0</td>\n",
       "      <td>1.0</td>\n",
       "      <td>11.0</td>\n",
       "      <td>2.0</td>\n",
       "      <td>NaN</td>\n",
       "      <td>NaN</td>\n",
       "      <td>NaN</td>\n",
       "      <td>NaN</td>\n",
       "      <td>NaN</td>\n",
       "      <td>NaN</td>\n",
       "      <td>NaN</td>\n",
       "      <td>NaN</td>\n",
       "      <td>NaN</td>\n",
       "      <td>NaN</td>\n",
       "      <td>NaN</td>\n",
       "      <td>NaN</td>\n",
       "      <td>2.0</td>\n",
       "      <td>NaN</td>\n",
       "      <td>2018-12-01</td>\n",
       "      <td>Current</td>\n",
       "      <td>421.78</td>\n",
       "      <td>131.95</td>\n",
       "      <td>0.0</td>\n",
       "      <td>289.83</td>\n",
       "    </tr>\n",
       "    <tr>\n",
       "      <th>3</th>\n",
       "      <td>145631930</td>\n",
       "      <td>NaN</td>\n",
       "      <td>30000.0</td>\n",
       "      <td>60</td>\n",
       "      <td>18.94</td>\n",
       "      <td>777.23</td>\n",
       "      <td>D</td>\n",
       "      <td>D2</td>\n",
       "      <td>10+ years</td>\n",
       "      <td>MORTGAGE</td>\n",
       "      <td>90000.0</td>\n",
       "      <td>Source Verified</td>\n",
       "      <td>NaN</td>\n",
       "      <td>debt_consolidation</td>\n",
       "      <td>713xx</td>\n",
       "      <td>LA</td>\n",
       "      <td>w</td>\n",
       "      <td>Postmaster</td>\n",
       "      <td>0.0</td>\n",
       "      <td>10.0</td>\n",
       "      <td>13761.0</td>\n",
       "      <td>0.0</td>\n",
       "      <td>8.3</td>\n",
       "      <td>26.52</td>\n",
       "      <td>0.0</td>\n",
       "      <td>...</td>\n",
       "      <td>998.0</td>\n",
       "      <td>57.0</td>\n",
       "      <td>2.0</td>\n",
       "      <td>15.0</td>\n",
       "      <td>2.0</td>\n",
       "      <td>NaN</td>\n",
       "      <td>NaN</td>\n",
       "      <td>NaN</td>\n",
       "      <td>NaN</td>\n",
       "      <td>NaN</td>\n",
       "      <td>NaN</td>\n",
       "      <td>NaN</td>\n",
       "      <td>NaN</td>\n",
       "      <td>NaN</td>\n",
       "      <td>NaN</td>\n",
       "      <td>NaN</td>\n",
       "      <td>NaN</td>\n",
       "      <td>4.0</td>\n",
       "      <td>NaN</td>\n",
       "      <td>2018-12-01</td>\n",
       "      <td>Current</td>\n",
       "      <td>11338.80</td>\n",
       "      <td>2210.86</td>\n",
       "      <td>0.0</td>\n",
       "      <td>9127.94</td>\n",
       "    </tr>\n",
       "    <tr>\n",
       "      <th>4</th>\n",
       "      <td>145638579</td>\n",
       "      <td>NaN</td>\n",
       "      <td>5000.0</td>\n",
       "      <td>36</td>\n",
       "      <td>17.97</td>\n",
       "      <td>180.69</td>\n",
       "      <td>D</td>\n",
       "      <td>D1</td>\n",
       "      <td>6 years</td>\n",
       "      <td>MORTGAGE</td>\n",
       "      <td>59280.0</td>\n",
       "      <td>Source Verified</td>\n",
       "      <td>NaN</td>\n",
       "      <td>debt_consolidation</td>\n",
       "      <td>490xx</td>\n",
       "      <td>MI</td>\n",
       "      <td>w</td>\n",
       "      <td>Administrative</td>\n",
       "      <td>0.0</td>\n",
       "      <td>4.0</td>\n",
       "      <td>13800.0</td>\n",
       "      <td>0.0</td>\n",
       "      <td>0.0</td>\n",
       "      <td>10.51</td>\n",
       "      <td>0.0</td>\n",
       "      <td>...</td>\n",
       "      <td>0.0</td>\n",
       "      <td>35.0</td>\n",
       "      <td>1.0</td>\n",
       "      <td>5.0</td>\n",
       "      <td>0.0</td>\n",
       "      <td>NaN</td>\n",
       "      <td>NaN</td>\n",
       "      <td>NaN</td>\n",
       "      <td>NaN</td>\n",
       "      <td>NaN</td>\n",
       "      <td>NaN</td>\n",
       "      <td>NaN</td>\n",
       "      <td>NaN</td>\n",
       "      <td>NaN</td>\n",
       "      <td>NaN</td>\n",
       "      <td>NaN</td>\n",
       "      <td>NaN</td>\n",
       "      <td>1.0</td>\n",
       "      <td>NaN</td>\n",
       "      <td>2018-12-01</td>\n",
       "      <td>Current</td>\n",
       "      <td>715.27</td>\n",
       "      <td>282.84</td>\n",
       "      <td>0.0</td>\n",
       "      <td>432.43</td>\n",
       "    </tr>\n",
       "  </tbody>\n",
       "</table>\n",
       "<p>5 rows × 111 columns</p>\n",
       "</div>"
      ],
      "text/plain": [
       "          id  member_id  loan_amnt  term  int_rate  installment grade  \\\n",
       "0  145647242        NaN     9600.0    36     12.98       323.37     B   \n",
       "1  145248657        NaN     4000.0    36     23.40       155.68     E   \n",
       "2  145640422        NaN     2500.0    36     13.56        84.92     C   \n",
       "3  145631930        NaN    30000.0    60     18.94       777.23     D   \n",
       "4  145638579        NaN     5000.0    36     17.97       180.69     D   \n",
       "\n",
       "  sub_grade emp_length home_ownership  annual_inc verification_status desc  \\\n",
       "0        B5        NaN       MORTGAGE     35704.0        Not Verified  NaN   \n",
       "1        E1    3 years           RENT     90000.0     Source Verified  NaN   \n",
       "2        C1  10+ years           RENT     55000.0        Not Verified  NaN   \n",
       "3        D2  10+ years       MORTGAGE     90000.0     Source Verified  NaN   \n",
       "4        D1    6 years       MORTGAGE     59280.0     Source Verified  NaN   \n",
       "\n",
       "              purpose zip_code addr_state initial_list_status       emp_title  \\\n",
       "0    home_improvement    401xx         KY                   w             NaN   \n",
       "1  debt_consolidation    070xx         NJ                   w        Security   \n",
       "2  debt_consolidation    109xx         NY                   w            Chef   \n",
       "3  debt_consolidation    713xx         LA                   w     Postmaster    \n",
       "4  debt_consolidation    490xx         MI                   w  Administrative   \n",
       "\n",
       "   acc_now_delinq  acc_open_past_24mths  bc_open_to_buy  percent_bc_gt_75  \\\n",
       "0             0.0                   3.0          3452.0               0.0   \n",
       "1             0.0                  15.0         20174.0               0.0   \n",
       "2             0.0                   9.0         34360.0               0.0   \n",
       "3             0.0                  10.0         13761.0               0.0   \n",
       "4             0.0                   4.0         13800.0               0.0   \n",
       "\n",
       "   bc_util    dti  delinq_2yrs  ...  max_bal_bc  all_util  inq_fi  \\\n",
       "0     17.8   0.84          0.0  ...       748.0      12.0     0.0   \n",
       "1      7.9  26.33          0.0  ...      1353.0      68.0     4.0   \n",
       "2      5.9  18.24          0.0  ...      2137.0      28.0     1.0   \n",
       "3      8.3  26.52          0.0  ...       998.0      57.0     2.0   \n",
       "4      0.0  10.51          0.0  ...         0.0      35.0     1.0   \n",
       "\n",
       "   total_cu_tl  inq_last_12m  sec_app_fico_range_low  sec_app_fico_range_high  \\\n",
       "0          0.0           1.0                     NaN                      NaN   \n",
       "1          0.0           4.0                     NaN                      NaN   \n",
       "2         11.0           2.0                     NaN                      NaN   \n",
       "3         15.0           2.0                     NaN                      NaN   \n",
       "4          5.0           0.0                     NaN                      NaN   \n",
       "\n",
       "   sec_app_earliest_cr_line  sec_app_inq_last_6mths  sec_app_mort_acc  \\\n",
       "0                       NaN                     NaN               NaN   \n",
       "1                       NaN                     NaN               NaN   \n",
       "2                       NaN                     NaN               NaN   \n",
       "3                       NaN                     NaN               NaN   \n",
       "4                       NaN                     NaN               NaN   \n",
       "\n",
       "   sec_app_open_acc  sec_app_revol_util  sec_app_num_rev_accts  \\\n",
       "0               NaN                 NaN                    NaN   \n",
       "1               NaN                 NaN                    NaN   \n",
       "2               NaN                 NaN                    NaN   \n",
       "3               NaN                 NaN                    NaN   \n",
       "4               NaN                 NaN                    NaN   \n",
       "\n",
       "   sec_app_chargeoff_within_12_mths  sec_app_collections_12_mths_ex_med  \\\n",
       "0                               NaN                                 NaN   \n",
       "1                               NaN                                 NaN   \n",
       "2                               NaN                                 NaN   \n",
       "3                               NaN                                 NaN   \n",
       "4                               NaN                                 NaN   \n",
       "\n",
       "   sec_app_mths_since_last_major_derog  revol_bal_joint  open_act_il  \\\n",
       "0                                  NaN              NaN          0.0   \n",
       "1                                  NaN              NaN          4.0   \n",
       "2                                  NaN              NaN          2.0   \n",
       "3                                  NaN              NaN          4.0   \n",
       "4                                  NaN              NaN          1.0   \n",
       "\n",
       "   sec_app_open_act_il    issue_d  loan_status  total_pymnt  total_rec_int  \\\n",
       "0                  NaN 2018-12-01      Current      1317.72         425.24   \n",
       "1                  NaN 2018-12-01      Current       770.60         366.75   \n",
       "2                  NaN 2018-12-01      Current       421.78         131.95   \n",
       "3                  NaN 2018-12-01      Current     11338.80        2210.86   \n",
       "4                  NaN 2018-12-01      Current       715.27         282.84   \n",
       "\n",
       "   total_rec_late_fee  total_rec_prncp  \n",
       "0                 0.0           892.48  \n",
       "1                 0.0           403.85  \n",
       "2                 0.0           289.83  \n",
       "3                 0.0          9127.94  \n",
       "4                 0.0           432.43  \n",
       "\n",
       "[5 rows x 111 columns]"
      ]
     },
     "execution_count": 16,
     "metadata": {},
     "output_type": "execute_result"
    }
   ],
   "source": [
    "df.head()"
   ]
  },
  {
   "cell_type": "code",
   "execution_count": 17,
   "metadata": {},
   "outputs": [],
   "source": [
    "# save data\n",
    "df.to_pickle('clean_data/prelim-all.pkl')"
   ]
  },
  {
   "cell_type": "markdown",
   "metadata": {},
   "source": [
    "Next create train/val/test splits. Since only historical data will be avaible when choosing which loans to invest in, I chose to split the data by date. For simplicity only use 36m term loans instead of both 36 and 60m.\n",
    "\n",
    "Most recent data is Q1 2019 so 36m loans from Q1 2016 and earlier should be fully paid off or confirmed default by now. This most recent loan data from Q2 2015- Q1 2016 will be used as the test set.\n",
    "\n",
    "Validation set will have loans from Q2 2014- Q1 2015\n",
    "\n",
    "Train set will have loans from Q1 2014 and earlier"
   ]
  },
  {
   "cell_type": "code",
   "execution_count": 41,
   "metadata": {},
   "outputs": [],
   "source": [
    "df = pd.read_pickle('clean_data/prelim-all.pkl')"
   ]
  },
  {
   "cell_type": "code",
   "execution_count": 42,
   "metadata": {},
   "outputs": [],
   "source": [
    "# restrict to 36m loans\n",
    "df = df[df['term']==36]"
   ]
  },
  {
   "cell_type": "code",
   "execution_count": 43,
   "metadata": {},
   "outputs": [
    {
     "data": {
      "text/plain": [
       "(1685745, 111)"
      ]
     },
     "execution_count": 43,
     "metadata": {},
     "output_type": "execute_result"
    }
   ],
   "source": [
    "df.shape"
   ]
  },
  {
   "cell_type": "code",
   "execution_count": 44,
   "metadata": {},
   "outputs": [
    {
     "data": {
      "text/plain": [
       "(Timestamp('2015-04-01 00:00:00'), Timestamp('2016-03-01 00:00:00'))"
      ]
     },
     "execution_count": 44,
     "metadata": {},
     "output_type": "execute_result"
    }
   ],
   "source": [
    "test_end = pd.datetime(2016,3,1)\n",
    "test_start = pd.datetime(2015,3,1)\n",
    "test_df = df[(df['issue_d'] > test_start) & (df['issue_d'] <= test_end)]\n",
    "\n",
    "# verify start and end dates for test data\n",
    "test_df.issue_d.min(), test_df.issue_d.max()"
   ]
  },
  {
   "cell_type": "code",
   "execution_count": 45,
   "metadata": {},
   "outputs": [
    {
     "data": {
      "text/plain": [
       "(Timestamp('2014-04-01 00:00:00'), Timestamp('2015-03-01 00:00:00'))"
      ]
     },
     "execution_count": 45,
     "metadata": {},
     "output_type": "execute_result"
    }
   ],
   "source": [
    "val_end = pd.datetime(2015,3,1)\n",
    "val_start = pd.datetime(2014,3,1)\n",
    "val_df = df[(df['issue_d'] > val_start) & (df['issue_d'] <= val_end)]\n",
    "\n",
    "# verify start and end dates for test data\n",
    "val_df.issue_d.min(), val_df.issue_d.max()"
   ]
  },
  {
   "cell_type": "code",
   "execution_count": 46,
   "metadata": {},
   "outputs": [
    {
     "data": {
      "text/plain": [
       "(Timestamp('2007-06-01 00:00:00'), Timestamp('2014-03-01 00:00:00'))"
      ]
     },
     "execution_count": 46,
     "metadata": {},
     "output_type": "execute_result"
    }
   ],
   "source": [
    "train_end = pd.datetime(2014,3,1)\n",
    "train_df = df[df['issue_d'] <= train_end]\n",
    "\n",
    "# verify start and end dates for test data\n",
    "train_df.issue_d.min(), train_df.issue_d.max()"
   ]
  },
  {
   "cell_type": "markdown",
   "metadata": {},
   "source": [
    "Verify no test or val loans leak into train data. Testing intersection between sets much faster than finding overlap between lists of ids."
   ]
  },
  {
   "cell_type": "code",
   "execution_count": 47,
   "metadata": {},
   "outputs": [],
   "source": [
    "train_ids = set(train_df.id)\n",
    "val_ids = set(val_df.id)\n",
    "test_ids = set(test_df.id)"
   ]
  },
  {
   "cell_type": "code",
   "execution_count": 48,
   "metadata": {},
   "outputs": [
    {
     "data": {
      "text/plain": [
       "set()"
      ]
     },
     "execution_count": 48,
     "metadata": {},
     "output_type": "execute_result"
    }
   ],
   "source": [
    "train_ids.intersection(val_ids)"
   ]
  },
  {
   "cell_type": "code",
   "execution_count": 49,
   "metadata": {},
   "outputs": [
    {
     "data": {
      "text/plain": [
       "set()"
      ]
     },
     "execution_count": 49,
     "metadata": {},
     "output_type": "execute_result"
    }
   ],
   "source": [
    "train_ids.intersection(test_ids)"
   ]
  },
  {
   "cell_type": "code",
   "execution_count": 50,
   "metadata": {},
   "outputs": [
    {
     "data": {
      "text/plain": [
       "set()"
      ]
     },
     "execution_count": 50,
     "metadata": {},
     "output_type": "execute_result"
    }
   ],
   "source": [
    "val_ids.intersection(test_ids)"
   ]
  },
  {
   "cell_type": "markdown",
   "metadata": {},
   "source": [
    "Check loan status within each data split."
   ]
  },
  {
   "cell_type": "code",
   "execution_count": 51,
   "metadata": {},
   "outputs": [
    {
     "data": {
      "text/plain": [
       "Fully Paid     181170\n",
       "Charged Off     25892\n",
       "Name: loan_status, dtype: int64"
      ]
     },
     "execution_count": 51,
     "metadata": {},
     "output_type": "execute_result"
    }
   ],
   "source": [
    "train_df['loan_status'].value_counts()"
   ]
  },
  {
   "cell_type": "code",
   "execution_count": 52,
   "metadata": {},
   "outputs": [
    {
     "data": {
      "text/plain": [
       "Fully Paid     158743\n",
       "Charged Off     26322\n",
       "Name: loan_status, dtype: int64"
      ]
     },
     "execution_count": 52,
     "metadata": {},
     "output_type": "execute_result"
    }
   ],
   "source": [
    "val_df['loan_status'].value_counts()"
   ]
  },
  {
   "cell_type": "code",
   "execution_count": 53,
   "metadata": {},
   "outputs": [
    {
     "data": {
      "text/plain": [
       "Fully Paid            273746\n",
       "Charged Off            48567\n",
       "Late (31-120 days)       223\n",
       "Current                  161\n",
       "In Grace Period           16\n",
       "Late (16-30 days)         10\n",
       "Default                    1\n",
       "Name: loan_status, dtype: int64"
      ]
     },
     "execution_count": 53,
     "metadata": {},
     "output_type": "execute_result"
    }
   ],
   "source": [
    "test_df['loan_status'].value_counts()"
   ]
  },
  {
   "cell_type": "code",
   "execution_count": 54,
   "metadata": {},
   "outputs": [],
   "source": [
    "# for simplicity\n",
    "test_df = test_df[(test_df['loan_status']=='Fully Paid')|(test_df['loan_status']=='Charged Off')]"
   ]
  },
  {
   "cell_type": "code",
   "execution_count": 55,
   "metadata": {},
   "outputs": [
    {
     "data": {
      "text/plain": [
       "Fully Paid     273746\n",
       "Charged Off     48567\n",
       "Name: loan_status, dtype: int64"
      ]
     },
     "execution_count": 55,
     "metadata": {},
     "output_type": "execute_result"
    }
   ],
   "source": [
    "test_df['loan_status'].value_counts()"
   ]
  },
  {
   "cell_type": "code",
   "execution_count": 56,
   "metadata": {},
   "outputs": [],
   "source": [
    "train_df.to_pickle('data/api_train_df.pkl')\n",
    "val_df.to_pickle('data/api_val_df.pkl')\n",
    "test_df.to_pickle('data/api_test_df.pkl')"
   ]
  }
 ],
 "metadata": {
  "kernelspec": {
   "display_name": "Python [conda env:lending_club]",
   "language": "python",
   "name": "conda-env-lending_club-py"
  },
  "language_info": {
   "codemirror_mode": {
    "name": "ipython",
    "version": 3
   },
   "file_extension": ".py",
   "mimetype": "text/x-python",
   "name": "python",
   "nbconvert_exporter": "python",
   "pygments_lexer": "ipython3",
   "version": "3.7.3"
  }
 },
 "nbformat": 4,
 "nbformat_minor": 2
}
