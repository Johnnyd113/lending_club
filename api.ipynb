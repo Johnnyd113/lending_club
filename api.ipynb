{
 "cells": [
  {
   "cell_type": "code",
   "execution_count": 25,
   "metadata": {},
   "outputs": [],
   "source": [
    "import requests\n",
    "from requests.auth import HTTPDigestAuth\n",
    "import json\n",
    "\n",
    "api_key =  {'Authorization': 'JX4Wu5IqtrfKwUqUIHAikOoEoNQ='}\n",
    "\n",
    "investor_id = '124665850'\n",
    "SubResource = 'summary'"
   ]
  },
  {
   "cell_type": "code",
   "execution_count": 40,
   "metadata": {},
   "outputs": [],
   "source": [
    "url = f'https://api.lendingclub.com/api/investor/v1/accounts/{investor_id}/{SubResource}'"
   ]
  },
  {
   "cell_type": "code",
   "execution_count": 41,
   "metadata": {},
   "outputs": [
    {
     "data": {
      "text/plain": [
       "'https://api.lendingclub.com/api/investor/v1/accounts/124665850/summary'"
      ]
     },
     "execution_count": 41,
     "metadata": {},
     "output_type": "execute_result"
    }
   ],
   "source": [
    "url"
   ]
  },
  {
   "cell_type": "code",
   "execution_count": 44,
   "metadata": {},
   "outputs": [],
   "source": [
    "myResponse = requests.get(url,headers=api_key)"
   ]
  },
  {
   "cell_type": "code",
   "execution_count": 81,
   "metadata": {},
   "outputs": [
    {
     "data": {
      "text/plain": [
       "'{\"investorId\":124665850,\"availableCash\":224.48,\"accountTotal\":1906.52,\"accruedInterest\":12.17,\"infundingBalance\":0,\"receivedInterest\":680.04,\"receivedPrincipal\":2793.02,\"receivedLateFees\":1.13,\"outstandingPrincipal\":1682.04,\"totalNotes\":185,\"totalPortfolios\":1,\"netAnnualizedReturn\":{\"primaryNAR\":0.1018,\"primaryAdjustedNAR\":0.0846,\"primaryUserAdjustedNAR\":0.1018,\"tradedNAR\":null,\"tradedAdjustedNAR\":null,\"tradedUserAdjustedNAR\":null,\"combinedNAR\":0.1018,\"combinedAdjustedNAR\":0.0846,\"combinedUserAdjustedNAR\":0.1018},\"adjustments\":{\"adjustmentForPastDueNotes\":78.41,\"userAdjustmentForPastDueNotes\":null}}'"
      ]
     },
     "execution_count": 81,
     "metadata": {},
     "output_type": "execute_result"
    }
   ],
   "source": [
    "myResponse.text"
   ]
  },
  {
   "cell_type": "code",
   "execution_count": 85,
   "metadata": {},
   "outputs": [],
   "source": [
    "loans = 'https://api.lendingclub.com/api/investor/v1/loans/listing'\n",
    "res = requests.get(loans, headers=api_key)\n",
    "data = json.loads(res.text)"
   ]
  },
  {
   "cell_type": "code",
   "execution_count": 90,
   "metadata": {},
   "outputs": [
    {
     "data": {
      "text/plain": [
       "{'id': 157183204,\n",
       " 'memberId': 195366271,\n",
       " 'loanAmount': 8000.0,\n",
       " 'fundedAmount': 1225.0,\n",
       " 'term': 36,\n",
       " 'intRate': 18.62,\n",
       " 'expDefaultRate': 12.86,\n",
       " 'serviceFeeRate': 1.52,\n",
       " 'installment': 291.72,\n",
       " 'grade': 'D',\n",
       " 'subGrade': 'D1',\n",
       " 'empLength': 36,\n",
       " 'homeOwnership': 'OWN',\n",
       " 'annualInc': 30000.0,\n",
       " 'isIncV': 'VERIFIED',\n",
       " 'acceptD': '2019-08-16T11:19:08.000-07:00',\n",
       " 'expD': '2019-09-22T10:00:00.000-07:00',\n",
       " 'listD': '2019-08-23T10:00:00.000-07:00',\n",
       " 'creditPullD': '2019-08-16T10:56:39.000-07:00',\n",
       " 'reviewStatusD': '2019-08-23T06:08:39.000-07:00',\n",
       " 'reviewStatus': 'APPROVED',\n",
       " 'desc': None,\n",
       " 'purpose': 'home_improvement',\n",
       " 'addrZip': '785xx',\n",
       " 'addrState': 'TX',\n",
       " 'investorCount': None,\n",
       " 'ilsExpD': '2019-08-23T10:00:00.000-07:00',\n",
       " 'initialListStatus': 'F',\n",
       " 'empTitle': 'supervisor',\n",
       " 'accNowDelinq': 0,\n",
       " 'accOpenPast24Mths': 7,\n",
       " 'bcOpenToBuy': 6699,\n",
       " 'percentBcGt75': 16.7,\n",
       " 'bcUtil': 58.1,\n",
       " 'dti': 62.08,\n",
       " 'delinq2Yrs': 1,\n",
       " 'delinqAmnt': 0.0,\n",
       " 'earliestCrLine': '2009-07-15T17:00:00.000-07:00',\n",
       " 'ficoRangeLow': 685,\n",
       " 'ficoRangeHigh': 689,\n",
       " 'inqLast6Mths': 0,\n",
       " 'mthsSinceLastDelinq': 13,\n",
       " 'mthsSinceLastRecord': None,\n",
       " 'mthsSinceRecentInq': 3,\n",
       " 'mthsSinceRecentRevolDelinq': None,\n",
       " 'mthsSinceRecentBc': 3,\n",
       " 'mortAcc': 0,\n",
       " 'openAcc': 10,\n",
       " 'pubRec': 0,\n",
       " 'totalBalExMort': 77838,\n",
       " 'revolBal': 9559.0,\n",
       " 'revolUtil': 56.2,\n",
       " 'totalBcLimit': 16000,\n",
       " 'totalAcc': 21,\n",
       " 'totalIlHighCreditLimit': 73572,\n",
       " 'numRevAccts': 9,\n",
       " 'mthsSinceRecentBcDlq': None,\n",
       " 'pubRecBankruptcies': 0,\n",
       " 'numAcctsEver120Ppd': 0,\n",
       " 'chargeoffWithin12Mths': 0,\n",
       " 'collections12MthsExMed': 0,\n",
       " 'taxLiens': 0,\n",
       " 'mthsSinceLastMajorDerog': None,\n",
       " 'numSats': 10,\n",
       " 'numTlOpPast12m': 5,\n",
       " 'moSinRcntTl': 3,\n",
       " 'totHiCredLim': 90572,\n",
       " 'totCurBal': 77838,\n",
       " 'avgCurBal': 7784,\n",
       " 'numBcTl': 8,\n",
       " 'numActvBcTl': 3,\n",
       " 'numBcSats': 6,\n",
       " 'pctTlNvrDlq': 90,\n",
       " 'numTl90gDpd24m': 0,\n",
       " 'numTl30dpd': 0,\n",
       " 'numTl120dpd2m': 0,\n",
       " 'numIlTl': 12,\n",
       " 'moSinOldIlAcct': 121,\n",
       " 'numActvRevTl': 4,\n",
       " 'moSinOldRevTlOp': 101,\n",
       " 'moSinRcntRevTlOp': 3,\n",
       " 'totalRevHiLim': 17000,\n",
       " 'numRevTlBalGt0': 4,\n",
       " 'numOpRevTl': 7,\n",
       " 'totCollAmt': 0,\n",
       " 'applicationType': 'JOINT',\n",
       " 'annualIncJoint': 80000.0,\n",
       " 'dtiJoint': 36.27,\n",
       " 'isIncVJoint': 'VERIFIED',\n",
       " 'openAcc6m': 3,\n",
       " 'openIl12m': 3,\n",
       " 'openIl24m': 5,\n",
       " 'mthsSinceRcntIl': 3,\n",
       " 'totalBalIl': 68279.0,\n",
       " 'iLUtil': 84.5,\n",
       " 'openRv12m': 2,\n",
       " 'openRv24m': 2,\n",
       " 'maxBalBc': 7554.0,\n",
       " 'allUtil': 73.7,\n",
       " 'inqFi': 1,\n",
       " 'totalCuTl': 1,\n",
       " 'inqLast12m': 7,\n",
       " 'mtgPayment': 0.0,\n",
       " 'housingPayment': None,\n",
       " 'secAppFicoRangeLow': 665,\n",
       " 'secAppFicoRangeHigh': 669,\n",
       " 'secAppEarliestCrLine': '2009-07-15T17:00:00.000-07:00',\n",
       " 'secAppInqLast6Mths': 0,\n",
       " 'secAppMortAcc': 0,\n",
       " 'secAppOpenAcc': 10,\n",
       " 'secAppRevolUtil': 71.4,\n",
       " 'secAppNumRevAccts': 11,\n",
       " 'secAppChargeoffWithin12Mths': 0,\n",
       " 'secAppCollections12MthsExMed': 0,\n",
       " 'secAppMthsSinceLastMajorDerog': 20,\n",
       " 'revolBalJoint': 10934,\n",
       " 'disbursementMethod': 'CASH',\n",
       " 'openActIl': 3,\n",
       " 'secAppOpenActIl': 6}"
      ]
     },
     "execution_count": 90,
     "metadata": {},
     "output_type": "execute_result"
    }
   ],
   "source": [
    "data['loans'][0]"
   ]
  },
  {
   "cell_type": "code",
   "execution_count": 89,
   "metadata": {},
   "outputs": [
    {
     "data": {
      "text/plain": [
       "dict_keys(['id', 'memberId', 'loanAmount', 'fundedAmount', 'term', 'intRate', 'expDefaultRate', 'serviceFeeRate', 'installment', 'grade', 'subGrade', 'empLength', 'homeOwnership', 'annualInc', 'isIncV', 'acceptD', 'expD', 'listD', 'creditPullD', 'reviewStatusD', 'reviewStatus', 'desc', 'purpose', 'addrZip', 'addrState', 'investorCount', 'ilsExpD', 'initialListStatus', 'empTitle', 'accNowDelinq', 'accOpenPast24Mths', 'bcOpenToBuy', 'percentBcGt75', 'bcUtil', 'dti', 'delinq2Yrs', 'delinqAmnt', 'earliestCrLine', 'ficoRangeLow', 'ficoRangeHigh', 'inqLast6Mths', 'mthsSinceLastDelinq', 'mthsSinceLastRecord', 'mthsSinceRecentInq', 'mthsSinceRecentRevolDelinq', 'mthsSinceRecentBc', 'mortAcc', 'openAcc', 'pubRec', 'totalBalExMort', 'revolBal', 'revolUtil', 'totalBcLimit', 'totalAcc', 'totalIlHighCreditLimit', 'numRevAccts', 'mthsSinceRecentBcDlq', 'pubRecBankruptcies', 'numAcctsEver120Ppd', 'chargeoffWithin12Mths', 'collections12MthsExMed', 'taxLiens', 'mthsSinceLastMajorDerog', 'numSats', 'numTlOpPast12m', 'moSinRcntTl', 'totHiCredLim', 'totCurBal', 'avgCurBal', 'numBcTl', 'numActvBcTl', 'numBcSats', 'pctTlNvrDlq', 'numTl90gDpd24m', 'numTl30dpd', 'numTl120dpd2m', 'numIlTl', 'moSinOldIlAcct', 'numActvRevTl', 'moSinOldRevTlOp', 'moSinRcntRevTlOp', 'totalRevHiLim', 'numRevTlBalGt0', 'numOpRevTl', 'totCollAmt', 'applicationType', 'annualIncJoint', 'dtiJoint', 'isIncVJoint', 'openAcc6m', 'openIl12m', 'openIl24m', 'mthsSinceRcntIl', 'totalBalIl', 'iLUtil', 'openRv12m', 'openRv24m', 'maxBalBc', 'allUtil', 'inqFi', 'totalCuTl', 'inqLast12m', 'mtgPayment', 'housingPayment', 'secAppFicoRangeLow', 'secAppFicoRangeHigh', 'secAppEarliestCrLine', 'secAppInqLast6Mths', 'secAppMortAcc', 'secAppOpenAcc', 'secAppRevolUtil', 'secAppNumRevAccts', 'secAppChargeoffWithin12Mths', 'secAppCollections12MthsExMed', 'secAppMthsSinceLastMajorDerog', 'revolBalJoint', 'disbursementMethod', 'openActIl', 'secAppOpenActIl'])"
      ]
     },
     "execution_count": 89,
     "metadata": {},
     "output_type": "execute_result"
    }
   ],
   "source": [
    "data['loans'][0].keys()"
   ]
  },
  {
   "cell_type": "code",
   "execution_count": 74,
   "metadata": {},
   "outputs": [
    {
     "ename": "TypeError",
     "evalue": "byte indices must be integers or slices, not str",
     "output_type": "error",
     "traceback": [
      "\u001b[0;31m---------------------------------------------------------------------------\u001b[0m",
      "\u001b[0;31mTypeError\u001b[0m                                 Traceback (most recent call last)",
      "\u001b[0;32m<ipython-input-74-1786ab4ed346>\u001b[0m in \u001b[0;36m<module>\u001b[0;34m\u001b[0m\n\u001b[0;32m----> 1\u001b[0;31m \u001b[0mres\u001b[0m\u001b[0;34m.\u001b[0m\u001b[0mcontent\u001b[0m\u001b[0;34m[\u001b[0m\u001b[0;34m'loans'\u001b[0m\u001b[0;34m]\u001b[0m\u001b[0;34m\u001b[0m\u001b[0;34m\u001b[0m\u001b[0m\n\u001b[0m",
      "\u001b[0;31mTypeError\u001b[0m: byte indices must be integers or slices, not str"
     ]
    }
   ],
   "source": [
    "res.content['loans']"
   ]
  },
  {
   "cell_type": "code",
   "execution_count": 70,
   "metadata": {},
   "outputs": [
    {
     "data": {
      "text/plain": [
       "'{\"asOfDate\":\"2019-08-23T11:57:55.756-07:00\",\"loans\":[{\"id\":157183204,\"memberId\":195366271,\"loanAmount\":8000.0,\"fundedAmount\":1200.0,\"term\":36,\"intRate\":18.62,\"expDefaultRate\":12.86,\"serviceFeeRate\":1.52,\"installment\":291.72,\"grade\":\"D\",\"subGrade\":\"D1\",\"empLength\":36,\"homeOwnership\":\"OWN\",\"annualInc\":30000.0,\"isIncV\":\"VERIFIED\",\"acceptD\":\"2019-08-16T11:19:08.000-07:00\",\"expD\":\"2019-09-22T10:00:00.000-07:00\",\"listD\":\"2019-08-23T10:00:00.000-07:00\",\"creditPullD\":\"2019-08-16T10:56:39.000-07:00\",\"reviewStatusD\":\"2019-08-23T06:08:39.000-07:00\",\"reviewStatus\":\"APPROVED\",\"desc\":null,\"purpose\":\"home_improvement\",\"addrZip\":\"785xx\",\"addrState\":\"TX\",\"investorCount\":null,\"ilsExpD\":\"2019-08-23T10:00:00.000-07:00\",\"initialListStatus\":\"F\",\"empTitle\":\"supervisor\",\"accNowDelinq\":0,\"accOpenPast24Mths\":7,\"bcOpenToBuy\":6699,\"percentBcGt75\":16.7,\"bcUtil\":58.1,\"dti\":62.08,\"delinq2Yrs\":1,\"delinqAmnt\":0.0,\"earliestCrLine\":\"2009-07-15T17:00:00.000-07:00\",\"ficoRangeLow\":685,\"ficoRangeHigh\":689,\"inqLast6Mths\":0,\"mthsSinceLastDelinq\":13,\"mthsSinceLastRecord\":null,\"mthsSinceRecentInq\":3,\"mthsSinceRecentRevolDelinq\":null,\"mthsSinceRecentBc\":3,\"mortAcc\":0,\"openAcc\":10,\"pubRec\":0,\"totalBalExMort\":77838,\"revolBal\":9559.0,\"revolUtil\":56.2,\"totalBcLimit\":16000,\"totalAcc\":21,\"totalIlHighCreditLimit\":73572,\"numRevAccts\":9,\"mthsSinceRecentBcDlq\":null,\"pubRecBankruptcies\":0,\"numAcctsEver120Ppd\":0,\"chargeoffWithin12Mths\":0,\"collections12MthsExMed\":0,\"taxLiens\":0,\"mthsSinceLastMajorDerog\":null,\"numSats\":10,\"numTlOpPast12m\":5,\"moSinRcntTl\":3,\"totHiCredLim\":90572,\"totCurBal\":77838,\"avgCurBal\":7784,\"numBcTl\":8,\"numActvBcTl\":3,\"numBcSats\":6,\"pctTlNvrDlq\":90,\"numTl90gDpd24m\":0,\"numTl30dpd\":0,\"numTl120dpd2m\":0,\"numIlTl\":12,\"moSinOldIlAcct\":121,\"numActvRevTl\":4,\"moSinOldRevTlOp\":101,\"moSinRcntRevTlOp\":3,\"totalRevHiLim\":17000,\"numRevTlBalGt0\":4,\"numOpRevTl\":7,\"totCollAmt\":0,\"applicationType\":\"JOINT\",\"annualIncJoint\":80000.0,\"dtiJoint\":36.27,\"isIncVJoint\":\"VERIFIED\",\"openAcc6m\":3,\"openIl12m\":3,\"openIl24m\":5,\"mthsSinceRcntIl\":3,\"totalBalIl\":68279.0,\"iLUtil\":84.5,\"openRv12m\":2,\"openRv24m\":2,\"maxBalBc\":7554.0,\"allUtil\":73.7,\"inqFi\":1,\"totalCuTl\":1,\"inqLast12m\":7,\"mtgPayment\":0.0,\"housingPayment\":null,\"secAppFicoRangeLow\":665,\"secAppFicoRangeHigh\":669,\"secAppEarliestCrLine\":\"2009-07-15T17:00:00.000-07:00\",\"secAppInqLast6Mths\":0,\"secAppMortAcc\":0,\"secAppOpenAcc\":10,\"secAppRevolUtil\":71.4,\"secAppNumRevAccts\":11,\"secAppChargeoffWithin12Mths\":0,\"secAppCollections12MthsExMed\":0,\"secAppMthsSinceLastMajorDerog\":20,\"revolBalJoint\":10934,\"disbursementMethod\":\"CASH\",\"openActIl\":3,\"secAppOpenActIl\":6},{\"id\":156951202,\"memberId\":195031092,\"loanAmount\":30000.0,\"fundedAmount\":1425.0,\"term\":36,\"intRate\":18.62,\"expDefaultRate\":12.86,\"serviceFeeRate\":1.52,\"installment\":1093.93,\"grade\":\"D\",\"subGrade\":\"D1\",\"empLength\":48,\"homeOwnership\":\"RENT\",\"annualInc\":47000.0,\"isIncV\":\"VERIFIED\",\"acceptD\":\"2019-08-12T16:29:09.000-07:00\",\"expD\":\"2019-09-22T10:00:00.000-07:00\",\"listD\":\"2019-08-23T10:00:00.000-07:00\",\"creditPullD\":\"2019-08-12T14:04:10.000-07:00\",\"reviewStatusD\":\"2019-08-23T06:16:39.000-07:00\",\"reviewStatus\":\"APPROVED\",\"desc\":null,\"purpose\":\"major_purchase\",\"addrZip\":\"923xx\",\"addrState\":\"CA\",\"investorCount\":null,\"ilsExpD\":\"2019-08-23T10:00:00.000-07:00\",\"initialListStatus\":\"F\",\"empTitle\":\"DRIVER\",\"accNowDelinq\":0,\"accOpenPast24Mths\":3,\"bcOpenToBuy\":18406,\"percentBcGt75\":0.0,\"bcUtil\":21.7,\"dti\":28.4,\"delinq2Yrs\":2,\"delinqAmnt\":0.0,\"earliestCrLine\":\"2007-07-11T17:00:00.000-07:00\",\"ficoRangeLow\":735,\"ficoRangeHigh\":739,\"inqLast6Mths\":0,\"mthsSinceLastDelinq\":20,\"mthsSinceLastRecord\":null,\"mthsSinceRecentInq\":22,\"mthsSinceRecentRevolDelinq\":20,\"mthsSinceRecentBc\":9,\"mortAcc\":0,\"openAcc\":10,\"pubRec\":0,\"totalBalExMort\":19698,\"revolBal\":5094.0,\"revolUtil\":19.8,\"totalBcLimit\":23500,\"totalAcc\":17,\"totalIlHighCreditLimit\":42357,\"numRevAccts\":12,\"mthsSinceRecentBcDlq\":20,\"pubRecBankruptcies\":0,\"numAcctsEver120Ppd\":0,\"chargeoffWithin12Mths\":0,\"collections12MthsExMed\":0,\"taxLiens\":0,\"mthsSinceLastMajorDerog\":null,\"numSats\":10,\"numTlOpPast12m\":1,\"moSinRcntTl\":9,\"totHiCredLim\":68057,\"totCurBal\":19698,\"avgCurBal\":2189,\"numBcTl\":8,\"numActvBcTl\":3,\"numBcSats\":6,\"pctTlNvrDlq\":82,\"numTl90gDpd24m\":0,\"numTl30dpd\":0,\"numTl120dpd2m\":0,\"numIlTl\":5,\"moSinOldIlAcct\":96,\"numActvRevTl\":3,\"moSinOldRevTlOp\":145,\"moSinRcntRevTlOp\":9,\"totalRevHiLim\":25700,\"numRevTlBalGt0\":3,\"numOpRevTl\":8,\"totCollAmt\":0,\"applicationType\":\"INDIVIDUAL\",\"annualIncJoint\":null,\"dtiJoint\":null,\"isIncVJoint\":null,\"openAcc6m\":0,\"openIl12m\":0,\"openIl24m\":1,\"mthsSinceRcntIl\":22,\"totalBalIl\":14604.0,\"iLUtil\":34.5,\"openRv12m\":1,\"openRv24m\":2,\"maxBalBc\":3283.0,\"allUtil\":28.9,\"inqFi\":1,\"totalCuTl\":0,\"inqLast12m\":0,\"mtgPayment\":0.0,\"housingPayment\":400.0,\"secAppFicoRangeLow\":null,\"secAppFicoRangeHigh\":null,\"secAppEarliestCrLine\":null,\"secAppInqLast6Mths\":null,\"secAppMortAcc\":null,\"secAppOpenAcc\":null,\"secAppRevolUtil\":null,\"secAppNumRevAccts\":null,\"secAppChargeoffWithin12Mths\":null,\"secAppCollections12MthsExMed\":null,\"secAppMthsSinceLastMajorDerog\":null,\"revolBalJoint\":null,\"disbursementMethod\":\"CASH\",\"openActIl\":2,\"secAppOpenActIl\":null},{\"id\":157363576,\"memberId\":195576466,\"loanAmount\":4800.0,\"fundedAmount\":1600.0,\"term\":36,\"intRate\":13.08,\"expDefaultRate\":5.36,\"serviceFeeRate\":1.05,\"installment\":161.92,\"grade\":\"B\",\"subGrade\":\"B5\",\"empLength\":276,\"homeOwnership\":\"MORTGAGE\",\"annualInc\":133000.0,\"isIncV\":\"SOURCE_VERIFIED\",\"acceptD\":\"2019-08-20T06:14:03.000-07:00\",\"expD\":\"2019-09-22T10:00:00.000-07:00\",\"listD\":\"2019-08-23T10:00:00.000-07:00\",\"creditPullD\":\"2019-08-20T06:12:54.000-07:00\",\"reviewStatusD\":\"2019-08-23T05:53:40.000-07:00\",\"reviewStatus\":\"APPROVED\",\"desc\":null,\"purpose\":\"medical\",\"addrZip\":\"442xx\",\"addrState\":\"OH\",\"investorCount\":null,\"ilsExpD\":\"2019-08-23T10:00:00.000-07:00\",\"initialListStatus\":\"F\",\"empTitle\":\"Teacher\",\"accNowDelinq\":0,\"accOpenPast24Mths\":10,\"bcOpenToBuy\":4402,\"percentBcGt75\":75.0,\"bcUtil\":81.6,\"dti\":21.78,\"delinq2Yrs\":0,\"delinqAmnt\":0.0,\"earliestCrLine\":\"1992-05-19T17:00:00.000-07:00\",\"ficoRangeLow\":685,\"ficoRangeHigh\":689,\"inqLast6Mths\":1,\"mthsSinceLastDelinq\":45,\"mthsSinceLastRecord\":null,\"mthsSinceRecentInq\":1,\"mthsSinceRecentRevolDelinq\":45,\"mthsSinceRecentBc\":13,\"mortAcc\":5,\"openAcc\":13,\"pubRec\":0,\"totalBalExMort\":83686,\"revolBal\":23275.0,\"revolUtil\":65.6,\"totalBcLimit\":23900,\"totalAcc\":43,\"totalIlHighCreditLimit\":76093,\"numRevAccts\":30,\"mthsSinceRecentBcDlq\":45,\"pubRecBankruptcies\":0,\"numAcctsEver120Ppd\":9,\"chargeoffWithin12Mths\":0,\"collections12MthsExMed\":0,\"taxLiens\":0,\"mthsSinceLastMajorDerog\":45,\"numSats\":13,\"numTlOpPast12m\":5,\"moSinRcntTl\":3,\"totHiCredLim\":273996,\"totCurBal\":245619,\"avgCurBal\":18894,\"numBcTl\":16,\"numActvBcTl\":4,\"numBcSats\":4,\"pctTlNvrDlq\":79,\"numTl90gDpd24m\":0,\"numTl30dpd\":0,\"numTl120dpd2m\":0,\"numIlTl\":8,\"moSinOldIlAcct\":123,\"numActvRevTl\":9,\"moSinOldRevTlOp\":327,\"moSinRcntRevTlOp\":3,\"totalRevHiLim\":35500,\"numRevTlBalGt0\":9,\"numOpRevTl\":10,\"totCollAmt\":0,\"applicationType\":\"INDIVIDUAL\",\"annualIncJoint\":null,\"dtiJoint\":null,\"isIncVJoint\":null,\"openAcc6m\":2,\"openIl12m\":1,\"openIl24m\":2,\"mthsSinceRcntIl\":12,\"totalBalIl\":60411.0,\"iLUtil\":73.0,\"openRv12m\":3,\"openRv24m\":6,\"maxBalBc\":9865.0,\"allUtil\":68.6,\"inqFi\":1,\"totalCuTl\":0,\"inqLast12m\":3,\"mtgPayment\":1247.98,\"housingPayment\":null,\"secAppFicoRangeLow\":null,\"secAppFicoRangeHigh\":null,\"secAppEarliestCrLine\":null,\"secAppInqLast6Mths\":null,\"secAppMortAcc\":null,\"secAppOpenAcc\":null,\"secAppRevolUtil\":null,\"secAppNumRevAccts\":null,\"secAppChargeoffWithin12Mths\":null,\"secAppCollections12MthsExMed\":null,\"secAppMthsSinceLastMajorDerog\":null,\"revolBalJoint\":null,\"disbursementMethod\":\"CASH\",\"openActIl\":2,\"secAppOpenActIl\":null},{\"id\":157199170,\"memberId\":195391208,\"loanAmount\":35000.0,\"fundedAmount\":4225.0,\"term\":36,\"intRate\":14.3,\"expDefaultRate\":7.96,\"serviceFeeRate\":1.23,\"installment\":1201.33,\"grade\":\"C\",\"subGrade\":\"C1\",\"empLength\":24,\"homeOwnership\":\"RENT\",\"annualInc\":100000.0,\"isIncV\":\"SOURCE_VERIFIED\",\"acceptD\":\"2019-08-16T14:58:19.000-07:00\",\"expD\":\"2019-09-22T10:00:00.000-07:00\",\"listD\":\"2019-08-23T10:00:00.000-07:00\",\"creditPullD\":\"2019-08-16T14:54:30.000-07:00\",\"reviewStatusD\":\"2019-08-23T06:14:05.000-07:00\",\"reviewStatus\":\"APPROVED\",\"desc\":null,\"purpose\":\"debt_consolidation\",\"addrZip\":\"021xx\",\"addrState\":\"MA\",\"investorCount\":null,\"ilsExpD\":\"2019-08-23T10:00:00.000-07:00\",\"initialListStatus\":\"F\",\"empTitle\":\"mule developer\",\"accNowDelinq\":0,\"accOpenPast24Mths\":3,\"bcOpenToBuy\":16570,\"percentBcGt75\":12.5,\"bcUtil\":28.0,\"dti\":7.26,\"delinq2Yrs\":0,\"delinqAmnt\":0.0,\"earliestCrLine\":\"2014-12-15T16:00:00.000-08:00\",\"ficoRangeLow\":690,\"ficoRangeHigh\":694,\"inqLast6Mths\":1,\"mthsSinceLastDelinq\":null,\"mthsSinceLastRecord\":null,\"mthsSinceRecentInq\":1,\"mthsSinceRecentRevolDelinq\":null,\"mthsSinceRecentBc\":10,\"mortAcc\":0,\"openAcc\":11,\"pubRec\":0,\"totalBalExMort\":28979,\"revolBal\":16422.0,\"revolUtil\":43.8,\"totalBcLimit\":23000,\"totalAcc\":12,\"totalIlHighCreditLimit\":21565,\"numRevAccts\":10,\"mthsSinceRecentBcDlq\":null,\"pubRecBankruptcies\":0,\"numAcctsEver120Ppd\":0,\"chargeoffWithin12Mths\":0,\"collections12MthsExMed\":0,\"taxLiens\":0,\"mthsSinceLastMajorDerog\":null,\"numSats\":11,\"numTlOpPast12m\":2,\"moSinRcntTl\":1,\"totHiCredLim\":59065,\"totCurBal\":28979,\"avgCurBal\":2634,\"numBcTl\":8,\"numActvBcTl\":3,\"numBcSats\":8,\"pctTlNvrDlq\":100,\"numTl90gDpd24m\":0,\"numTl30dpd\":0,\"numTl120dpd2m\":0,\"numIlTl\":1,\"moSinOldIlAcct\":27,\"numActvRevTl\":4,\"moSinOldRevTlOp\":56,\"moSinRcntRevTlOp\":1,\"totalRevHiLim\":37500,\"numRevTlBalGt0\":4,\"numOpRevTl\":10,\"totCollAmt\":0,\"applicationType\":\"INDIVIDUAL\",\"annualIncJoint\":null,\"dtiJoint\":null,\"isIncVJoint\":null,\"openAcc6m\":1,\"openIl12m\":0,\"openIl24m\":0,\"mthsSinceRcntIl\":27,\"totalBalIl\":12557.0,\"iLUtil\":58.2,\"openRv12m\":2,\"openRv24m\":2,\"maxBalBc\":5760.0,\"allUtil\":49.1,\"inqFi\":1,\"totalCuTl\":1,\"inqLast12m\":2,\"mtgPayment\":0.0,\"housingPayment\":null,\"secAppFicoRangeLow\":null,\"secAppFicoRangeHigh\":null,\"secAppEarliestCrLine\":null,\"secAppInqLast6Mths\":null,\"secAppMortAcc\":null,\"secAppOpenAcc\":null,\"secAppRevolUtil\":null,\"secAppNumRevAccts\":null,\"secAppChargeoffWithin12Mths\":null,\"secAppCollections12MthsExMed\":null,\"secAppMthsSinceLastMajorDerog\":null,\"revolBalJoint\":null,\"disbursementMethod\":\"CASH\",\"openActIl\":1,\"secAppOpenActIl\":null},{\"id\":156526142,\"memberId\":194034754,\"loanAmount\":3000.0,\"fundedAmount\":2175.0,\"term\":36,\"intRate\":17.74,\"expDefaultRate\":7.92,\"serviceFeeRate\":1.22,\"installment\":108.07,\"grade\":\"C\",\"subGrade\":\"C5\",\"empLength\":132,\"homeOwnership\":\"MORTGAGE\",\"annualInc\":50000.0,\"isIncV\":\"SOURCE_VERIFIED\",\"acceptD\":\"2019-08-22T18:17:00.000-07:00\",\"expD\":\"2019-09-22T10:00:00.000-07:00\",\"listD\":\"2019-08-23T10:00:00.000-07:00\",\"creditPullD\":\"2019-08-05T04:33:41.000-07:00\",\"reviewStatusD\":\"2019-08-23T06:14:11.000-07:00\",\"reviewStatus\":\"APPROVED\",\"desc\":null,\"purpose\":\"credit_card\",\"addrZip\":\"054xx\",\"addrState\":\"VT\",\"investorCount\":null,\"ilsExpD\":\"2019-08-23T10:00:00.000-07:00\",\"initialListStatus\":\"F\",\"empTitle\":\"Production technician \",\"accNowDelinq\":0,\"accOpenPast24Mths\":9,\"bcOpenToBuy\":3668,\"percentBcGt75\":33.3,\"bcUtil\":65.1,\"dti\":38.91,\"delinq2Yrs\":0,\"delinqAmnt\":0.0,\"earliestCrLine\":\"2000-07-04T17:00:00.000-07:00\",\"ficoRangeLow\":675,\"ficoRangeHigh\":679,\"inqLast6Mths\":3,\"mthsSinceLastDelinq\":null,\"mthsSinceLastRecord\":87,\"mthsSinceRecentInq\":2,\"mthsSinceRecentRevolDelinq\":null,\"mthsSinceRecentBc\":2,\"mortAcc\":1,\"openAcc\":14,\"pubRec\":1,\"totalBalExMort\":64197,\"revolBal\":35662.0,\"revolUtil\":56.9,\"totalBcLimit\":10500,\"totalAcc\":24,\"totalIlHighCreditLimit\":46593,\"numRevAccts\":12,\"mthsSinceRecentBcDlq\":null,\"pubRecBankruptcies\":1,\"numAcctsEver120Ppd\":0,\"chargeoffWithin12Mths\":0,\"collections12MthsExMed\":0,\"taxLiens\":0,\"mthsSinceLastMajorDerog\":null,\"numSats\":14,\"numTlOpPast12m\":3,\"moSinRcntTl\":2,\"totHiCredLim\":129393,\"totCurBal\":64197,\"avgCurBal\":4586,\"numBcTl\":4,\"numActvBcTl\":3,\"numBcSats\":3,\"pctTlNvrDlq\":100,\"numTl90gDpd24m\":0,\"numTl30dpd\":0,\"numTl120dpd2m\":0,\"numIlTl\":11,\"moSinOldIlAcct\":138,\"numActvRevTl\":11,\"moSinOldRevTlOp\":70,\"moSinRcntRevTlOp\":2,\"totalRevHiLim\":82800,\"numRevTlBalGt0\":11,\"numOpRevTl\":11,\"totCollAmt\":0,\"applicationType\":\"INDIVIDUAL\",\"annualIncJoint\":null,\"dtiJoint\":null,\"isIncVJoint\":null,\"openAcc6m\":2,\"openIl12m\":1,\"openIl24m\":4,\"mthsSinceRcntIl\":11,\"totalBalIl\":28535.0,\"iLUtil\":61.2,\"openRv12m\":2,\"openRv24m\":5,\"maxBalBc\":4398.0,\"allUtil\":59.4,\"inqFi\":2,\"totalCuTl\":4,\"inqLast12m\":4,\"mtgPayment\":0.0,\"housingPayment\":null,\"secAppFicoRangeLow\":null,\"secAppFicoRangeHigh\":null,\"secAppEarliestCrLine\":null,\"secAppInqLast6Mths\":null,\"secAppMortAcc\":null,\"secAppOpenAcc\":null,\"secAppRevolUtil\":null,\"secAppNumRevAccts\":null,\"secAppChargeoffWithin12Mths\":null,\"secAppCollections12MthsExMed\":null,\"secAppMthsSinceLastMajorDerog\":null,\"revolBalJoint\":null,\"disbursementMethod\":\"CASH\",\"openActIl\":3,\"secAppOpenActIl\":null},{\"id\":157545150,\"memberId\":195923154,\"loanAmount\":6400.0,\"fundedAmount\":4900.0,\"term\":36,\"intRate\":11.71,\"expDefaultRate\":5.36,\"serviceFeeRate\":1.05,\"installment\":211.69,\"grade\":\"B\",\"subGrade\":\"B3\",\"empLength\":96,\"homeOwnership\":\"RENT\",\"annualInc\":27040.0,\"isIncV\":\"NOT_VERIFIED\",\"acceptD\":\"2019-08-22T14:21:01.000-07:00\",\"expD\":\"2019-09-22T10:00:00.000-07:00\",\"listD\":\"2019-08-23T10:00:00.000-07:00\",\"creditPullD\":\"2019-08-22T14:15:29.000-07:00\",\"reviewStatusD\":\"2019-08-23T06:07:32.000-07:00\",\"reviewStatus\":\"APPROVED\",\"desc\":null,\"purpose\":\"credit_card\",\"addrZip\":\"334xx\",\"addrState\":\"FL\",\"investorCount\":null,\"ilsExpD\":\"2019-08-23T10:00:00.000-07:00\",\"initialListStatus\":\"F\",\"empTitle\":\"Medical Billing and Coding\",\"accNowDelinq\":0,\"accOpenPast24Mths\":0,\"bcOpenToBuy\":5543,\"percentBcGt75\":80.0,\"bcUtil\":53.8,\"dti\":9.1,\"delinq2Yrs\":0,\"delinqAmnt\":0.0,\"earliestCrLine\":\"2010-10-21T17:00:00.000-07:00\",\"ficoRangeLow\":660,\"ficoRangeHigh\":664,\"inqLast6Mths\":0,\"mthsSinceLastDelinq\":39,\"mthsSinceLastRecord\":null,\"mthsSinceRecentInq\":7,\"mthsSinceRecentRevolDelinq\":null,\"mthsSinceRecentBc\":45,\"mortAcc\":0,\"openAcc\":8,\"pubRec\":0,\"totalBalExMort\":15816,\"revolBal\":6457.0,\"revolUtil\":53.8,\"totalBcLimit\":12000,\"totalAcc\":9,\"totalIlHighCreditLimit\":9750,\"numRevAccts\":5,\"mthsSinceRecentBcDlq\":null,\"pubRecBankruptcies\":0,\"numAcctsEver120Ppd\":1,\"chargeoffWithin12Mths\":0,\"collections12MthsExMed\":0,\"taxLiens\":0,\"mthsSinceLastMajorDerog\":39,\"numSats\":8,\"numTlOpPast12m\":0,\"moSinRcntTl\":45,\"totHiCredLim\":21750,\"totCurBal\":15816,\"avgCurBal\":1977,\"numBcTl\":5,\"numActvBcTl\":4,\"numBcSats\":5,\"pctTlNvrDlq\":88,\"numTl90gDpd24m\":0,\"numTl30dpd\":0,\"numTl120dpd2m\":0,\"numIlTl\":4,\"moSinOldIlAcct\":90,\"numActvRevTl\":4,\"moSinOldRevTlOp\":106,\"moSinRcntRevTlOp\":45,\"totalRevHiLim\":12000,\"numRevTlBalGt0\":4,\"numOpRevTl\":5,\"totCollAmt\":0,\"applicationType\":\"INDIVIDUAL\",\"annualIncJoint\":null,\"dtiJoint\":null,\"isIncVJoint\":null,\"openAcc6m\":0,\"openIl12m\":0,\"openIl24m\":0,\"mthsSinceRcntIl\":83,\"totalBalIl\":9359.0,\"iLUtil\":96.0,\"openRv12m\":0,\"openRv24m\":0,\"maxBalBc\":2360.0,\"allUtil\":72.7,\"inqFi\":0,\"totalCuTl\":0,\"inqLast12m\":1,\"mtgPayment\":0.0,\"housingPayment\":null,\"secAppFicoRangeLow\":null,\"secAppFicoRangeHigh\":null,\"secAppEarliestCrLine\":null,\"secAppInqLast6Mths\":null,\"secAppMortAcc\":null,\"secAppOpenAcc\":null,\"secAppRevolUtil\":null,\"secAppNumRevAccts\":null,\"secAppChargeoffWithin12Mths\":null,\"secAppCollections12MthsExMed\":null,\"secAppMthsSinceLastMajorDerog\":null,\"revolBalJoint\":null,\"disbursementMethod\":\"DIRECT_PAY\",\"openActIl\":3,\"secAppOpenActIl\":null},{\"id\":157524130,\"memberId\":195848096,\"loanAmount\":5000.0,\"fundedAmount\":900.0,\"term\":36,\"intRate\":16.12,\"expDefaultRate\":7.96,\"serviceFeeRate\":1.23,\"installment\":176.09,\"grade\":\"C\",\"subGrade\":\"C3\",\"empLength\":null,\"homeOwnership\":\"OWN\",\"annualInc\":29000.0,\"isIncV\":\"NOT_VERIFIED\",\"acceptD\":\"2019-08-22T08:26:31.000-07:00\",\"expD\":\"2019-09-22T10:00:00.000-07:00\",\"listD\":\"2019-08-23T10:00:00.000-07:00\",\"creditPullD\":\"2019-08-22T08:25:46.000-07:00\",\"reviewStatusD\":\"2019-08-23T06:21:47.000-07:00\",\"reviewStatus\":\"APPROVED\",\"desc\":null,\"purpose\":\"credit_card\",\"addrZip\":\"799xx\",\"addrState\":\"TX\",\"investorCount\":null,\"ilsExpD\":\"2019-08-23T10:00:00.000-07:00\",\"initialListStatus\":\"F\",\"empTitle\":null,\"accNowDelinq\":0,\"accOpenPast24Mths\":6,\"bcOpenToBuy\":3617,\"percentBcGt75\":50.0,\"bcUtil\":53.6,\"dti\":38.99,\"delinq2Yrs\":0,\"delinqAmnt\":0.0,\"earliestCrLine\":\"1971-12-21T16:00:00.000-08:00\",\"ficoRangeLow\":660,\"ficoRangeHigh\":664,\"inqLast6Mths\":0,\"mthsSinceLastDelinq\":45,\"mthsSinceLastRecord\":null,\"mthsSinceRecentInq\":18,\"mthsSinceRecentRevolDelinq\":45,\"mthsSinceRecentBc\":34,\"mortAcc\":2,\"openAcc\":16,\"pubRec\":0,\"totalBalExMort\":27192,\"revolBal\":24727.0,\"revolUtil\":61.4,\"totalBcLimit\":7800,\"totalAcc\":41,\"totalIlHighCreditLimit\":4700,\"numRevAccts\":36,\"mthsSinceRecentBcDlq\":45,\"pubRecBankruptcies\":0,\"numAcctsEver120Ppd\":10,\"chargeoffWithin12Mths\":0,\"collections12MthsExMed\":0,\"taxLiens\":0,\"mthsSinceLastMajorDerog\":70,\"numSats\":16,\"numTlOpPast12m\":0,\"moSinRcntTl\":14,\"totHiCredLim\":45000,\"totCurBal\":27192,\"avgCurBal\":1700,\"numBcTl\":12,\"numActvBcTl\":1,\"numBcSats\":2,\"pctTlNvrDlq\":73,\"numTl90gDpd24m\":0,\"numTl30dpd\":0,\"numTl120dpd2m\":0,\"numIlTl\":3,\"moSinOldIlAcct\":119,\"numActvRevTl\":11,\"moSinOldRevTlOp\":572,\"moSinRcntRevTlOp\":14,\"totalRevHiLim\":40300,\"numRevTlBalGt0\":11,\"numOpRevTl\":15,\"totCollAmt\":0,\"applicationType\":\"INDIVIDUAL\",\"annualIncJoint\":null,\"dtiJoint\":null,\"isIncVJoint\":null,\"openAcc6m\":0,\"openIl12m\":0,\"openIl24m\":1,\"mthsSinceRcntIl\":20,\"totalBalIl\":2465.0,\"iLUtil\":52.4,\"openRv12m\":0,\"openRv24m\":5,\"maxBalBc\":4183.0,\"allUtil\":60.4,\"inqFi\":1,\"totalCuTl\":3,\"inqLast12m\":0,\"mtgPayment\":0.0,\"housingPayment\":null,\"secAppFicoRangeLow\":null,\"secAppFicoRangeHigh\":null,\"secAppEarliestCrLine\":null,\"secAppInqLast6Mths\":null,\"secAppMortAcc\":null,\"secAppOpenAcc\":null,\"secAppRevolUtil\":null,\"secAppNumRevAccts\":null,\"secAppChargeoffWithin12Mths\":null,\"secAppCollections12MthsExMed\":null,\"secAppMthsSinceLastMajorDerog\":null,\"revolBalJoint\":null,\"disbursementMethod\":\"CASH\",\"openActIl\":1,\"secAppOpenActIl\":null},{\"id\":156295166,\"memberId\":193757875,\"loanAmount\":5550.0,\"fundedAmount\":1375.0,\"term\":36,\"intRate\":16.95,\"expDefaultRate\":7.92,\"serviceFeeRate\":1.22,\"installment\":197.74,\"grade\":\"C\",\"subGrade\":\"C4\",\"empLength\":0,\"homeOwnership\":\"RENT\",\"annualInc\":28000.0,\"isIncV\":\"NOT_VERIFIED\",\"acceptD\":\"2019-08-21T22:38:05.000-07:00\",\"expD\":\"2019-09-22T10:00:00.000-07:00\",\"listD\":\"2019-08-23T10:00:00.000-07:00\",\"creditPullD\":\"2019-07-31T13:35:10.000-07:00\",\"reviewStatusD\":\"2019-08-23T05:57:33.000-07:00\",\"reviewStatus\":\"APPROVED\",\"desc\":null,\"purpose\":\"credit_card\",\"addrZip\":\"395xx\",\"addrState\":\"MS\",\"investorCount\":null,\"ilsExpD\":\"2019-08-23T10:00:00.000-07:00\",\"initialListStatus\":\"F\",\"empTitle\":\"Player services \",\"accNowDelinq\":0,\"accOpenPast24Mths\":5,\"bcOpenToBuy\":3392,\"percentBcGt75\":0.0,\"bcUtil\":15.2,\"dti\":16.07,\"delinq2Yrs\":0,\"delinqAmnt\":0.0,\"earliestCrLine\":\"2009-01-30T16:00:00.000-08:00\",\"ficoRangeLow\":665,\"ficoRangeHigh\":669,\"inqLast6Mths\":0,\"mthsSinceLastDelinq\":null,\"mthsSinceLastRecord\":null,\"mthsSinceRecentInq\":10,\"mthsSinceRecentRevolDelinq\":null,\"mthsSinceRecentBc\":33,\"mortAcc\":0,\"openAcc\":3,\"pubRec\":0,\"totalBalExMort\":9881,\"revolBal\":608.0,\"revolUtil\":15.2,\"totalBcLimit\":4000,\"totalAcc\":13,\"totalIlHighCreditLimit\":11049,\"numRevAccts\":2,\"mthsSinceRecentBcDlq\":null,\"pubRecBankruptcies\":0,\"numAcctsEver120Ppd\":0,\"chargeoffWithin12Mths\":0,\"collections12MthsExMed\":0,\"taxLiens\":0,\"mthsSinceLastMajorDerog\":null,\"numSats\":3,\"numTlOpPast12m\":3,\"moSinRcntTl\":3,\"totHiCredLim\":15049,\"totCurBal\":9881,\"avgCurBal\":3294,\"numBcTl\":1,\"numActvBcTl\":1,\"numBcSats\":1,\"pctTlNvrDlq\":100,\"numTl90gDpd24m\":0,\"numTl30dpd\":0,\"numTl120dpd2m\":0,\"numIlTl\":11,\"moSinOldIlAcct\":126,\"numActvRevTl\":1,\"moSinOldRevTlOp\":41,\"moSinRcntRevTlOp\":33,\"totalRevHiLim\":4000,\"numRevTlBalGt0\":1,\"numOpRevTl\":1,\"totCollAmt\":397,\"applicationType\":\"INDIVIDUAL\",\"annualIncJoint\":null,\"dtiJoint\":null,\"isIncVJoint\":null,\"openAcc6m\":1,\"openIl12m\":3,\"openIl24m\":5,\"mthsSinceRcntIl\":3,\"totalBalIl\":9273.0,\"iLUtil\":83.9,\"openRv12m\":0,\"openRv24m\":0,\"maxBalBc\":608.0,\"allUtil\":65.7,\"inqFi\":5,\"totalCuTl\":0,\"inqLast12m\":0,\"mtgPayment\":0.0,\"housingPayment\":null,\"secAppFicoRangeLow\":null,\"secAppFicoRangeHigh\":null,\"secAppEarliestCrLine\":null,\"secAppInqLast6Mths\":null,\"secAppMortAcc\":null,\"secAppOpenAcc\":null,\"secAppRevolUtil\":null,\"secAppNumRevAccts\":null,\"secAppChargeoffWithin12Mths\":null,\"secAppCollections12MthsExMed\":null,\"secAppMthsSinceLastMajorDerog\":null,\"revolBalJoint\":null,\"disbursementMethod\":\"CASH\",\"openActIl\":2,\"secAppOpenActIl\":null},{\"id\":157385047,\"memberId\":195611125,\"loanAmount\":8000.0,\"fundedAmount\":1350.0,\"term\":36,\"intRate\":16.12,\"expDefaultRate\":7.96,\"serviceFeeRate\":1.23,\"installment\":281.74,\"grade\":\"C\",\"subGrade\":\"C3\",\"empLength\":60,\"homeOwnership\":\"RENT\",\"annualInc\":45000.0,\"isIncV\":\"SOURCE_VERIFIED\",\"acceptD\":\"2019-08-20T12:42:33.000-07:00\",\"expD\":\"2019-09-22T10:00:00.000-07:00\",\"listD\":\"2019-08-23T10:00:00.000-07:00\",\"creditPullD\":\"2019-08-20T12:40:40.000-07:00\",\"reviewStatusD\":\"2019-08-23T06:22:44.000-07:00\",\"reviewStatus\":\"APPROVED\",\"desc\":null,\"purpose\":\"major_purchase\",\"addrZip\":\"145xx\",\"addrState\":\"NY\",\"investorCount\":null,\"ilsExpD\":\"2019-08-23T10:00:00.000-07:00\",\"initialListStatus\":\"F\",\"empTitle\":\"Store Manager\",\"accNowDelinq\":0,\"accOpenPast24Mths\":3,\"bcOpenToBuy\":266,\"percentBcGt75\":100.0,\"bcUtil\":97.5,\"dti\":15.39,\"delinq2Yrs\":0,\"delinqAmnt\":0.0,\"earliestCrLine\":\"2012-09-19T17:00:00.000-07:00\",\"ficoRangeLow\":670,\"ficoRangeHigh\":674,\"inqLast6Mths\":1,\"mthsSinceLastDelinq\":null,\"mthsSinceLastRecord\":null,\"mthsSinceRecentInq\":3,\"mthsSinceRecentRevolDelinq\":null,\"mthsSinceRecentBc\":21,\"mortAcc\":0,\"openAcc\":9,\"pubRec\":0,\"totalBalExMort\":11659,\"revolBal\":11474.0,\"revolUtil\":92.5,\"totalBcLimit\":10800,\"totalAcc\":9,\"totalIlHighCreditLimit\":5000,\"numRevAccts\":8,\"mthsSinceRecentBcDlq\":null,\"pubRecBankruptcies\":0,\"numAcctsEver120Ppd\":0,\"chargeoffWithin12Mths\":0,\"collections12MthsExMed\":0,\"taxLiens\":0,\"mthsSinceLastMajorDerog\":null,\"numSats\":9,\"numTlOpPast12m\":2,\"moSinRcntTl\":5,\"totHiCredLim\":17400,\"totCurBal\":11659,\"avgCurBal\":1295,\"numBcTl\":6,\"numActvBcTl\":6,\"numBcSats\":6,\"pctTlNvrDlq\":100,\"numTl90gDpd24m\":0,\"numTl30dpd\":0,\"numTl120dpd2m\":0,\"numIlTl\":1,\"moSinOldIlAcct\":37,\"numActvRevTl\":8,\"moSinOldRevTlOp\":83,\"moSinRcntRevTlOp\":5,\"totalRevHiLim\":12400,\"numRevTlBalGt0\":8,\"numOpRevTl\":8,\"totCollAmt\":0,\"applicationType\":\"INDIVIDUAL\",\"annualIncJoint\":null,\"dtiJoint\":null,\"isIncVJoint\":null,\"openAcc6m\":1,\"openIl12m\":0,\"openIl24m\":0,\"mthsSinceRcntIl\":37,\"totalBalIl\":185.0,\"iLUtil\":3.7,\"openRv12m\":2,\"openRv24m\":3,\"maxBalBc\":3716.0,\"allUtil\":67.0,\"inqFi\":0,\"totalCuTl\":0,\"inqLast12m\":2,\"mtgPayment\":0.0,\"housingPayment\":null,\"secAppFicoRangeLow\":null,\"secAppFicoRangeHigh\":null,\"secAppEarliestCrLine\":null,\"secAppInqLast6Mths\":null,\"secAppMortAcc\":null,\"secAppOpenAcc\":null,\"secAppRevolUtil\":null,\"secAppNumRevAccts\":null,\"secAppChargeoffWithin12Mths\":null,\"secAppCollections12MthsExMed\":null,\"secAppMthsSinceLastMajorDerog\":null,\"revolBalJoint\":null,\"disbursementMethod\":\"CASH\",\"openActIl\":1,\"secAppOpenActIl\":null},{\"id\":157312100,\"memberId\":195525816,\"loanAmount\":12750.0,\"fundedAmount\":6000.0,\"term\":36,\"intRate\":14.3,\"expDefaultRate\":7.96,\"serviceFeeRate\":1.23,\"installment\":437.63,\"grade\":\"C\",\"subGrade\":\"C1\",\"empLength\":120,\"homeOwnership\":\"OWN\",\"annualInc\":55000.0,\"isIncV\":\"SOURCE_VERIFIED\",\"acceptD\":\"2019-08-20T06:37:38.000-07:00\",\"expD\":\"2019-09-22T10:00:00.000-07:00\",\"listD\":\"2019-08-23T10:00:00.000-07:00\",\"creditPullD\":\"2019-08-19T11:20:16.000-07:00\",\"reviewStatusD\":\"2019-08-23T06:24:29.000-07:00\",\"reviewStatus\":\"APPROVED\",\"desc\":null,\"purpose\":\"home_improvement\",\"addrZip\":\"773xx\",\"addrState\":\"TX\",\"investorCount\":null,\"ilsExpD\":\"2019-08-23T10:00:00.000-07:00\",\"initialListStatus\":\"F\",\"empTitle\":\"Assistant Branch Librarian\",\"accNowDelinq\":0,\"accOpenPast24Mths\":2,\"bcOpenToBuy\":492,\"percentBcGt75\":100.0,\"bcUtil\":98.5,\"dti\":30.66,\"delinq2Yrs\":0,\"delinqAmnt\":0.0,\"earliestCrLine\":\"1994-08-18T17:00:00.000-07:00\",\"ficoRangeLow\":685,\"ficoRangeHigh\":689,\"inqLast6Mths\":0,\"mthsSinceLastDelinq\":null,\"mthsSinceLastRecord\":null,\"mthsSinceRecentInq\":9,\"mthsSinceRecentRevolDelinq\":null,\"mthsSinceRecentBc\":69,\"mortAcc\":1,\"openAcc\":7,\"pubRec\":0,\"totalBalExMort\":45378,\"revolBal\":32576.0,\"revolUtil\":94.4,\"totalBcLimit\":33000,\"totalAcc\":11,\"totalIlHighCreditLimit\":19000,\"numRevAccts\":6,\"mthsSinceRecentBcDlq\":null,\"pubRecBankruptcies\":0,\"numAcctsEver120Ppd\":0,\"chargeoffWithin12Mths\":0,\"collections12MthsExMed\":0,\"taxLiens\":0,\"mthsSinceLastMajorDerog\":null,\"numSats\":7,\"numTlOpPast12m\":1,\"moSinRcntTl\":9,\"totHiCredLim\":53500,\"totCurBal\":45378,\"avgCurBal\":6483,\"numBcTl\":5,\"numActvBcTl\":4,\"numBcSats\":4,\"pctTlNvrDlq\":100,\"numTl90gDpd24m\":0,\"numTl30dpd\":0,\"numTl120dpd2m\":0,\"numIlTl\":4,\"moSinOldIlAcct\":68,\"numActvRevTl\":5,\"moSinOldRevTlOp\":300,\"moSinRcntRevTlOp\":69,\"totalRevHiLim\":34500,\"numRevTlBalGt0\":5,\"numOpRevTl\":5,\"totCollAmt\":0,\"applicationType\":\"INDIVIDUAL\",\"annualIncJoint\":null,\"dtiJoint\":null,\"isIncVJoint\":null,\"openAcc6m\":0,\"openIl12m\":1,\"openIl24m\":2,\"mthsSinceRcntIl\":9,\"totalBalIl\":12802.0,\"iLUtil\":67.4,\"openRv12m\":0,\"openRv24m\":0,\"maxBalBc\":13757.0,\"allUtil\":84.8,\"inqFi\":2,\"totalCuTl\":0,\"inqLast12m\":1,\"mtgPayment\":0.0,\"housingPayment\":null,\"secAppFicoRangeLow\":null,\"secAppFicoRangeHigh\":null,\"secAppEarliestCrLine\":null,\"secAppInqLast6Mths\":null,\"secAppMortAcc\":null,\"secAppOpenAcc\":null,\"secAppRevolUtil\":null,\"secAppNumRevAccts\":null,\"secAppChargeoffWithin12Mths\":null,\"secAppCollections12MthsExMed\":null,\"secAppMthsSinceLastMajorDerog\":null,\"revolBalJoint\":null,\"disbursementMethod\":\"CASH\",\"openActIl\":2,\"secAppOpenActIl\":null},{\"id\":157575254,\"memberId\":195991413,\"loanAmount\":8000.0,\"fundedAmount\":1175.0,\"term\":36,\"intRate\":14.3,\"expDefaultRate\":7.96,\"serviceFeeRate\":1.23,\"installment\":274.59,\"grade\":\"C\",\"subGrade\":\"C1\",\"empLength\":24,\"homeOwnership\":\"OWN\",\"annualInc\":35000.0,\"isIncV\":\"NOT_VERIFIED\",\"acceptD\":\"2019-08-23T05:41:17.000-07:00\",\"expD\":\"2019-09-22T10:00:00.000-07:00\",\"listD\":\"2019-08-23T10:00:00.000-07:00\",\"creditPullD\":\"2019-08-23T05:36:00.000-07:00\",\"reviewStatusD\":\"2019-08-23T05:54:16.000-07:00\",\"reviewStatus\":\"APPROVED\",\"desc\":null,\"purpose\":\"credit_card\",\"addrZip\":\"144xx\",\"addrState\":\"NY\",\"investorCount\":null,\"ilsExpD\":\"2019-08-23T10:00:00.000-07:00\",\"initialListStatus\":\"F\",\"empTitle\":\"manager\",\"accNowDelinq\":0,\"accOpenPast24Mths\":5,\"bcOpenToBuy\":15946,\"percentBcGt75\":0.0,\"bcUtil\":31.9,\"dti\":29.87,\"delinq2Yrs\":1,\"delinqAmnt\":0.0,\"earliestCrLine\":\"2010-02-22T16:00:00.000-08:00\",\"ficoRangeLow\":690,\"ficoRangeHigh\":694,\"inqLast6Mths\":0,\"mthsSinceLastDelinq\":21,\"mthsSinceLastRecord\":null,\"mthsSinceRecentInq\":7,\"mthsSinceRecentRevolDelinq\":null,\"mthsSinceRecentBc\":2,\"mortAcc\":0,\"openAcc\":13,\"pubRec\":0,\"totalBalExMort\":21274,\"revolBal\":10387.0,\"revolUtil\":32.2,\"totalBcLimit\":23400,\"totalAcc\":17,\"totalIlHighCreditLimit\":21556,\"numRevAccts\":11,\"mthsSinceRecentBcDlq\":null,\"pubRecBankruptcies\":0,\"numAcctsEver120Ppd\":0,\"chargeoffWithin12Mths\":0,\"collections12MthsExMed\":0,\"taxLiens\":0,\"mthsSinceLastMajorDerog\":null,\"numSats\":13,\"numTlOpPast12m\":2,\"moSinRcntTl\":2,\"totHiCredLim\":53856,\"totCurBal\":21274,\"avgCurBal\":1636,\"numBcTl\":7,\"numActvBcTl\":6,\"numBcSats\":7,\"pctTlNvrDlq\":94,\"numTl90gDpd24m\":0,\"numTl30dpd\":0,\"numTl120dpd2m\":0,\"numIlTl\":6,\"moSinOldIlAcct\":83,\"numActvRevTl\":8,\"moSinOldRevTlOp\":114,\"moSinRcntRevTlOp\":2,\"totalRevHiLim\":32300,\"numRevTlBalGt0\":8,\"numOpRevTl\":11,\"totCollAmt\":240,\"applicationType\":\"INDIVIDUAL\",\"annualIncJoint\":null,\"dtiJoint\":null,\"isIncVJoint\":null,\"openAcc6m\":1,\"openIl12m\":1,\"openIl24m\":2,\"mthsSinceRcntIl\":8,\"totalBalIl\":10887.0,\"iLUtil\":50.5,\"openRv12m\":1,\"openRv24m\":3,\"maxBalBc\":3142.0,\"allUtil\":39.5,\"inqFi\":2,\"totalCuTl\":0,\"inqLast12m\":1,\"mtgPayment\":0.0,\"housingPayment\":null,\"secAppFicoRangeLow\":null,\"secAppFicoRangeHigh\":null,\"secAppEarliestCrLine\":null,\"secAppInqLast6Mths\":null,\"secAppMortAcc\":null,\"secAppOpenAcc\":null,\"secAppRevolUtil\":null,\"secAppNumRevAccts\":null,\"secAppChargeoffWithin12Mths\":null,\"secAppCollections12MthsExMed\":null,\"secAppMthsSinceLastMajorDerog\":null,\"revolBalJoint\":null,\"disbursementMethod\":\"CASH\",\"openActIl\":2,\"secAppOpenActIl\":null},{\"id\":157575274,\"memberId\":195991433,\"loanAmount\":15000.0,\"fundedAmount\":7975.0,\"term\":36,\"intRate\":11.71,\"expDefaultRate\":5.36,\"serviceFeeRate\":1.05,\"installment\":496.14,\"grade\":\"B\",\"subGrade\":\"B3\",\"empLength\":36,\"homeOwnership\":\"RENT\",\"annualInc\":37000.0,\"isIncV\":\"NOT_VERIFIED\",\"acceptD\":\"2019-08-23T05:47:30.000-07:00\",\"expD\":\"2019-09-22T10:00:00.000-07:00\",\"listD\":\"2019-08-23T10:00:00.000-07:00\",\"creditPullD\":\"2019-08-23T05:43:07.000-07:00\",\"reviewStatusD\":\"2019-08-23T05:55:43.000-07:00\",\"reviewStatus\":\"APPROVED\",\"desc\":null,\"purpose\":\"debt_consolidation\",\"addrZip\":\"483xx\",\"addrState\":\"MI\",\"investorCount\":null,\"ilsExpD\":\"2019-08-23T10:00:00.000-07:00\",\"initialListStatus\":\"F\",\"empTitle\":\"Inspector\",\"accNowDelinq\":0,\"accOpenPast24Mths\":2,\"bcOpenToBuy\":966,\"percentBcGt75\":66.7,\"bcUtil\":79.4,\"dti\":15.93,\"delinq2Yrs\":0,\"delinqAmnt\":0.0,\"earliestCrLine\":\"2013-07-22T17:00:00.000-07:00\",\"ficoRangeLow\":675,\"ficoRangeHigh\":679,\"inqLast6Mths\":0,\"mthsSinceLastDelinq\":null,\"mthsSinceLastRecord\":null,\"mthsSinceRecentInq\":23,\"mthsSinceRecentRevolDelinq\":null,\"mthsSinceRecentBc\":10,\"mortAcc\":0,\"openAcc\":7,\"pubRec\":0,\"totalBalExMort\":12652,\"revolBal\":5220.0,\"revolUtil\":51.7,\"totalBcLimit\":4700,\"totalAcc\":10,\"totalIlHighCreditLimit\":10000,\"numRevAccts\":7,\"mthsSinceRecentBcDlq\":null,\"pubRecBankruptcies\":0,\"numAcctsEver120Ppd\":0,\"chargeoffWithin12Mths\":0,\"collections12MthsExMed\":0,\"taxLiens\":0,\"mthsSinceLastMajorDerog\":null,\"numSats\":7,\"numTlOpPast12m\":1,\"moSinRcntTl\":10,\"totHiCredLim\":20100,\"totCurBal\":12652,\"avgCurBal\":2109,\"numBcTl\":4,\"numActvBcTl\":3,\"numBcSats\":3,\"pctTlNvrDlq\":100,\"numTl90gDpd24m\":0,\"numTl30dpd\":0,\"numTl120dpd2m\":0,\"numIlTl\":3,\"moSinOldIlAcct\":48,\"numActvRevTl\":5,\"moSinOldRevTlOp\":73,\"moSinRcntRevTlOp\":10,\"totalRevHiLim\":10100,\"numRevTlBalGt0\":5,\"numOpRevTl\":6,\"totCollAmt\":0,\"applicationType\":\"INDIVIDUAL\",\"annualIncJoint\":null,\"dtiJoint\":null,\"isIncVJoint\":null,\"openAcc6m\":0,\"openIl12m\":0,\"openIl24m\":1,\"mthsSinceRcntIl\":23,\"totalBalIl\":7432.0,\"iLUtil\":74.3,\"openRv12m\":1,\"openRv24m\":1,\"maxBalBc\":2277.0,\"allUtil\":62.9,\"inqFi\":1,\"totalCuTl\":0,\"inqLast12m\":0,\"mtgPayment\":0.0,\"housingPayment\":null,\"secAppFicoRangeLow\":null,\"secAppFicoRangeHigh\":null,\"secAppEarliestCrLine\":null,\"secAppInqLast6Mths\":null,\"secAppMortAcc\":null,\"secAppOpenAcc\":null,\"secAppRevolUtil\":null,\"secAppNumRevAccts\":null,\"secAppChargeoffWithin12Mths\":null,\"secAppCollections12MthsExMed\":null,\"secAppMthsSinceLastMajorDerog\":null,\"revolBalJoint\":null,\"disbursementMethod\":\"CASH\",\"openActIl\":1,\"secAppOpenActIl\":null},{\"id\":157572157,\"memberId\":195986303,\"loanAmount\":16000.0,\"fundedAmount\":8575.0,\"term\":36,\"intRate\":16.95,\"expDefaultRate\":7.96,\"serviceFeeRate\":1.23,\"installment\":570.05,\"grade\":\"C\",\"subGrade\":\"C4\",\"empLength\":204,\"homeOwnership\":\"MORTGAGE\",\"annualInc\":73000.0,\"isIncV\":\"SOURCE_VERIFIED\",\"acceptD\":\"2019-08-23T05:53:02.000-07:00\",\"expD\":\"2019-09-22T10:00:00.000-07:00\",\"listD\":\"2019-08-23T10:00:00.000-07:00\",\"creditPullD\":\"2019-08-23T04:10:01.000-07:00\",\"reviewStatusD\":\"2019-08-23T06:02:32.000-07:00\",\"reviewStatus\":\"APPROVED\",\"desc\":null,\"purpose\":\"credit_card\",\"addrZip\":\"890xx\",\"addrState\":\"NV\",\"investorCount\":null,\"ilsExpD\":\"2019-08-23T10:00:00.000-07:00\",\"initialListStatus\":\"F\",\"empTitle\":\"TECHNICAL SERGEANT\",\"accNowDelinq\":0,\"accOpenPast24Mths\":3,\"bcOpenToBuy\":24922,\"percentBcGt75\":50.0,\"bcUtil\":52.3,\"dti\":23.79,\"delinq2Yrs\":0,\"delinqAmnt\":0.0,\"earliestCrLine\":\"1996-04-22T17:00:00.000-07:00\",\"ficoRangeLow\":670,\"ficoRangeHigh\":674,\"inqLast6Mths\":1,\"mthsSinceLastDelinq\":43,\"mthsSinceLastRecord\":null,\"mthsSinceRecentInq\":0,\"mthsSinceRecentRevolDelinq\":43,\"mthsSinceRecentBc\":35,\"mortAcc\":5,\"openAcc\":24,\"pubRec\":0,\"totalBalExMort\":63663,\"revolBal\":47611.0,\"revolUtil\":57.4,\"totalBcLimit\":52300,\"totalAcc\":54,\"totalIlHighCreditLimit\":28063,\"numRevAccts\":35,\"mthsSinceRecentBcDlq\":43,\"pubRecBankruptcies\":0,\"numAcctsEver120Ppd\":0,\"chargeoffWithin12Mths\":0,\"collections12MthsExMed\":0,\"taxLiens\":0,\"mthsSinceLastMajorDerog\":null,\"numSats\":24,\"numTlOpPast12m\":2,\"moSinRcntTl\":0,\"totHiCredLim\":111063,\"totCurBal\":63663,\"avgCurBal\":3351,\"numBcTl\":22,\"numActvBcTl\":8,\"numBcSats\":17,\"pctTlNvrDlq\":94,\"numTl90gDpd24m\":0,\"numTl30dpd\":0,\"numTl120dpd2m\":0,\"numIlTl\":14,\"moSinOldIlAcct\":280,\"numActvRevTl\":12,\"moSinOldRevTlOp\":183,\"moSinRcntRevTlOp\":0,\"totalRevHiLim\":83000,\"numRevTlBalGt0\":12,\"numOpRevTl\":23,\"totCollAmt\":0,\"applicationType\":\"INDIVIDUAL\",\"annualIncJoint\":null,\"dtiJoint\":null,\"isIncVJoint\":null,\"openAcc6m\":2,\"openIl12m\":0,\"openIl24m\":0,\"mthsSinceRcntIl\":35,\"totalBalIl\":16052.0,\"iLUtil\":57.2,\"openRv12m\":2,\"openRv24m\":3,\"maxBalBc\":6171.0,\"allUtil\":57.3,\"inqFi\":2,\"totalCuTl\":4,\"inqLast12m\":3,\"mtgPayment\":0.0,\"housingPayment\":null,\"secAppFicoRangeLow\":null,\"secAppFicoRangeHigh\":null,\"secAppEarliestCrLine\":null,\"secAppInqLast6Mths\":null,\"secAppMortAcc\":null,\"secAppOpenAcc\":null,\"secAppRevolUtil\":null,\"secAppNumRevAccts\":null,\"secAppChargeoffWithin12Mths\":null,\"secAppCollections12MthsExMed\":null,\"secAppMthsSinceLastMajorDerog\":null,\"revolBalJoint\":null,\"disbursementMethod\":\"CASH\",\"openActIl\":1,\"secAppOpenActIl\":null},{\"id\":157526115,\"memberId\":195849072,\"loanAmount\":10000.0,\"fundedAmount\":1950.0,\"term\":36,\"intRate\":17.74,\"expDefaultRate\":7.96,\"serviceFeeRate\":1.23,\"installment\":360.23,\"grade\":\"C\",\"subGrade\":\"C5\",\"empLength\":348,\"homeOwnership\":\"OWN\",\"annualInc\":50000.0,\"isIncV\":\"VERIFIED\",\"acceptD\":\"2019-08-22T08:30:02.000-07:00\",\"expD\":\"2019-09-22T10:00:00.000-07:00\",\"listD\":\"2019-08-23T10:00:00.000-07:00\",\"creditPullD\":\"2019-08-22T08:24:26.000-07:00\",\"reviewStatusD\":\"2019-08-23T06:20:50.000-07:00\",\"reviewStatus\":\"APPROVED\",\"desc\":null,\"purpose\":\"debt_consolidation\",\"addrZip\":\"307xx\",\"addrState\":\"GA\",\"investorCount\":null,\"ilsExpD\":\"2019-08-23T10:00:00.000-07:00\",\"initialListStatus\":\"F\",\"empTitle\":\"Loan Processor\",\"accNowDelinq\":0,\"accOpenPast24Mths\":2,\"bcOpenToBuy\":2182,\"percentBcGt75\":66.7,\"bcUtil\":72.7,\"dti\":16.63,\"delinq2Yrs\":1,\"delinqAmnt\":0.0,\"earliestCrLine\":\"2003-03-21T16:00:00.000-08:00\",\"ficoRangeLow\":675,\"ficoRangeHigh\":679,\"inqLast6Mths\":1,\"mthsSinceLastDelinq\":16,\"mthsSinceLastRecord\":null,\"mthsSinceRecentInq\":0,\"mthsSinceRecentRevolDelinq\":16,\"mthsSinceRecentBc\":0,\"mortAcc\":2,\"openAcc\":9,\"pubRec\":0,\"totalBalExMort\":27096,\"revolBal\":7125.0,\"revolUtil\":60.4,\"totalBcLimit\":8000,\"totalAcc\":25,\"totalIlHighCreditLimit\":28559,\"numRevAccts\":17,\"mthsSinceRecentBcDlq\":16,\"pubRecBankruptcies\":0,\"numAcctsEver120Ppd\":0,\"chargeoffWithin12Mths\":0,\"collections12MthsExMed\":0,\"taxLiens\":0,\"mthsSinceLastMajorDerog\":null,\"numSats\":9,\"numTlOpPast12m\":2,\"moSinRcntTl\":0,\"totHiCredLim\":40359,\"totCurBal\":27096,\"avgCurBal\":3387,\"numBcTl\":9,\"numActvBcTl\":3,\"numBcSats\":3,\"pctTlNvrDlq\":96,\"numTl90gDpd24m\":0,\"numTl30dpd\":0,\"numTl120dpd2m\":0,\"numIlTl\":6,\"moSinOldIlAcct\":137,\"numActvRevTl\":5,\"moSinOldRevTlOp\":158,\"moSinRcntRevTlOp\":0,\"totalRevHiLim\":11800,\"numRevTlBalGt0\":5,\"numOpRevTl\":6,\"totCollAmt\":0,\"applicationType\":\"INDIVIDUAL\",\"annualIncJoint\":null,\"dtiJoint\":null,\"isIncVJoint\":null,\"openAcc6m\":2,\"openIl12m\":0,\"openIl24m\":0,\"mthsSinceRcntIl\":36,\"totalBalIl\":19971.0,\"iLUtil\":69.9,\"openRv12m\":2,\"openRv24m\":2,\"maxBalBc\":3462.0,\"allUtil\":67.1,\"inqFi\":0,\"totalCuTl\":0,\"inqLast12m\":1,\"mtgPayment\":0.0,\"housingPayment\":null,\"secAppFicoRangeLow\":null,\"secAppFicoRangeHigh\":null,\"secAppEarliestCrLine\":null,\"secAppInqLast6Mths\":null,\"secAppMortAcc\":null,\"secAppOpenAcc\":null,\"secAppRevolUtil\":null,\"secAppNumRevAccts\":null,\"secAppChargeoffWithin12Mths\":null,\"secAppCollections12MthsExMed\":null,\"secAppMthsSinceLastMajorDerog\":null,\"revolBalJoint\":null,\"disbursementMethod\":\"CASH\",\"openActIl\":3,\"secAppOpenActIl\":null},{\"id\":157569368,\"memberId\":195984567,\"loanAmount\":20000.0,\"fundedAmount\":11700.0,\"term\":60,\"intRate\":8.19,\"expDefaultRate\":2.42,\"serviceFeeRate\":0.62,\"installment\":407.35,\"grade\":\"A\",\"subGrade\":\"A4\",\"empLength\":96,\"homeOwnership\":\"MORTGAGE\",\"annualInc\":120000.0,\"isIncV\":\"SOURCE_VERIFIED\",\"acceptD\":\"2019-08-23T05:42:32.000-07:00\",\"expD\":\"2019-09-22T10:00:00.000-07:00\",\"listD\":\"2019-08-23T10:00:00.000-07:00\",\"creditPullD\":\"2019-08-23T05:38:45.000-07:00\",\"reviewStatusD\":\"2019-08-23T06:05:56.000-07:00\",\"reviewStatus\":\"APPROVED\",\"desc\":null,\"purpose\":\"debt_consolidation\",\"addrZip\":\"115xx\",\"addrState\":\"NY\",\"investorCount\":null,\"ilsExpD\":\"2019-08-23T10:00:00.000-07:00\",\"initialListStatus\":\"F\",\"empTitle\":\"manager\",\"accNowDelinq\":0,\"accOpenPast24Mths\":5,\"bcOpenToBuy\":19199,\"percentBcGt75\":0.0,\"bcUtil\":33.8,\"dti\":18.99,\"delinq2Yrs\":0,\"delinqAmnt\":0.0,\"earliestCrLine\":\"1993-04-22T17:00:00.000-07:00\",\"ficoRangeLow\":750,\"ficoRangeHigh\":754,\"inqLast6Mths\":0,\"mthsSinceLastDelinq\":71,\"mthsSinceLastRecord\":null,\"mthsSinceRecentInq\":7,\"mthsSinceRecentRevolDelinq\":71,\"mthsSinceRecentBc\":37,\"mortAcc\":2,\"openAcc\":7,\"pubRec\":0,\"totalBalExMort\":83857,\"revolBal\":14105.0,\"revolUtil\":36.1,\"totalBcLimit\":29000,\"totalAcc\":34,\"totalIlHighCreditLimit\":82711,\"numRevAccts\":23,\"mthsSinceRecentBcDlq\":72,\"pubRecBankruptcies\":0,\"numAcctsEver120Ppd\":0,\"chargeoffWithin12Mths\":0,\"collections12MthsExMed\":0,\"taxLiens\":0,\"mthsSinceLastMajorDerog\":null,\"numSats\":7,\"numTlOpPast12m\":4,\"moSinRcntTl\":3,\"totHiCredLim\":592411,\"totCurBal\":536259,\"avgCurBal\":76608,\"numBcTl\":9,\"numActvBcTl\":1,\"numBcSats\":1,\"pctTlNvrDlq\":94,\"numTl90gDpd24m\":0,\"numTl30dpd\":0,\"numTl120dpd2m\":0,\"numIlTl\":9,\"moSinOldIlAcct\":139,\"numActvRevTl\":3,\"moSinOldRevTlOp\":316,\"moSinRcntRevTlOp\":3,\"totalRevHiLim\":53700,\"numRevTlBalGt0\":3,\"numOpRevTl\":3,\"totCollAmt\":0,\"applicationType\":\"INDIVIDUAL\",\"annualIncJoint\":null,\"dtiJoint\":null,\"isIncVJoint\":null,\"openAcc6m\":1,\"openIl12m\":2,\"openIl24m\":3,\"mthsSinceRcntIl\":10,\"totalBalIl\":69752.0,\"iLUtil\":84.3,\"openRv12m\":1,\"openRv24m\":1,\"maxBalBc\":9801.0,\"allUtil\":68.9,\"inqFi\":0,\"totalCuTl\":3,\"inqLast12m\":2,\"mtgPayment\":3514.0,\"housingPayment\":null,\"secAppFicoRangeLow\":null,\"secAppFicoRangeHigh\":null,\"secAppEarliestCrLine\":null,\"secAppInqLast6Mths\":null,\"secAppMortAcc\":null,\"secAppOpenAcc\":null,\"secAppRevolUtil\":null,\"secAppNumRevAccts\":null,\"secAppChargeoffWithin12Mths\":null,\"secAppCollections12MthsExMed\":null,\"secAppMthsSinceLastMajorDerog\":null,\"revolBalJoint\":null,\"disbursementMethod\":\"DIRECT_PAY\",\"openActIl\":3,\"secAppOpenActIl\":null},{\"id\":157377610,\"memberId\":195591606,\"loanAmount\":12000.0,\"fundedAmount\":2325.0,\"term\":36,\"intRate\":11.02,\"expDefaultRate\":5.36,\"serviceFeeRate\":1.05,\"installment\":392.98,\"grade\":\"B\",\"subGrade\":\"B2\",\"empLength\":204,\"homeOwnership\":\"RENT\",\"annualInc\":45000.0,\"isIncV\":\"SOURCE_VERIFIED\",\"acceptD\":\"2019-08-20T11:55:18.000-07:00\",\"expD\":\"2019-09-22T10:00:00.000-07:00\",\"listD\":\"2019-08-23T10:00:00.000-07:00\",\"creditPullD\":\"2019-08-20T09:43:02.000-07:00\",\"reviewStatusD\":\"2019-08-23T05:57:22.000-07:00\",\"reviewStatus\":\"APPROVED\",\"desc\":null,\"purpose\":\"credit_card\",\"addrZip\":\"727xx\",\"addrState\":\"AR\",\"investorCount\":null,\"ilsExpD\":\"2019-08-23T10:00:00.000-07:00\",\"initialListStatus\":\"F\",\"empTitle\":\"Assistant manager\",\"accNowDelinq\":0,\"accOpenPast24Mths\":4,\"bcOpenToBuy\":4504,\"percentBcGt75\":25.0,\"bcUtil\":49.4,\"dti\":32.99,\"delinq2Yrs\":0,\"delinqAmnt\":0.0,\"earliestCrLine\":\"2001-07-19T17:00:00.000-07:00\",\"ficoRangeLow\":670,\"ficoRangeHigh\":674,\"inqLast6Mths\":0,\"mthsSinceLastDelinq\":50,\"mthsSinceLastRecord\":null,\"mthsSinceRecentInq\":6,\"mthsSinceRecentRevolDelinq\":null,\"mthsSinceRecentBc\":82,\"mortAcc\":0,\"openAcc\":13,\"pubRec\":0,\"totalBalExMort\":47554,\"revolBal\":13937.0,\"revolUtil\":51.6,\"totalBcLimit\":8900,\"totalAcc\":25,\"totalIlHighCreditLimit\":43779,\"numRevAccts\":17,\"mthsSinceRecentBcDlq\":null,\"pubRecBankruptcies\":0,\"numAcctsEver120Ppd\":1,\"chargeoffWithin12Mths\":0,\"collections12MthsExMed\":2,\"taxLiens\":0,\"mthsSinceLastMajorDerog\":50,\"numSats\":13,\"numTlOpPast12m\":3,\"moSinRcntTl\":4,\"totHiCredLim\":70779,\"totCurBal\":47554,\"avgCurBal\":3658,\"numBcTl\":7,\"numActvBcTl\":1,\"numBcSats\":4,\"pctTlNvrDlq\":96,\"numTl90gDpd24m\":0,\"numTl30dpd\":0,\"numTl120dpd2m\":0,\"numIlTl\":7,\"moSinOldIlAcct\":96,\"numActvRevTl\":4,\"moSinOldRevTlOp\":217,\"moSinRcntRevTlOp\":4,\"totalRevHiLim\":27000,\"numRevTlBalGt0\":4,\"numOpRevTl\":10,\"totCollAmt\":187,\"applicationType\":\"INDIVIDUAL\",\"annualIncJoint\":null,\"dtiJoint\":null,\"isIncVJoint\":null,\"openAcc6m\":3,\"openIl12m\":1,\"openIl24m\":2,\"mthsSinceRcntIl\":6,\"totalBalIl\":33617.0,\"iLUtil\":76.8,\"openRv12m\":2,\"openRv24m\":2,\"maxBalBc\":4396.0,\"allUtil\":67.2,\"inqFi\":0,\"totalCuTl\":0,\"inqLast12m\":2,\"mtgPayment\":0.0,\"housingPayment\":null,\"secAppFicoRangeLow\":null,\"secAppFicoRangeHigh\":null,\"secAppEarliestCrLine\":null,\"secAppInqLast6Mths\":null,\"secAppMortAcc\":null,\"secAppOpenAcc\":null,\"secAppRevolUtil\":null,\"secAppNumRevAccts\":null,\"secAppChargeoffWithin12Mths\":null,\"secAppCollections12MthsExMed\":null,\"secAppMthsSinceLastMajorDerog\":null,\"revolBalJoint\":null,\"disbursementMethod\":\"CASH\",\"openActIl\":3,\"secAppOpenActIl\":null},{\"id\":157575223,\"memberId\":195991381,\"loanAmount\":31000.0,\"fundedAmount\":5325.0,\"term\":36,\"intRate\":6.46,\"expDefaultRate\":2.63,\"serviceFeeRate\":0.88,\"installment\":949.56,\"grade\":\"A\",\"subGrade\":\"A1\",\"empLength\":0,\"homeOwnership\":\"MORTGAGE\",\"annualInc\":100000.0,\"isIncV\":\"NOT_VERIFIED\",\"acceptD\":\"2019-08-23T05:34:14.000-07:00\",\"expD\":\"2019-09-22T10:00:00.000-07:00\",\"listD\":\"2019-08-23T10:00:00.000-07:00\",\"creditPullD\":\"2019-08-23T05:20:11.000-07:00\",\"reviewStatusD\":\"2019-08-23T05:54:05.000-07:00\",\"reviewStatus\":\"APPROVED\",\"desc\":null,\"purpose\":\"credit_card\",\"addrZip\":\"199xx\",\"addrState\":\"DE\",\"investorCount\":null,\"ilsExpD\":\"2019-08-23T10:00:00.000-07:00\",\"initialListStatus\":\"F\",\"empTitle\":\"Nurse Practitioner\",\"accNowDelinq\":0,\"accOpenPast24Mths\":1,\"bcOpenToBuy\":37904,\"percentBcGt75\":20.0,\"bcUtil\":43.8,\"dti\":15.52,\"delinq2Yrs\":1,\"delinqAmnt\":0.0,\"earliestCrLine\":\"2003-09-22T17:00:00.000-07:00\",\"ficoRangeLow\":685,\"ficoRangeHigh\":689,\"inqLast6Mths\":2,\"mthsSinceLastDelinq\":9,\"mthsSinceLastRecord\":null,\"mthsSinceRecentInq\":1,\"mthsSinceRecentRevolDelinq\":9,\"mthsSinceRecentBc\":41,\"mortAcc\":0,\"openAcc\":11,\"pubRec\":0,\"totalBalExMort\":67221,\"revolBal\":29568.0,\"revolUtil\":43.5,\"totalBcLimit\":67400,\"totalAcc\":23,\"totalIlHighCreditLimit\":48201,\"numRevAccts\":12,\"mthsSinceRecentBcDlq\":9,\"pubRecBankruptcies\":0,\"numAcctsEver120Ppd\":0,\"chargeoffWithin12Mths\":0,\"collections12MthsExMed\":0,\"taxLiens\":0,\"mthsSinceLastMajorDerog\":null,\"numSats\":11,\"numTlOpPast12m\":1,\"moSinRcntTl\":1,\"totHiCredLim\":116101,\"totCurBal\":67221,\"avgCurBal\":6722,\"numBcTl\":7,\"numActvBcTl\":5,\"numBcSats\":5,\"pctTlNvrDlq\":95,\"numTl90gDpd24m\":0,\"numTl30dpd\":0,\"numTl120dpd2m\":0,\"numIlTl\":11,\"moSinOldIlAcct\":155,\"numActvRevTl\":6,\"moSinOldRevTlOp\":191,\"moSinRcntRevTlOp\":41,\"totalRevHiLim\":67900,\"numRevTlBalGt0\":6,\"numOpRevTl\":7,\"totCollAmt\":0,\"applicationType\":\"INDIVIDUAL\",\"annualIncJoint\":null,\"dtiJoint\":null,\"isIncVJoint\":null,\"openAcc6m\":1,\"openIl12m\":1,\"openIl24m\":1,\"mthsSinceRcntIl\":1,\"totalBalIl\":37653.0,\"iLUtil\":78.1,\"openRv12m\":0,\"openRv24m\":0,\"maxBalBc\":9505.0,\"allUtil\":57.9,\"inqFi\":0,\"totalCuTl\":0,\"inqLast12m\":5,\"mtgPayment\":0.0,\"housingPayment\":null,\"secAppFicoRangeLow\":null,\"secAppFicoRangeHigh\":null,\"secAppEarliestCrLine\":null,\"secAppInqLast6Mths\":null,\"secAppMortAcc\":null,\"secAppOpenAcc\":null,\"secAppRevolUtil\":null,\"secAppNumRevAccts\":null,\"secAppChargeoffWithin12Mths\":null,\"secAppCollections12MthsExMed\":null,\"secAppMthsSinceLastMajorDerog\":null,\"revolBalJoint\":null,\"disbursementMethod\":\"DIRECT_PAY\",\"openActIl\":4,\"secAppOpenActIl\":null},{\"id\":157504044,\"memberId\":195829928,\"loanAmount\":30000.0,\"fundedAmount\":3875.0,\"term\":36,\"intRate\":16.12,\"expDefaultRate\":7.96,\"serviceFeeRate\":1.23,\"installment\":1056.49,\"grade\":\"C\",\"subGrade\":\"C3\",\"empLength\":24,\"homeOwnership\":\"MORTGAGE\",\"annualInc\":136000.0,\"isIncV\":\"NOT_VERIFIED\",\"acceptD\":\"2019-08-22T04:56:44.000-07:00\",\"expD\":\"2019-09-22T10:00:00.000-07:00\",\"listD\":\"2019-08-23T10:00:00.000-07:00\",\"creditPullD\":\"2019-08-22T04:35:08.000-07:00\",\"reviewStatusD\":\"2019-08-23T05:57:47.000-07:00\",\"reviewStatus\":\"APPROVED\",\"desc\":null,\"purpose\":\"debt_consolidation\",\"addrZip\":\"930xx\",\"addrState\":\"CA\",\"investorCount\":null,\"ilsExpD\":\"2019-08-23T10:00:00.000-07:00\",\"initialListStatus\":\"F\",\"empTitle\":\"Site Environmental and Safety Manager\",\"accNowDelinq\":0,\"accOpenPast24Mths\":4,\"bcOpenToBuy\":0,\"percentBcGt75\":100.0,\"bcUtil\":101.4,\"dti\":15.91,\"delinq2Yrs\":0,\"delinqAmnt\":0.0,\"earliestCrLine\":\"2007-07-21T17:00:00.000-07:00\",\"ficoRangeLow\":675,\"ficoRangeHigh\":679,\"inqLast6Mths\":1,\"mthsSinceLastDelinq\":40,\"mthsSinceLastRecord\":null,\"mthsSinceRecentInq\":0,\"mthsSinceRecentRevolDelinq\":null,\"mthsSinceRecentBc\":8,\"mortAcc\":4,\"openAcc\":13,\"pubRec\":0,\"totalBalExMort\":65233,\"revolBal\":23243.0,\"revolUtil\":61.3,\"totalBcLimit\":17600,\"totalAcc\":22,\"totalIlHighCreditLimit\":55819,\"numRevAccts\":13,\"mthsSinceRecentBcDlq\":null,\"pubRecBankruptcies\":0,\"numAcctsEver120Ppd\":0,\"chargeoffWithin12Mths\":0,\"collections12MthsExMed\":0,\"taxLiens\":0,\"mthsSinceLastMajorDerog\":79,\"numSats\":13,\"numTlOpPast12m\":2,\"moSinRcntTl\":8,\"totHiCredLim\":462959,\"totCurBal\":420172,\"avgCurBal\":32321,\"numBcTl\":5,\"numActvBcTl\":5,\"numBcSats\":5,\"pctTlNvrDlq\":86,\"numTl90gDpd24m\":0,\"numTl30dpd\":0,\"numTl120dpd2m\":0,\"numIlTl\":5,\"moSinOldIlAcct\":143,\"numActvRevTl\":8,\"moSinOldRevTlOp\":145,\"moSinRcntRevTlOp\":8,\"totalRevHiLim\":37900,\"numRevTlBalGt0\":8,\"numOpRevTl\":9,\"totCollAmt\":0,\"applicationType\":\"INDIVIDUAL\",\"annualIncJoint\":null,\"dtiJoint\":null,\"isIncVJoint\":null,\"openAcc6m\":0,\"openIl12m\":0,\"openIl24m\":2,\"mthsSinceRcntIl\":21,\"totalBalIl\":41990.0,\"iLUtil\":75.2,\"openRv12m\":2,\"openRv24m\":2,\"maxBalBc\":6126.0,\"allUtil\":69.6,\"inqFi\":1,\"totalCuTl\":1,\"inqLast12m\":1,\"mtgPayment\":2392.47,\"housingPayment\":null,\"secAppFicoRangeLow\":null,\"secAppFicoRangeHigh\":null,\"secAppEarliestCrLine\":null,\"secAppInqLast6Mths\":null,\"secAppMortAcc\":null,\"secAppOpenAcc\":null,\"secAppRevolUtil\":null,\"secAppNumRevAccts\":null,\"secAppChargeoffWithin12Mths\":null,\"secAppCollections12MthsExMed\":null,\"secAppMthsSinceLastMajorDerog\":null,\"revolBalJoint\":null,\"disbursementMethod\":\"DIRECT_PAY\",\"openActIl\":3,\"secAppOpenActIl\":null}]}'"
      ]
     },
     "execution_count": 70,
     "metadata": {},
     "output_type": "execute_result"
    }
   ],
   "source": [
    "res.text."
   ]
  },
  {
   "cell_type": "code",
   "execution_count": 58,
   "metadata": {},
   "outputs": [
    {
     "ename": "SyntaxError",
     "evalue": "invalid syntax (<ipython-input-58-b328f52dfaa8>, line 1)",
     "output_type": "error",
     "traceback": [
      "\u001b[0;36m  File \u001b[0;32m\"<ipython-input-58-b328f52dfaa8>\"\u001b[0;36m, line \u001b[0;32m1\u001b[0m\n\u001b[0;31m    res.json.\u001b[0m\n\u001b[0m             ^\u001b[0m\n\u001b[0;31mSyntaxError\u001b[0m\u001b[0;31m:\u001b[0m invalid syntax\n"
     ]
    }
   ],
   "source": [
    "res.json."
   ]
  },
  {
   "cell_type": "code",
   "execution_count": null,
   "metadata": {},
   "outputs": [],
   "source": []
  }
 ],
 "metadata": {
  "kernelspec": {
   "display_name": "Python [conda env:lending_club]",
   "language": "python",
   "name": "conda-env-lending_club-py"
  },
  "language_info": {
   "codemirror_mode": {
    "name": "ipython",
    "version": 3
   },
   "file_extension": ".py",
   "mimetype": "text/x-python",
   "name": "python",
   "nbconvert_exporter": "python",
   "pygments_lexer": "ipython3",
   "version": "3.7.3"
  }
 },
 "nbformat": 4,
 "nbformat_minor": 2
}
