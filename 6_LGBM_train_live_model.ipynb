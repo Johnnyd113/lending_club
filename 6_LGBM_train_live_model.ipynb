{
 "cells": [
  {
   "cell_type": "markdown",
   "metadata": {},
   "source": [
    "Now the model has been evaluated on test set. Retrain model on all data before predicting on live loans"
   ]
  },
  {
   "cell_type": "code",
   "execution_count": 7,
   "metadata": {},
   "outputs": [],
   "source": [
    "import warnings\n",
    "warnings.filterwarnings('ignore')\n",
    "import numpy as np\n",
    "import pandas as pd\n",
    "from pathlib import Path\n",
    "from sklearn.model_selection import KFold\n",
    "import lightgbm as lgb\n",
    "from scipy.cluster import hierarchy as hc\n",
    "import scipy\n",
    "from scipy import stats\n",
    "from sklearn.metrics import r2_score\n",
    "import matplotlib.pyplot as plt\n",
    "import pickle\n",
    "%matplotlib inline\n",
    "pd.set_option('display.max_columns', 50)"
   ]
  },
  {
   "cell_type": "code",
   "execution_count": 8,
   "metadata": {},
   "outputs": [],
   "source": [
    "data_path = 'data/'"
   ]
  },
  {
   "cell_type": "code",
   "execution_count": 9,
   "metadata": {},
   "outputs": [],
   "source": [
    "train_df = pd.read_pickle(data_path+'train_lgbm.pkl')\n",
    "test_df = pd.read_pickle(data_path+'test_lgbm.pkl')"
   ]
  },
  {
   "cell_type": "code",
   "execution_count": 10,
   "metadata": {},
   "outputs": [],
   "source": [
    "train_df = pd.concat([train_df,test_df],ignore_index=True)"
   ]
  },
  {
   "cell_type": "code",
   "execution_count": 11,
   "metadata": {},
   "outputs": [],
   "source": [
    "with open('x_cols.pickle', 'rb') as f:\n",
    "    x_cols = pickle.load(f)"
   ]
  },
  {
   "cell_type": "code",
   "execution_count": 12,
   "metadata": {},
   "outputs": [],
   "source": [
    "# define a few helper functions we will use repeatedly\n",
    "def train_model(params, train_df, kf,x_cols=x_cols,save_model=False):\n",
    "\n",
    "    # save fold scores\n",
    "    scores = []\n",
    "\n",
    "    # for fold predictions\n",
    "    train_df['pred_returns'] = 0\n",
    "\n",
    "    # feature importance dfs\n",
    "    importance = pd.DataFrame(x_cols,columns=['Feature'])\n",
    "    importance['gain'] = 0\n",
    "    importance['split'] = 0\n",
    "\n",
    "\n",
    "    # 5 fold split\n",
    "    \n",
    "    i = 0\n",
    "    for train_ind, val_ind in kf.split(train_df):\n",
    "\n",
    "        # split data\n",
    "        x_train = train_df.iloc[train_ind][x_cols]\n",
    "        y_train = train_df.iloc[train_ind]['returns']\n",
    "\n",
    "        x_val = train_df.iloc[val_ind][x_cols]\n",
    "        y_val = train_df.iloc[val_ind]['returns']\n",
    "\n",
    "        train_data = lgb.Dataset(x_train,label=y_train)\n",
    "        val_data = lgb.Dataset(x_val, label=y_val)\n",
    "\n",
    "        # train model\n",
    "        lgb_model = lgb.train(params,\n",
    "                              train_data,\n",
    "                              num_boost_round=10000,\n",
    "                              valid_sets = [train_data, val_data],\n",
    "                              verbose_eval=100,\n",
    "                              early_stopping_rounds = 100)\n",
    "\n",
    "        # Out-of-fold train prediction\n",
    "        train_preds = lgb_model.predict(x_val)\n",
    "        train_df.loc[val_ind,'pred_returns'] = train_preds\n",
    "\n",
    "        # save scores\n",
    "        score = r2_score(y_val,lgb_model.predict(x_val))\n",
    "        scores.append(score)\n",
    "\n",
    "        print(score)\n",
    "\n",
    "        # feature importances\n",
    "        gain_sum = lgb_model.feature_importance(importance_type='gain').sum()\n",
    "        \n",
    "        importance['gain'] += lgb_model.feature_importance(importance_type='gain')/gain_sum\n",
    "        importance[f'gain_{i}'] = lgb_model.feature_importance(importance_type='gain')/gain_sum\n",
    "        \n",
    "        importance['split'] += lgb_model.feature_importance(importance_type='split')/5\n",
    "        importance[f'split_{i}'] = lgb_model.feature_importance(importance_type='split')\n",
    "        # save model\n",
    "        if save_model==True:\n",
    "            lgb_model.save_model(f'models/model_{i}.txt')\n",
    "        i += 1\n",
    "        \n",
    "    return train_df, importance, np.array(scores)\n",
    "\n",
    "def conf_interval(train_df=train_df,return_thresh=0.07,N=100,conf=0.95):\n",
    "    high_returns = train_df.loc[train_df['pred_returns']>=return_thresh]\n",
    "    high_returns = high_returns['returns']\n",
    "    mu = high_returns.mean()\n",
    "    sigma = high_returns.std()\n",
    "    return mu, stats.norm.interval(conf, loc=mu, scale=sigma/np.sqrt(N))\n",
    "\n",
    "def plot_importance(importance,imp_type,max_features=None):\n",
    "    temp = importance.sort_values(by=imp_type,ascending=True)\n",
    "    if max_features:\n",
    "        temp = temp[-max_features:]\n",
    "    plt.title(f'Feature Importance by {imp_type}')\n",
    "    plt.barh(temp['Feature'],temp[imp_type]);"
   ]
  },
  {
   "cell_type": "code",
   "execution_count": 13,
   "metadata": {},
   "outputs": [],
   "source": [
    "# sort data by time\n",
    "train_df = train_df.sort_values('issue_d')\n",
    "train_df.reset_index(inplace=True,drop=True)"
   ]
  },
  {
   "cell_type": "code",
   "execution_count": 15,
   "metadata": {},
   "outputs": [],
   "source": [
    "kf = KFold(n_splits=5, shuffle=False, random_state=11)"
   ]
  },
  {
   "cell_type": "code",
   "execution_count": 16,
   "metadata": {},
   "outputs": [
    {
     "name": "stdout",
     "output_type": "stream",
     "text": [
      "Training until validation scores don't improve for 100 rounds.\n",
      "[100]\ttraining's rmse: 0.165845\tvalid_1's rmse: 0.148862\n",
      "[200]\ttraining's rmse: 0.165303\tvalid_1's rmse: 0.148674\n",
      "[300]\ttraining's rmse: 0.164882\tvalid_1's rmse: 0.148692\n",
      "Early stopping, best iteration is:\n",
      "[254]\ttraining's rmse: 0.165074\tvalid_1's rmse: 0.148659\n",
      "0.0027194789476845393\n",
      "Training until validation scores don't improve for 100 rounds.\n",
      "[100]\ttraining's rmse: 0.16393\tvalid_1's rmse: 0.156308\n",
      "[200]\ttraining's rmse: 0.163304\tvalid_1's rmse: 0.156158\n",
      "[300]\ttraining's rmse: 0.162859\tvalid_1's rmse: 0.15612\n",
      "[400]\ttraining's rmse: 0.162457\tvalid_1's rmse: 0.156073\n",
      "[500]\ttraining's rmse: 0.162096\tvalid_1's rmse: 0.156066\n",
      "[600]\ttraining's rmse: 0.161767\tvalid_1's rmse: 0.15607\n",
      "Early stopping, best iteration is:\n",
      "[546]\ttraining's rmse: 0.161944\tvalid_1's rmse: 0.156064\n",
      "0.01296094256240321\n",
      "Training until validation scores don't improve for 100 rounds.\n",
      "[100]\ttraining's rmse: 0.162584\tvalid_1's rmse: 0.161614\n",
      "[200]\ttraining's rmse: 0.161976\tvalid_1's rmse: 0.161475\n",
      "[300]\ttraining's rmse: 0.161536\tvalid_1's rmse: 0.161428\n",
      "[400]\ttraining's rmse: 0.161143\tvalid_1's rmse: 0.161408\n",
      "[500]\ttraining's rmse: 0.160799\tvalid_1's rmse: 0.161398\n",
      "[600]\ttraining's rmse: 0.160464\tvalid_1's rmse: 0.161385\n",
      "[700]\ttraining's rmse: 0.160149\tvalid_1's rmse: 0.161392\n",
      "Early stopping, best iteration is:\n",
      "[621]\ttraining's rmse: 0.160394\tvalid_1's rmse: 0.161382\n",
      "0.01979998268536398\n",
      "Training until validation scores don't improve for 100 rounds.\n",
      "[100]\ttraining's rmse: 0.16125\tvalid_1's rmse: 0.167108\n",
      "[200]\ttraining's rmse: 0.160652\tvalid_1's rmse: 0.166855\n",
      "[300]\ttraining's rmse: 0.160204\tvalid_1's rmse: 0.166762\n",
      "[400]\ttraining's rmse: 0.159821\tvalid_1's rmse: 0.166727\n",
      "[500]\ttraining's rmse: 0.159486\tvalid_1's rmse: 0.166719\n",
      "[600]\ttraining's rmse: 0.159166\tvalid_1's rmse: 0.166706\n",
      "[700]\ttraining's rmse: 0.15886\tvalid_1's rmse: 0.166697\n",
      "[800]\ttraining's rmse: 0.158579\tvalid_1's rmse: 0.166689\n",
      "Early stopping, best iteration is:\n",
      "[798]\ttraining's rmse: 0.158586\tvalid_1's rmse: 0.166688\n",
      "0.02086208063371009\n",
      "Training until validation scores don't improve for 100 rounds.\n",
      "[100]\ttraining's rmse: 0.157893\tvalid_1's rmse: 0.179584\n",
      "[200]\ttraining's rmse: 0.157296\tvalid_1's rmse: 0.179371\n",
      "[300]\ttraining's rmse: 0.156873\tvalid_1's rmse: 0.179313\n",
      "[400]\ttraining's rmse: 0.15649\tvalid_1's rmse: 0.179267\n",
      "[500]\ttraining's rmse: 0.156149\tvalid_1's rmse: 0.179254\n",
      "[600]\ttraining's rmse: 0.155835\tvalid_1's rmse: 0.179216\n",
      "[700]\ttraining's rmse: 0.155539\tvalid_1's rmse: 0.179209\n",
      "[800]\ttraining's rmse: 0.155256\tvalid_1's rmse: 0.179216\n",
      "Early stopping, best iteration is:\n",
      "[710]\ttraining's rmse: 0.155515\tvalid_1's rmse: 0.179208\n",
      "0.01857826074974034\n"
     ]
    }
   ],
   "source": [
    "# retrain model with new features, also with some hyperparameter tuning\n",
    "params = {'num_leaves': 16,\n",
    "          'learning_rate':0.05,\n",
    "          'metric': 'rmse'}\n",
    "train_df, importance, scores = train_model(params, train_df, kf,x_cols=x_cols,save_model=True)"
   ]
  },
  {
   "cell_type": "code",
   "execution_count": 17,
   "metadata": {},
   "outputs": [
    {
     "data": {
      "text/plain": [
       "0.014984149115780433"
      ]
     },
     "execution_count": 17,
     "metadata": {},
     "output_type": "execute_result"
    }
   ],
   "source": [
    "scores.mean()"
   ]
  },
  {
   "cell_type": "code",
   "execution_count": 18,
   "metadata": {},
   "outputs": [
    {
     "data": {
      "text/plain": [
       "(0.081333053936697, (0.04979724516821323, 0.11286886270518076))"
      ]
     },
     "execution_count": 18,
     "metadata": {},
     "output_type": "execute_result"
    }
   ],
   "source": [
    "conf_interval(train_df=train_df,return_thresh=0.07,N=100,conf=0.95)"
   ]
  },
  {
   "cell_type": "markdown",
   "metadata": {},
   "source": [
    "Next plot loan performance on models predicted returns vs actuals"
   ]
  },
  {
   "cell_type": "code",
   "execution_count": 19,
   "metadata": {},
   "outputs": [
    {
     "data": {
      "image/png": "[encoded data removed]",
      "text/plain": [
       "<Figure size 432x288 with 1 Axes>"
      ]
     },
     "metadata": {
      "needs_background": "light"
     },
     "output_type": "display_data"
    }
   ],
   "source": [
    "import matplotlib.pyplot as plt\n",
    "%matplotlib inline\n",
    "\n",
    "returns = []\n",
    "# for each investment threshold\n",
    "for t in np.arange(0,0.5, 0.001):\n",
    "    \n",
    "    # calculate average returns\n",
    "    av_return = train_df.loc[train_df['pred_returns']>=t, 'returns'].mean()\n",
    "    \n",
    "    # also store how many potential loans there are to invest\n",
    "    total_loans = len(train_df.loc[train_df['pred_returns']>=t, 'total_pymnt'])\n",
    "    returns.append((av_return, t, total_loans))\n",
    "\n",
    "plt.figure()\n",
    "plt.plot([x[1] for x in returns], [x[0] for x in returns])\n",
    "plt.title('Model Performance on Out of Fold Samples')\n",
    "plt.xlabel('Predicted return investment threshold')\n",
    "plt.ylabel('Actual return');"
   ]
  },
  {
   "cell_type": "code",
   "execution_count": 21,
   "metadata": {},
   "outputs": [
    {
     "data": {
      "text/plain": [
       "0.025902803011634657"
      ]
     },
     "execution_count": 21,
     "metadata": {},
     "output_type": "execute_result"
    }
   ],
   "source": [
    "# train set average returns\n",
    "train_df.returns.mean()"
   ]
  },
  {
   "cell_type": "code",
   "execution_count": 22,
   "metadata": {},
   "outputs": [
    {
     "data": {
      "image/png": "[encoded data removed]",
      "text/plain": [
       "<Figure size 432x288 with 1 Axes>"
      ]
     },
     "metadata": {
      "needs_background": "light"
     },
     "output_type": "display_data"
    }
   ],
   "source": [
    "# plot distribution of sampled portfolios\n",
    "high_returns = train_df.loc[train_df['pred_returns']>=0.07]\n",
    "high_returns = high_returns['returns']\n",
    "\n",
    "from scipy import stats\n",
    "high_returns.mean()\n",
    "\n",
    "returns = []\n",
    "for i in range(10000):\n",
    "    returns.append(np.random.choice(high_returns,size=100,replace=True).mean())\n",
    "plt.hist(returns,bins=150)\n",
    "plt.title('Returns on Portfolios with 100 Loans, Sampled from loans above target threshold')\n",
    "plt.xlabel('Actual Returns')\n",
    "plt.ylabel('Number of Portfolios');"
   ]
  },
  {
   "cell_type": "code",
   "execution_count": 23,
   "metadata": {},
   "outputs": [
    {
     "data": {
      "text/plain": [
       "((0.081333053936697, (0.04979724516821323, 0.11286886270518076)),\n",
       " 0.006373833101377896)"
      ]
     },
     "execution_count": 23,
     "metadata": {},
     "output_type": "execute_result"
    }
   ],
   "source": [
    "# av returns, confidence interval, percantage of loans available to invest in\n",
    "conf_interval(train_df,return_thresh=0.07), len(train_df.loc[train_df['pred_returns']>=0.07])/len(train_df)"
   ]
  },
  {
   "cell_type": "code",
   "execution_count": 24,
   "metadata": {},
   "outputs": [
    {
     "data": {
      "text/plain": [
       "((0.08546082857469273, (0.052833270542411714, 0.11808838660697374)),\n",
       " 0.003718263089785938)"
      ]
     },
     "execution_count": 24,
     "metadata": {},
     "output_type": "execute_result"
    }
   ],
   "source": [
    "conf_interval(train_df,return_thresh=0.075), len(train_df.loc[train_df['pred_returns']>=0.075])/len(train_df)"
   ]
  },
  {
   "cell_type": "code",
   "execution_count": 25,
   "metadata": {},
   "outputs": [
    {
     "data": {
      "text/plain": [
       "((0.08856740973298494, (0.05486191703467112, 0.12227290243129875)),\n",
       " 0.0022683962752258805)"
      ]
     },
     "execution_count": 25,
     "metadata": {},
     "output_type": "execute_result"
    }
   ],
   "source": [
    "conf_interval(train_df,return_thresh=0.08), len(train_df.loc[train_df['pred_returns']>=0.08])/len(train_df)"
   ]
  }
 ],
 "metadata": {
  "kernelspec": {
   "display_name": "Python [conda env:lending_club]",
   "language": "python",
   "name": "conda-env-lending_club-py"
  },
  "language_info": {
   "codemirror_mode": {
    "name": "ipython",
    "version": 3
   },
   "file_extension": ".py",
   "mimetype": "text/x-python",
   "name": "python",
   "nbconvert_exporter": "python",
   "pygments_lexer": "ipython3",
   "version": "3.7.3"
  }
 },
 "nbformat": 4,
 "nbformat_minor": 2
}
