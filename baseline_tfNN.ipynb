{
 "cells": [
  {
   "cell_type": "markdown",
   "metadata": {},
   "source": [
    "In this notebook create a baseline NN model."
   ]
  },
  {
   "cell_type": "code",
   "execution_count": 45,
   "metadata": {},
   "outputs": [],
   "source": [
    "import warnings\n",
    "import numpy as np\n",
    "import pandas as pd\n",
    "import tensorflow as tf\n",
    "from tensorflow import keras\n",
    "import matplotlib.pyplot as plt\n",
    "from pathlib import Path\n",
    "%matplotlib inline\n",
    "pd.set_option('display.max_columns', 50)\n",
    "warnings.filterwarnings('ignore')"
   ]
  },
  {
   "cell_type": "code",
   "execution_count": 46,
   "metadata": {},
   "outputs": [],
   "source": [
    "train_df = pd.read_pickle('clean_data/api_train_df.pkl').iloc[:,2:] # first two columns are id info\n",
    "val_df = pd.read_pickle('clean_data/api_val_df.pkl').iloc[:,2:]\n",
    "test_df = pd.read_pickle('clean_data/test_df.pkl').iloc[:,2:]"
   ]
  },
  {
   "cell_type": "markdown",
   "metadata": {},
   "source": [
    "Create list of features by removing loan performace info"
   ]
  },
  {
   "cell_type": "code",
   "execution_count": 47,
   "metadata": {},
   "outputs": [],
   "source": [
    "to_drop = ['issue_d','desc','loan_status', 'total_pymnt','total_rec_int',\n",
    "           'total_rec_late_fee','total_rec_prncp', 'recoveries', \n",
    "           'collection_recovery_fee', 'last_pymnt_d', \n",
    "           'loan_length', 'returns']\n",
    "x_cols = [x for x in list(train_df.columns) if x not in to_drop]"
   ]
  },
  {
   "cell_type": "markdown",
   "metadata": {},
   "source": [
    "Check which cols are strings"
   ]
  },
  {
   "cell_type": "code",
   "execution_count": 48,
   "metadata": {},
   "outputs": [],
   "source": [
    "X_train = train_df[x_cols]\n",
    "X_val = val_df[x_cols]\n",
    "X_test = test_df[x_cols]"
   ]
  },
  {
   "cell_type": "code",
   "execution_count": 49,
   "metadata": {},
   "outputs": [
    {
     "data": {
      "text/plain": [
       "((207062, 102), (185065, 102), (322724, 102))"
      ]
     },
     "execution_count": 49,
     "metadata": {},
     "output_type": "execute_result"
    }
   ],
   "source": [
    "X_train.shape, X_val.shape, X_test.shape"
   ]
  },
  {
   "cell_type": "code",
   "execution_count": 50,
   "metadata": {},
   "outputs": [
    {
     "name": "stdout",
     "output_type": "stream",
     "text": [
      "annual_inc_joint 1.0\n",
      "dti_joint 1.0\n",
      "verification_status_joint 1.0\n",
      "open_acc_6m 1.0\n",
      "open_il_12m 1.0\n",
      "open_il_24m 1.0\n",
      "mths_since_rcnt_il 1.0\n",
      "total_bal_il 1.0\n",
      "il_util 1.0\n",
      "open_rv_12m 1.0\n",
      "open_rv_24m 1.0\n",
      "max_bal_bc 1.0\n",
      "all_util 1.0\n",
      "inq_fi 1.0\n",
      "total_cu_tl 1.0\n",
      "inq_last_12m 1.0\n",
      "sec_app_fico_range_low 1.0\n",
      "sec_app_fico_range_high 1.0\n",
      "sec_app_earliest_cr_line 1.0\n",
      "sec_app_inq_last_6mths 1.0\n",
      "sec_app_mort_acc 1.0\n",
      "sec_app_open_acc 1.0\n",
      "sec_app_revol_util 1.0\n",
      "sec_app_num_rev_accts 1.0\n",
      "sec_app_chargeoff_within_12_mths 1.0\n",
      "sec_app_collections_12_mths_ex_med 1.0\n",
      "sec_app_mths_since_last_major_derog 1.0\n",
      "revol_bal_joint 1.0\n",
      "open_act_il 1.0\n",
      "sec_app_open_act_il 1.0\n"
     ]
    }
   ],
   "source": [
    "drop_missing = []\n",
    "for col in x_cols:    \n",
    "    if X_train[col].isnull().mean() > 0.9:\n",
    "        print(col, X_train[col].isnull().mean())\n",
    "        drop_missing.append(col)"
   ]
  },
  {
   "cell_type": "code",
   "execution_count": 51,
   "metadata": {},
   "outputs": [],
   "source": [
    "X_train = X_train.drop(columns=drop_missing)\n",
    "X_val = X_val.drop(columns=drop_missing)\n",
    "X_test = X_test.drop(columns=drop_missing)"
   ]
  },
  {
   "cell_type": "code",
   "execution_count": 52,
   "metadata": {},
   "outputs": [
    {
     "data": {
      "text/plain": [
       "((207062, 72), (185065, 72), (322724, 72))"
      ]
     },
     "execution_count": 52,
     "metadata": {},
     "output_type": "execute_result"
    }
   ],
   "source": [
    "X_train.shape, X_val.shape, X_test.shape"
   ]
  },
  {
   "cell_type": "code",
   "execution_count": 53,
   "metadata": {},
   "outputs": [],
   "source": [
    "numerical = []\n",
    "for col in X_train.columns:\n",
    "    if train_df[col].dtype != object:\n",
    "        numerical.append(col)"
   ]
  },
  {
   "cell_type": "code",
   "execution_count": 54,
   "metadata": {},
   "outputs": [],
   "source": [
    "X_train_num = X_train[numerical]\n",
    "X_val_num = X_val[numerical]\n",
    "X_test_num = X_test[numerical]"
   ]
  },
  {
   "cell_type": "code",
   "execution_count": 55,
   "metadata": {},
   "outputs": [
    {
     "data": {
      "text/plain": [
       "((207062, 61), (185065, 61), (322724, 61))"
      ]
     },
     "execution_count": 55,
     "metadata": {},
     "output_type": "execute_result"
    }
   ],
   "source": [
    "X_train_num.shape, X_val_num.shape, X_test_num.shape"
   ]
  },
  {
   "cell_type": "code",
   "execution_count": 56,
   "metadata": {},
   "outputs": [],
   "source": [
    "imputation = {}\n",
    "for col in X_train_num.columns:\n",
    "    imputation[col] = X_train_num[col].median()"
   ]
  },
  {
   "cell_type": "code",
   "execution_count": 57,
   "metadata": {},
   "outputs": [],
   "source": [
    "missing_cols = []\n",
    "for col in X_train_num.columns:\n",
    "    if X_train_num[col].isnull().sum() > 0:\n",
    "        missing_cols.append(col)\n",
    "    elif X_val_num[col].isnull().sum() > 0:\n",
    "        missing_cols.append(col)\n",
    "    elif X_test_num[col].isnull().sum() > 0:\n",
    "        missing_cols.append(col)"
   ]
  },
  {
   "cell_type": "code",
   "execution_count": 58,
   "metadata": {},
   "outputs": [],
   "source": [
    "for col in missing_cols:\n",
    "    X_train_num[f'{col}_NA'] = 0\n",
    "    X_train_num.loc[X_train_num[f'{col}'].isnull(), f'{col}_NA'] = 1\n",
    "    X_train_num.loc[X_train_num[f'{col}'].isnull(), f'{col}'] = imputation[col]\n",
    "    X_val_num[f'{col}_NA'] = 0\n",
    "    X_val_num.loc[X_val_num[f'{col}'].isnull(), f'{col}_NA'] = 1\n",
    "    X_val_num.loc[X_val_num[f'{col}'].isnull(), f'{col}'] = imputation[col]\n",
    "    X_test_num[f'{col}_NA'] = 0\n",
    "    X_test_num.loc[X_test_num[f'{col}'].isnull(), f'{col}_NA'] = 1\n",
    "    X_test_num.loc[X_test_num[f'{col}'].isnull(), f'{col}'] = imputation[col]\n",
    "    "
   ]
  },
  {
   "cell_type": "code",
   "execution_count": 59,
   "metadata": {},
   "outputs": [
    {
     "data": {
      "text/plain": [
       "((207062, 106), (185065, 106), (322724, 106))"
      ]
     },
     "execution_count": 59,
     "metadata": {},
     "output_type": "execute_result"
    }
   ],
   "source": [
    "X_train_num.shape, X_val_num.shape, X_test_num.shape"
   ]
  },
  {
   "cell_type": "code",
   "execution_count": 60,
   "metadata": {},
   "outputs": [],
   "source": [
    "num_cols = list(X_train_num.columns)"
   ]
  },
  {
   "cell_type": "code",
   "execution_count": 61,
   "metadata": {},
   "outputs": [
    {
     "name": "stdout",
     "output_type": "stream",
     "text": [
      "grade 7\n",
      "sub_grade 35\n",
      "emp_length 11\n",
      "home_ownership 5\n",
      "verification_status 3\n",
      "purpose 14\n",
      "zip_code 860\n",
      "addr_state 50\n",
      "initial_list_status 2\n",
      "emp_title 119933\n",
      "application_type 1\n"
     ]
    }
   ],
   "source": [
    "for col in X_train.columns:\n",
    "    if X_train[col].dtype == object:\n",
    "        print(col, X_train[col].nunique())"
   ]
  },
  {
   "cell_type": "markdown",
   "metadata": {},
   "source": [
    "For baseline drop zip code and emp_title. Can look at them in more detail later on. Maybe try categorical embeddings"
   ]
  },
  {
   "cell_type": "code",
   "execution_count": 62,
   "metadata": {},
   "outputs": [],
   "source": [
    "X_train = X_train.drop(columns=['zip_code', 'emp_title'])\n",
    "X_val = X_val.drop(columns=['zip_code', 'emp_title'])\n",
    "X_test = X_test.drop(columns=['zip_code', 'emp_title'])"
   ]
  },
  {
   "cell_type": "code",
   "execution_count": 63,
   "metadata": {},
   "outputs": [
    {
     "name": "stdout",
     "output_type": "stream",
     "text": [
      "grade 7\n",
      "sub_grade 35\n",
      "emp_length 11\n",
      "home_ownership 5\n",
      "verification_status 3\n",
      "purpose 14\n",
      "addr_state 50\n",
      "initial_list_status 2\n",
      "application_type 1\n"
     ]
    }
   ],
   "source": [
    "cat_cols = []\n",
    "for col in X_train.columns:\n",
    "    if X_train[col].dtype == object:\n",
    "        print(col, X_train[col].nunique())\n",
    "        cat_cols.append(col)"
   ]
  },
  {
   "cell_type": "code",
   "execution_count": 64,
   "metadata": {},
   "outputs": [],
   "source": [
    "X_train_cat = X_train[cat_cols]\n",
    "X_val_cat = X_val[cat_cols]\n",
    "X_test_cat = X_test[cat_cols]"
   ]
  },
  {
   "cell_type": "code",
   "execution_count": 65,
   "metadata": {},
   "outputs": [
    {
     "data": {
      "text/plain": [
       "(207062, 9)"
      ]
     },
     "execution_count": 65,
     "metadata": {},
     "output_type": "execute_result"
    }
   ],
   "source": [
    "X_train_cat.shape"
   ]
  },
  {
   "cell_type": "code",
   "execution_count": 66,
   "metadata": {},
   "outputs": [
    {
     "name": "stdout",
     "output_type": "stream",
     "text": [
      "emp_length\n",
      "emp_length\n",
      "emp_length\n"
     ]
    }
   ],
   "source": [
    "for df in [X_train_cat, X_val_cat, X_test_cat]:\n",
    "    for col in df:\n",
    "        if df[col].isnull().sum() > 0:\n",
    "            print(col)"
   ]
  },
  {
   "cell_type": "code",
   "execution_count": 67,
   "metadata": {},
   "outputs": [],
   "source": [
    "X_train_cat.fillna(value='missing',inplace=True)\n",
    "X_val_cat.fillna(value='missing',inplace=True)\n",
    "X_test_cat.fillna(value='missing',inplace=True)"
   ]
  },
  {
   "cell_type": "code",
   "execution_count": 68,
   "metadata": {},
   "outputs": [],
   "source": [
    "from sklearn.preprocessing import OneHotEncoder\n",
    "onehot = OneHotEncoder(handle_unknown='ignore')"
   ]
  },
  {
   "cell_type": "code",
   "execution_count": 69,
   "metadata": {},
   "outputs": [
    {
     "data": {
      "text/plain": [
       "OneHotEncoder(categorical_features=None, categories=None, drop=None,\n",
       "              dtype=<class 'numpy.float64'>, handle_unknown='ignore',\n",
       "              n_values=None, sparse=True)"
      ]
     },
     "execution_count": 69,
     "metadata": {},
     "output_type": "execute_result"
    }
   ],
   "source": [
    "onehot.fit(X_train_cat)"
   ]
  },
  {
   "cell_type": "code",
   "execution_count": 70,
   "metadata": {},
   "outputs": [],
   "source": [
    "X_train_cat = onehot.transform(X_train_cat).todense()\n",
    "X_val_cat = onehot.transform(X_val_cat).todense()\n",
    "X_test_cat = onehot.transform(X_test_cat).todense()"
   ]
  },
  {
   "cell_type": "code",
   "execution_count": 71,
   "metadata": {},
   "outputs": [
    {
     "data": {
      "text/plain": [
       "matrix([[1., 0., 0., ..., 1., 0., 1.],\n",
       "        [0., 1., 0., ..., 0., 1., 1.],\n",
       "        [0., 1., 0., ..., 1., 0., 1.],\n",
       "        ...,\n",
       "        [1., 0., 0., ..., 1., 0., 1.],\n",
       "        [1., 0., 0., ..., 1., 0., 1.],\n",
       "        [0., 0., 0., ..., 1., 0., 1.]])"
      ]
     },
     "execution_count": 71,
     "metadata": {},
     "output_type": "execute_result"
    }
   ],
   "source": [
    "X_train_cat"
   ]
  },
  {
   "cell_type": "code",
   "execution_count": 77,
   "metadata": {},
   "outputs": [],
   "source": [
    "X_train = np.concatenate([X_train_num.to_numpy(), X_train_cat], axis=1)\n",
    "X_val = np.concatenate([X_val_num.to_numpy(), X_val_cat], axis=1)\n",
    "X_test = np.concatenate([X_test_num.to_numpy(), X_test_cat], axis=1)"
   ]
  },
  {
   "cell_type": "code",
   "execution_count": 80,
   "metadata": {},
   "outputs": [],
   "source": [
    "from sklearn.preprocessing import StandardScaler\n",
    "scaler = StandardScaler()"
   ]
  },
  {
   "cell_type": "code",
   "execution_count": 81,
   "metadata": {},
   "outputs": [
    {
     "data": {
      "text/plain": [
       "StandardScaler(copy=True, with_mean=True, with_std=True)"
      ]
     },
     "execution_count": 81,
     "metadata": {},
     "output_type": "execute_result"
    }
   ],
   "source": [
    "scaler.fit(X_train)"
   ]
  },
  {
   "cell_type": "code",
   "execution_count": 84,
   "metadata": {},
   "outputs": [],
   "source": [
    "X_train = scaler.transform(X_train)\n",
    "X_val = scaler.transform(X_val)\n",
    "X_test = scaler.transform(X_test)"
   ]
  },
  {
   "cell_type": "code",
   "execution_count": 83,
   "metadata": {},
   "outputs": [],
   "source": [
    "from sklearn.linear_model import LinearRegression, LogisticRegression\n",
    "from sklearn.metrics import mean_squared_error, r2_score, roc_auc_score"
   ]
  },
  {
   "cell_type": "code",
   "execution_count": 88,
   "metadata": {},
   "outputs": [
    {
     "data": {
      "text/plain": [
       "(207062, 235)"
      ]
     },
     "execution_count": 88,
     "metadata": {},
     "output_type": "execute_result"
    }
   ],
   "source": [
    "X_train.shape"
   ]
  },
  {
   "cell_type": "code",
   "execution_count": 91,
   "metadata": {},
   "outputs": [],
   "source": [
    "model = keras.models.Sequential()\n",
    "model.add(keras.layers.InputLayer(input_shape=[X_train.shape[1]]))\n",
    "model.add(keras.layers.Dense(100, activation='relu'))\n",
    "model.add(keras.layers.Dense(50, activation='relu'))\n",
    "model.add(keras.layers.Dense(1))"
   ]
  },
  {
   "cell_type": "code",
   "execution_count": 92,
   "metadata": {},
   "outputs": [
    {
     "name": "stdout",
     "output_type": "stream",
     "text": [
      "Model: \"sequential_2\"\n",
      "_________________________________________________________________\n",
      "Layer (type)                 Output Shape              Param #   \n",
      "=================================================================\n",
      "dense_8 (Dense)              (None, 100)               23600     \n",
      "_________________________________________________________________\n",
      "dense_9 (Dense)              (None, 50)                5050      \n",
      "_________________________________________________________________\n",
      "dense_10 (Dense)             (None, 1)                 51        \n",
      "=================================================================\n",
      "Total params: 28,701\n",
      "Trainable params: 28,701\n",
      "Non-trainable params: 0\n",
      "_________________________________________________________________\n"
     ]
    }
   ],
   "source": [
    "model.summary()"
   ]
  },
  {
   "cell_type": "code",
   "execution_count": 93,
   "metadata": {},
   "outputs": [],
   "source": [
    "model.compile(loss=tf.losses.mean_squared_error,\n",
    "             optimizer=keras.optimizers.Adam())"
   ]
  },
  {
   "cell_type": "code",
   "execution_count": 94,
   "metadata": {},
   "outputs": [],
   "source": [
    "y_train = train_df['returns'].values\n",
    "y_val = val_df['returns'].values"
   ]
  },
  {
   "cell_type": "code",
   "execution_count": 95,
   "metadata": {},
   "outputs": [
    {
     "name": "stdout",
     "output_type": "stream",
     "text": [
      "Train on 207062 samples, validate on 185065 samples\n",
      "Epoch 1/5\n",
      "207062/207062 [==============================] - 14s 66us/sample - loss: 0.0569 - val_loss: 0.0272\n",
      "Epoch 2/5\n",
      "207062/207062 [==============================] - 13s 61us/sample - loss: 0.0230 - val_loss: 0.0257\n",
      "Epoch 3/5\n",
      "207062/207062 [==============================] - 13s 60us/sample - loss: 0.0220 - val_loss: 0.0255\n",
      "Epoch 4/5\n",
      "207062/207062 [==============================] - 12s 60us/sample - loss: 0.0219 - val_loss: 0.0253\n",
      "Epoch 5/5\n",
      "207062/207062 [==============================] - 13s 61us/sample - loss: 0.0219 - val_loss: 0.0253\n"
     ]
    }
   ],
   "source": [
    "history = model.fit(X_train_num, y_train, epochs=5,\n",
    "                    validation_data=(X_val_num, y_val))"
   ]
  },
  {
   "cell_type": "code",
   "execution_count": 96,
   "metadata": {},
   "outputs": [
    {
     "data": {
      "image/png": "[encoded data removed]",
      "text/plain": [
       "<Figure size 576x360 with 1 Axes>"
      ]
     },
     "metadata": {
      "needs_background": "light"
     },
     "output_type": "display_data"
    }
   ],
   "source": [
    "pd.DataFrame(history.history).plot(figsize=(8,5))\n",
    "plt.grid(True)\n",
    "plt.gca().set_ylim(0, 0.05)\n",
    "plt.show()"
   ]
  },
  {
   "cell_type": "code",
   "execution_count": 97,
   "metadata": {},
   "outputs": [],
   "source": [
    "y_preds = model.predict(X_val)"
   ]
  },
  {
   "cell_type": "code",
   "execution_count": 98,
   "metadata": {},
   "outputs": [],
   "source": [
    "val_df['pred_returns'] = y_preds"
   ]
  },
  {
   "cell_type": "code",
   "execution_count": 99,
   "metadata": {},
   "outputs": [
    {
     "data": {
      "text/plain": [
       "(-0.09167605, 0.21862203)"
      ]
     },
     "execution_count": 99,
     "metadata": {},
     "output_type": "execute_result"
    }
   ],
   "source": [
    "val_df['pred_returns'].min(), val_df['pred_returns'].max()"
   ]
  },
  {
   "cell_type": "code",
   "execution_count": 110,
   "metadata": {},
   "outputs": [
    {
     "data": {
      "image/png": "[encoded data removed]",
      "text/plain": [
       "<Figure size 432x288 with 1 Axes>"
      ]
     },
     "metadata": {
      "needs_background": "light"
     },
     "output_type": "display_data"
    }
   ],
   "source": [
    "returns = []\n",
    "for t in np.arange(val_df['pred_returns'].min(),val_df['pred_returns'].max(), 0.001):\n",
    "    av_return = val_df.loc[val_df['pred_returns']>=t, 'returns'].mean()\n",
    "    # also store how many potential loans there are to invest\n",
    "    total_loans = len(val_df.loc[val_df['pred_returns']>=t, 'total_pymnt'])\n",
    "    returns.append((av_return, t, total_loans))\n",
    "\n",
    "plt.figure()\n",
    "plt.plot([x[1] for x in returns], [x[0] for x in returns])\n",
    "plt.plot(val_df.returns.mean())\n",
    "plt.xlabel('Predicted return investment threshold')\n",
    "plt.ylabel('Actual return');"
   ]
  },
  {
   "cell_type": "code",
   "execution_count": 111,
   "metadata": {},
   "outputs": [],
   "source": [
    "returns = list(filter(lambda x: x[2] > 400, returns))"
   ]
  },
  {
   "cell_type": "code",
   "execution_count": 112,
   "metadata": {},
   "outputs": [
    {
     "data": {
      "text/plain": [
       "[(0.0823561728911782, 0.07432395106554046, 412),\n",
       " (0.0792959051510297, 0.07332395106554046, 499),\n",
       " (0.0751198358348779, 0.07232395106554046, 603),\n",
       " (0.06965397507715322, 0.07132395106554046, 742),\n",
       " (0.06993497431529937, 0.07032395106554046, 886),\n",
       " (0.06767245736739422, 0.06932395106554046, 1068),\n",
       " (0.06980865359027812, 0.06832395106554046, 1258),\n",
       " (0.07065296965859294, 0.06732395106554045, 1495),\n",
       " (0.06887699992198043, 0.06632395106554045, 1790),\n",
       " (0.06909260556511083, 0.06532395106554045, 2131)]"
      ]
     },
     "execution_count": 112,
     "metadata": {},
     "output_type": "execute_result"
    }
   ],
   "source": [
    "returns.sort(key=lambda x: x[1], reverse=True)\n",
    "returns[:10]"
   ]
  }
 ],
 "metadata": {
  "kernelspec": {
   "display_name": "Python [conda env:lending_club]",
   "language": "python",
   "name": "conda-env-lending_club-py"
  },
  "language_info": {
   "codemirror_mode": {
    "name": "ipython",
    "version": 3
   },
   "file_extension": ".py",
   "mimetype": "text/x-python",
   "name": "python",
   "nbconvert_exporter": "python",
   "pygments_lexer": "ipython3",
   "version": "3.7.3"
  }
 },
 "nbformat": 4,
 "nbformat_minor": 2
}
