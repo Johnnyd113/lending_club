{
 "cells": [
  {
   "cell_type": "markdown",
   "metadata": {},
   "source": [
    "This notebook will tests the model against the test set"
   ]
  },
  {
   "cell_type": "code",
   "execution_count": 1,
   "metadata": {},
   "outputs": [],
   "source": [
    "import warnings\n",
    "warnings.filterwarnings('ignore')\n",
    "import numpy as np\n",
    "import pandas as pd\n",
    "from pathlib import Path\n",
    "from sklearn.model_selection import KFold\n",
    "import lightgbm as lgb\n",
    "from scipy.cluster import hierarchy as hc\n",
    "import scipy\n",
    "from scipy import stats\n",
    "from sklearn.metrics import r2_score\n",
    "import matplotlib.pyplot as plt\n",
    "%matplotlib inline\n",
    "import pickle\n",
    "pd.set_option('display.max_columns', 50)"
   ]
  },
  {
   "cell_type": "code",
   "execution_count": 2,
   "metadata": {},
   "outputs": [],
   "source": [
    "data_path = 'data/'"
   ]
  },
  {
   "cell_type": "code",
   "execution_count": 3,
   "metadata": {},
   "outputs": [],
   "source": [
    "test_df = pd.read_pickle(data_path+'test_lgbm.pkl')"
   ]
  },
  {
   "cell_type": "code",
   "execution_count": 4,
   "metadata": {},
   "outputs": [],
   "source": [
    "with open('x_cols.pickle', 'rb') as f:\n",
    "    x_cols = pickle.load(f)"
   ]
  },
  {
   "cell_type": "code",
   "execution_count": 5,
   "metadata": {},
   "outputs": [
    {
     "name": "stdout",
     "output_type": "stream",
     "text": [
      "model_2.txt\n",
      "model_3.txt\n",
      "model_1.txt\n",
      "model_0.txt\n",
      "model_4.txt\n"
     ]
    }
   ],
   "source": [
    "# make predictions on test set\n",
    "import os\n",
    "test_df['pred_returns'] = 0\n",
    "for m in os.listdir('models/'):\n",
    "    if m[-4:] == '.txt':\n",
    "        print(m)\n",
    "        model = lgb.Booster(model_file=f'models/{m}')\n",
    "        preds = model.predict(test_df[x_cols])\n",
    "        test_df['pred_returns'] += preds/5"
   ]
  },
  {
   "cell_type": "code",
   "execution_count": 6,
   "metadata": {},
   "outputs": [],
   "source": [
    "def conf_interval(train_df=test_df,return_thresh=0.07,N=100,conf=0.95):\n",
    "    high_returns = train_df.loc[train_df['pred_returns']>=return_thresh]\n",
    "    high_returns = high_returns['returns']\n",
    "    mu = high_returns.mean()\n",
    "    sigma = high_returns.std()\n",
    "    return mu, stats.norm.interval(conf, loc=mu, scale=sigma/np.sqrt(N))"
   ]
  },
  {
   "cell_type": "code",
   "execution_count": 7,
   "metadata": {},
   "outputs": [
    {
     "data": {
      "text/plain": [
       "(0.017220406643603373, (-0.017083484573848687, 0.05152429786105543))"
      ]
     },
     "execution_count": 7,
     "metadata": {},
     "output_type": "execute_result"
    }
   ],
   "source": [
    "# 95% confidence interval of test set\n",
    "mu = test_df['returns'].mean()\n",
    "sigma = test_df['returns'].std()\n",
    "N = 100\n",
    "mu, stats.norm.interval(0.95, loc=mu, scale=sigma/np.sqrt(N))"
   ]
  },
  {
   "cell_type": "code",
   "execution_count": 8,
   "metadata": {},
   "outputs": [
    {
     "data": {
      "text/plain": [
       "(0.07258025434908218, (0.03729374121129273, 0.10786676748687163))"
      ]
     },
     "execution_count": 8,
     "metadata": {},
     "output_type": "execute_result"
    }
   ],
   "source": [
    "# 95% confidence interval of model on invested loans\n",
    "mu, ci =conf_interval(train_df=test_df,return_thresh=0.07,N=100,conf=0.95)\n",
    "mu, ci"
   ]
  },
  {
   "cell_type": "markdown",
   "metadata": {},
   "source": [
    "The model generated 7% returns on the test set compared to average retunrs of 1.7%"
   ]
  },
  {
   "cell_type": "code",
   "execution_count": 9,
   "metadata": {},
   "outputs": [
    {
     "data": {
      "image/png": "[encoded data removed]",
      "text/plain": [
       "<Figure size 432x288 with 1 Axes>"
      ]
     },
     "metadata": {
      "needs_background": "light"
     },
     "output_type": "display_data"
    }
   ],
   "source": [
    "import matplotlib.pyplot as plt\n",
    "%matplotlib inline\n",
    "\n",
    "returns = []\n",
    "# for each investment threshold\n",
    "for t in np.arange(0,0.5, 0.001):\n",
    "    \n",
    "    # calculate average returns\n",
    "    av_return = test_df.loc[test_df['pred_returns']>=t, 'returns'].mean()\n",
    "    \n",
    "    # also store how many potential loans there are to invest\n",
    "    total_loans = len(test_df.loc[test_df['pred_returns']>=t, 'total_pymnt'])\n",
    "    returns.append((av_return, t, total_loans))\n",
    "\n",
    "plt.figure()\n",
    "plt.plot([x[1] for x in returns], [x[0] for x in returns])\n",
    "plt.xlabel('Predicted return investment threshold')\n",
    "plt.ylabel('Actual return');"
   ]
  },
  {
   "cell_type": "code",
   "execution_count": 10,
   "metadata": {},
   "outputs": [
    {
     "data": {
      "text/plain": [
       "[(0.07540163035298234, 0.07200000000000001, 1711),\n",
       " (0.07414726926677799, 0.069, 2469),\n",
       " (0.07373578988875269, 0.07100000000000001, 1935),\n",
       " (0.07258025434908218, 0.07, 2191),\n",
       " (0.07242537692993575, 0.068, 2766),\n",
       " (0.07157386934396942, 0.067, 3133),\n",
       " (0.06991775445910593, 0.066, 3553),\n",
       " (0.06719830513256617, 0.065, 4012),\n",
       " (0.06616316380953755, 0.064, 4547),\n",
       " (0.06532307261719551, 0.063, 5159)]"
      ]
     },
     "execution_count": 10,
     "metadata": {},
     "output_type": "execute_result"
    }
   ],
   "source": [
    "size = len(test_df)\n",
    "\n",
    "# this shows actual return followed by predicted returnes, and num loans available at that threshold\n",
    "# limit values to investment thresholds that are available to at least 1% loans\n",
    "returns = list(filter(lambda x: x[2] > int(size*0.005), returns))\n",
    "returns.sort(key=lambda x: x[0], reverse=True)\n",
    "returns[:10]"
   ]
  },
  {
   "cell_type": "code",
   "execution_count": 11,
   "metadata": {},
   "outputs": [
    {
     "data": {
      "image/png": "[encoded data removed]",
      "text/plain": [
       "<Figure size 432x288 with 1 Axes>"
      ]
     },
     "metadata": {
      "needs_background": "light"
     },
     "output_type": "display_data"
    }
   ],
   "source": [
    "high_returns = test_df.loc[test_df['pred_returns']>=0.07]\n",
    "high_returns = high_returns['returns']\n",
    "\n",
    "returns = []\n",
    "for i in range(10000):\n",
    "    returns.append(np.random.choice(high_returns,size=100,replace=True).mean())\n",
    "plt.hist(returns,bins=150)\n",
    "plt.title('Returns on 100 Loan Portfolios, Sampled from loans above target threshold')\n",
    "plt.xlabel('Actual Returns')\n",
    "plt.ylabel('Number of Portfolios')\n",
    "plt.axvline(x=mu,c='red')\n",
    "plt.axvline(x=ci[0],c='red')\n",
    "plt.axvline(x=ci[1],c='red');"
   ]
  },
  {
   "cell_type": "code",
   "execution_count": 12,
   "metadata": {},
   "outputs": [
    {
     "data": {
      "text/plain": [
       "2191"
      ]
     },
     "execution_count": 12,
     "metadata": {},
     "output_type": "execute_result"
    }
   ],
   "source": [
    "len(high_returns)"
   ]
  },
  {
   "cell_type": "code",
   "execution_count": 13,
   "metadata": {},
   "outputs": [
    {
     "data": {
      "text/plain": [
       "0.006635251933641424"
      ]
     },
     "execution_count": 13,
     "metadata": {},
     "output_type": "execute_result"
    }
   ],
   "source": [
    "len(high_returns)/len(test_df)"
   ]
  },
  {
   "cell_type": "markdown",
   "metadata": {},
   "source": [
    "Explore different thresholds and confidence intervals"
   ]
  },
  {
   "cell_type": "code",
   "execution_count": 14,
   "metadata": {},
   "outputs": [
    {
     "data": {
      "text/plain": [
       "(0.07258025434908218, (0.03729374121129273, 0.10786676748687163))"
      ]
     },
     "execution_count": 14,
     "metadata": {},
     "output_type": "execute_result"
    }
   ],
   "source": [
    "conf_interval(train_df=test_df,return_thresh=0.07,N=100,conf=0.95)"
   ]
  },
  {
   "cell_type": "code",
   "execution_count": 15,
   "metadata": {},
   "outputs": [
    {
     "data": {
      "text/plain": [
       "(0.07258025434908218, (0.026205915189114908, 0.11895459350904944))"
      ]
     },
     "execution_count": 15,
     "metadata": {},
     "output_type": "execute_result"
    }
   ],
   "source": [
    "conf_interval(train_df=test_df,return_thresh=0.07,N=100,conf=0.99)"
   ]
  },
  {
   "cell_type": "code",
   "execution_count": 16,
   "metadata": {},
   "outputs": [
    {
     "data": {
      "text/plain": [
       "(0.08008501561290597, (0.044028478281421625, 0.11614155294439032))"
      ]
     },
     "execution_count": 16,
     "metadata": {},
     "output_type": "execute_result"
    }
   ],
   "source": [
    "conf_interval(train_df=test_df,return_thresh=0.075,N=100,conf=0.95)"
   ]
  },
  {
   "cell_type": "code",
   "execution_count": 17,
   "metadata": {},
   "outputs": [
    {
     "data": {
      "text/plain": [
       "(0.08008501561290597, (0.03269869312150703, 0.12747133810430492))"
      ]
     },
     "execution_count": 17,
     "metadata": {},
     "output_type": "execute_result"
    }
   ],
   "source": [
    "conf_interval(train_df=test_df,return_thresh=0.075,N=100,conf=0.99)"
   ]
  }
 ],
 "metadata": {
  "kernelspec": {
   "display_name": "Python [conda env:lending_club]",
   "language": "python",
   "name": "conda-env-lending_club-py"
  },
  "language_info": {
   "codemirror_mode": {
    "name": "ipython",
    "version": 3
   },
   "file_extension": ".py",
   "mimetype": "text/x-python",
   "name": "python",
   "nbconvert_exporter": "python",
   "pygments_lexer": "ipython3",
   "version": "3.7.3"
  }
 },
 "nbformat": 4,
 "nbformat_minor": 2
}
