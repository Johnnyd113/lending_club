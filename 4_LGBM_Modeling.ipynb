{
 "cells": [
  {
   "cell_type": "markdown",
   "metadata": {},
   "source": [
    "This notebook will train the first LightGBM models. We are going to throw every feature from the dataset into the model and compare their importances to an added random noise column. Any feature with a feature importance less than random noise should be removed, unless it is clear the lack of importance is due to poor feature engineering (the feature may be a categorical column that can be engineered differently).\n",
    "\n",
    "Instead of a random 5 fold cv, the data will be split by time. Although it may seem silly to train of future data to predict on historical, it will give some estimate of model/feature ability to generalize over time. It will atleast show more potential to generalize than a random shuffle split"
   ]
  },
  {
   "cell_type": "code",
   "execution_count": 8,
   "metadata": {},
   "outputs": [],
   "source": [
    "import warnings\n",
    "warnings.filterwarnings('ignore')\n",
    "import numpy as np\n",
    "import pandas as pd\n",
    "from pathlib import Path\n",
    "from sklearn.model_selection import KFold\n",
    "import lightgbm as lgb\n",
    "from scipy.cluster import hierarchy as hc\n",
    "import scipy\n",
    "from scipy import stats\n",
    "from sklearn.metrics import r2_score\n",
    "import matplotlib.pyplot as plt\n",
    "%matplotlib inline\n",
    "pd.set_option('display.max_columns', 50)"
   ]
  },
  {
   "cell_type": "code",
   "execution_count": 9,
   "metadata": {},
   "outputs": [],
   "source": [
    "data_path = 'data/'"
   ]
  },
  {
   "cell_type": "code",
   "execution_count": 10,
   "metadata": {},
   "outputs": [],
   "source": [
    "train_df = pd.read_pickle(data_path+'train_lgbm.pkl')\n",
    "test_df = pd.read_pickle(data_path+'test_lgbm.pkl')"
   ]
  },
  {
   "cell_type": "code",
   "execution_count": 11,
   "metadata": {},
   "outputs": [],
   "source": [
    "to_drop = ['issue_d','desc','loan_status', 'total_pymnt','total_rec_int',\n",
    "           'total_rec_late_fee','total_rec_prncp', 'recoveries', \n",
    "           'collection_recovery_fee', 'last_pymnt_d', \n",
    "           'loan_length', 'returns', 'CPIAUCSL','prev_mo_cpi']\n",
    "x_cols = [x for x in list(train_df.columns) if x not in to_drop]"
   ]
  },
  {
   "cell_type": "code",
   "execution_count": 12,
   "metadata": {},
   "outputs": [],
   "source": [
    "# add noise\n",
    "train_df['noise'] = np.random.uniform(-10,10, size = len(train_df))"
   ]
  },
  {
   "cell_type": "code",
   "execution_count": 13,
   "metadata": {},
   "outputs": [],
   "source": [
    "x_cols.append('noise')"
   ]
  },
  {
   "cell_type": "code",
   "execution_count": 14,
   "metadata": {},
   "outputs": [],
   "source": [
    "# define a few helper functions we will use repeatedly\n",
    "def train_model(params, train_df, kf,x_cols=x_cols,save_model=False):\n",
    "\n",
    "    # save fold scores\n",
    "    scores = []\n",
    "\n",
    "    # for fold predictions\n",
    "    train_df['pred_returns'] = 0\n",
    "\n",
    "    # feature importance dfs\n",
    "    importance = pd.DataFrame(x_cols,columns=['Feature'])\n",
    "    importance['gain'] = 0\n",
    "    importance['split'] = 0\n",
    "\n",
    "\n",
    "    # 5 fold split\n",
    "    \n",
    "    i = 0\n",
    "    for train_ind, val_ind in kf.split(train_df):\n",
    "\n",
    "        # split data\n",
    "        x_train = train_df.iloc[train_ind][x_cols]\n",
    "        y_train = train_df.iloc[train_ind]['returns']\n",
    "\n",
    "        x_val = train_df.iloc[val_ind][x_cols]\n",
    "        y_val = train_df.iloc[val_ind]['returns']\n",
    "\n",
    "        train_data = lgb.Dataset(x_train,label=y_train)\n",
    "        val_data = lgb.Dataset(x_val, label=y_val)\n",
    "\n",
    "        # train model\n",
    "        lgb_model = lgb.train(params,\n",
    "                              train_data,\n",
    "                              num_boost_round=10000,\n",
    "                              valid_sets = [train_data, val_data],\n",
    "                              verbose_eval=100,\n",
    "                              early_stopping_rounds = 100)\n",
    "\n",
    "        # Out-of-fold train prediction\n",
    "        train_preds = lgb_model.predict(x_val)\n",
    "        train_df.loc[val_ind,'pred_returns'] = train_preds\n",
    "\n",
    "        # save scores\n",
    "        score = r2_score(y_val,lgb_model.predict(x_val))\n",
    "        scores.append(score)\n",
    "\n",
    "        print(score)\n",
    "\n",
    "        # feature importances\n",
    "        gain_sum = lgb_model.feature_importance(importance_type='gain').sum()\n",
    "        \n",
    "        importance['gain'] += lgb_model.feature_importance(importance_type='gain')/gain_sum\n",
    "        importance[f'gain_{i}'] = lgb_model.feature_importance(importance_type='gain')/gain_sum\n",
    "        \n",
    "        importance['split'] += lgb_model.feature_importance(importance_type='split')/5\n",
    "        importance[f'split_{i}'] = lgb_model.feature_importance(importance_type='split')\n",
    "        # save model\n",
    "        if save_model==True:\n",
    "            lgb_model.save_model(f'models/model_{i}.txt')\n",
    "        i += 1\n",
    "        \n",
    "    return train_df, importance, np.array(scores)\n",
    "\n",
    "def conf_interval(train_df=train_df,return_thresh=0.07,N=100,conf=0.95):\n",
    "    high_returns = train_df.loc[train_df['pred_returns']>=return_thresh]\n",
    "    high_returns = high_returns['returns']\n",
    "    mu = high_returns.mean()\n",
    "    sigma = high_returns.std()\n",
    "    return mu, stats.norm.interval(conf, loc=mu, scale=sigma/np.sqrt(N))\n",
    "\n",
    "def plot_importance(importance,imp_type,max_features=None):\n",
    "    temp = importance.sort_values(by=imp_type,ascending=True)\n",
    "    if max_features:\n",
    "        temp = temp[-max_features:]\n",
    "    plt.title(f'Feature Importance by {imp_type}')\n",
    "    plt.barh(temp['Feature'],temp[imp_type]);"
   ]
  },
  {
   "cell_type": "code",
   "execution_count": 15,
   "metadata": {},
   "outputs": [],
   "source": [
    "# sort data by time\n",
    "train_df = train_df.sort_values('issue_d')\n",
    "train_df.reset_index(inplace=True,drop=True)"
   ]
  },
  {
   "cell_type": "code",
   "execution_count": 16,
   "metadata": {},
   "outputs": [
    {
     "name": "stdout",
     "output_type": "stream",
     "text": [
      "Training until validation scores don't improve for 100 rounds.\n",
      "[100]\ttraining's rmse: 0.153413\tvalid_1's rmse: 0.152499\n",
      "Early stopping, best iteration is:\n",
      "[66]\ttraining's rmse: 0.15442\tvalid_1's rmse: 0.15213\n",
      "0.012699186998850087\n",
      "Training until validation scores don't improve for 100 rounds.\n",
      "[100]\ttraining's rmse: 0.154789\tvalid_1's rmse: 0.145317\n",
      "[200]\ttraining's rmse: 0.152412\tvalid_1's rmse: 0.145227\n",
      "Early stopping, best iteration is:\n",
      "[145]\ttraining's rmse: 0.153625\tvalid_1's rmse: 0.145208\n",
      "0.012634482135910008\n",
      "Training until validation scores don't improve for 100 rounds.\n",
      "[100]\ttraining's rmse: 0.151768\tvalid_1's rmse: 0.157773\n",
      "[200]\ttraining's rmse: 0.149434\tvalid_1's rmse: 0.157795\n",
      "Early stopping, best iteration is:\n",
      "[120]\ttraining's rmse: 0.151227\tvalid_1's rmse: 0.157753\n",
      "0.017686816331198618\n",
      "Training until validation scores don't improve for 100 rounds.\n",
      "[100]\ttraining's rmse: 0.15129\tvalid_1's rmse: 0.159542\n",
      "[200]\ttraining's rmse: 0.148911\tvalid_1's rmse: 0.15953\n",
      "Early stopping, best iteration is:\n",
      "[192]\ttraining's rmse: 0.149051\tvalid_1's rmse: 0.159517\n",
      "0.014736044489887634\n",
      "Training until validation scores don't improve for 100 rounds.\n",
      "[100]\ttraining's rmse: 0.150655\tvalid_1's rmse: 0.162606\n",
      "[200]\ttraining's rmse: 0.148367\tvalid_1's rmse: 0.162486\n",
      "[300]\ttraining's rmse: 0.146428\tvalid_1's rmse: 0.162496\n",
      "Early stopping, best iteration is:\n",
      "[234]\ttraining's rmse: 0.147649\tvalid_1's rmse: 0.162467\n",
      "0.016503284600415946\n"
     ]
    }
   ],
   "source": [
    "kf = KFold(n_splits=5, shuffle=False, random_state=11)\n",
    "\n",
    "# default params\n",
    "params = {'num_leaves': 32,\n",
    "          'learning_rate':0.1,\n",
    "          'metric': 'rmse'}\n",
    "train_df, importance, scores = train_model(params, train_df, kf)"
   ]
  },
  {
   "cell_type": "code",
   "execution_count": 17,
   "metadata": {},
   "outputs": [
    {
     "data": {
      "text/plain": [
       "0.014851962911252459"
      ]
     },
     "execution_count": 17,
     "metadata": {},
     "output_type": "execute_result"
    }
   ],
   "source": [
    "scores.mean()"
   ]
  },
  {
   "cell_type": "code",
   "execution_count": 21,
   "metadata": {},
   "outputs": [
    {
     "data": {
      "text/plain": [
       "(0.0819983798978038, (0.053695802470768744, 0.11030095732483886))"
      ]
     },
     "execution_count": 21,
     "metadata": {},
     "output_type": "execute_result"
    }
   ],
   "source": [
    "# gives 95% confidence interval on a portfolio selected of 100 loans \n",
    "# based on return threshold to decide which loans to invest in\n",
    "conf_interval(train_df=train_df,return_thresh=0.07,N=100,conf=0.95)"
   ]
  },
  {
   "cell_type": "code",
   "execution_count": 22,
   "metadata": {},
   "outputs": [
    {
     "data": {
      "image/png": "[encoded data removed]",
      "text/plain": [
       "<Figure size 432x288 with 1 Axes>"
      ]
     },
     "metadata": {
      "needs_background": "light"
     },
     "output_type": "display_data"
    }
   ],
   "source": [
    "plot_importance(importance,'gain',30)"
   ]
  },
  {
   "cell_type": "code",
   "execution_count": 23,
   "metadata": {},
   "outputs": [
    {
     "data": {
      "text/plain": [
       "25"
      ]
     },
     "execution_count": 23,
     "metadata": {},
     "output_type": "execute_result"
    }
   ],
   "source": [
    "# remove columns with feature importance less than random noise\n",
    "noise_gain = importance.loc[importance['Feature']=='noise','gain'].values[0]\n",
    "to_drop = list(importance.loc[importance['gain']<=noise_gain,'Feature'])\n",
    "x_cols = [x for x in x_cols if x not in to_drop]\n",
    "len(x_cols)"
   ]
  },
  {
   "cell_type": "code",
   "execution_count": 24,
   "metadata": {},
   "outputs": [],
   "source": [
    "# Store x_cols\n",
    "import pickle\n",
    "with open('x_cols.pickle', 'wb') as f:\n",
    "    pickle.dump(x_cols, f)"
   ]
  },
  {
   "cell_type": "code",
   "execution_count": 25,
   "metadata": {},
   "outputs": [
    {
     "name": "stdout",
     "output_type": "stream",
     "text": [
      "Training until validation scores don't improve for 100 rounds.\n",
      "[100]\ttraining's rmse: 0.155946\tvalid_1's rmse: 0.152289\n",
      "[200]\ttraining's rmse: 0.155219\tvalid_1's rmse: 0.152162\n",
      "[300]\ttraining's rmse: 0.154627\tvalid_1's rmse: 0.152704\n",
      "Early stopping, best iteration is:\n",
      "[215]\ttraining's rmse: 0.155126\tvalid_1's rmse: 0.152148\n",
      "0.012474968194091551\n",
      "Training until validation scores don't improve for 100 rounds.\n",
      "[100]\ttraining's rmse: 0.157384\tvalid_1's rmse: 0.145692\n",
      "[200]\ttraining's rmse: 0.156629\tvalid_1's rmse: 0.145451\n",
      "[300]\ttraining's rmse: 0.156033\tvalid_1's rmse: 0.145367\n",
      "[400]\ttraining's rmse: 0.155484\tvalid_1's rmse: 0.145319\n",
      "[500]\ttraining's rmse: 0.154999\tvalid_1's rmse: 0.14529\n",
      "[600]\ttraining's rmse: 0.154572\tvalid_1's rmse: 0.145254\n",
      "[700]\ttraining's rmse: 0.15415\tvalid_1's rmse: 0.145254\n",
      "Early stopping, best iteration is:\n",
      "[653]\ttraining's rmse: 0.154344\tvalid_1's rmse: 0.145246\n",
      "0.01212966449663122\n",
      "Training until validation scores don't improve for 100 rounds.\n",
      "[100]\ttraining's rmse: 0.154361\tvalid_1's rmse: 0.157936\n",
      "[200]\ttraining's rmse: 0.153577\tvalid_1's rmse: 0.157808\n",
      "[300]\ttraining's rmse: 0.152968\tvalid_1's rmse: 0.157774\n",
      "[400]\ttraining's rmse: 0.152447\tvalid_1's rmse: 0.157772\n",
      "[500]\ttraining's rmse: 0.151975\tvalid_1's rmse: 0.157762\n",
      "[600]\ttraining's rmse: 0.151545\tvalid_1's rmse: 0.157749\n",
      "[700]\ttraining's rmse: 0.151122\tvalid_1's rmse: 0.15775\n",
      "Early stopping, best iteration is:\n",
      "[642]\ttraining's rmse: 0.151357\tvalid_1's rmse: 0.157745\n",
      "0.0177767071840903\n",
      "Training until validation scores don't improve for 100 rounds.\n",
      "[100]\ttraining's rmse: 0.153946\tvalid_1's rmse: 0.159684\n",
      "[200]\ttraining's rmse: 0.153145\tvalid_1's rmse: 0.159516\n",
      "[300]\ttraining's rmse: 0.152522\tvalid_1's rmse: 0.159471\n",
      "[400]\ttraining's rmse: 0.152008\tvalid_1's rmse: 0.159467\n",
      "Early stopping, best iteration is:\n",
      "[378]\ttraining's rmse: 0.152119\tvalid_1's rmse: 0.159464\n",
      "0.015401673789671722\n",
      "Training until validation scores don't improve for 100 rounds.\n",
      "[100]\ttraining's rmse: 0.153159\tvalid_1's rmse: 0.162851\n",
      "[200]\ttraining's rmse: 0.152411\tvalid_1's rmse: 0.162596\n",
      "[300]\ttraining's rmse: 0.151832\tvalid_1's rmse: 0.162498\n",
      "[400]\ttraining's rmse: 0.151316\tvalid_1's rmse: 0.162451\n",
      "[500]\ttraining's rmse: 0.150838\tvalid_1's rmse: 0.162406\n",
      "[600]\ttraining's rmse: 0.150418\tvalid_1's rmse: 0.162391\n",
      "[700]\ttraining's rmse: 0.150012\tvalid_1's rmse: 0.162363\n",
      "[800]\ttraining's rmse: 0.149621\tvalid_1's rmse: 0.162351\n",
      "Early stopping, best iteration is:\n",
      "[774]\ttraining's rmse: 0.149723\tvalid_1's rmse: 0.162343\n",
      "0.01800430624871041\n"
     ]
    }
   ],
   "source": [
    "# retrain model with new features, also with some hyperparameter tuning\n",
    "params = {'num_leaves': 16,\n",
    "          'learning_rate':0.05,\n",
    "          'metric': 'rmse'}\n",
    "train_df, importance, scores = train_model(params, train_df, kf,x_cols=x_cols,save_model=True)"
   ]
  },
  {
   "cell_type": "code",
   "execution_count": 26,
   "metadata": {},
   "outputs": [
    {
     "data": {
      "text/plain": [
       "0.01515746398263904"
      ]
     },
     "execution_count": 26,
     "metadata": {},
     "output_type": "execute_result"
    }
   ],
   "source": [
    "scores.mean()"
   ]
  },
  {
   "cell_type": "code",
   "execution_count": 27,
   "metadata": {},
   "outputs": [
    {
     "data": {
      "text/plain": [
       "(0.08171942632229362, (0.054132029061209216, 0.10930682358337802))"
      ]
     },
     "execution_count": 27,
     "metadata": {},
     "output_type": "execute_result"
    }
   ],
   "source": [
    "conf_interval(train_df=train_df,return_thresh=0.07,N=100,conf=0.95)"
   ]
  },
  {
   "cell_type": "markdown",
   "metadata": {},
   "source": [
    "Next plot loan performance on models predicted returns vs actuals"
   ]
  },
  {
   "cell_type": "code",
   "execution_count": 28,
   "metadata": {},
   "outputs": [
    {
     "data": {
      "image/png": "[encoded data removed]",
      "text/plain": [
       "<Figure size 432x288 with 1 Axes>"
      ]
     },
     "metadata": {
      "needs_background": "light"
     },
     "output_type": "display_data"
    }
   ],
   "source": [
    "import matplotlib.pyplot as plt\n",
    "%matplotlib inline\n",
    "\n",
    "returns = []\n",
    "# for each investment threshold\n",
    "for t in np.arange(0,0.5, 0.001):\n",
    "    \n",
    "    # calculate average returns\n",
    "    av_return = train_df.loc[train_df['pred_returns']>=t, 'returns'].mean()\n",
    "    \n",
    "    # also store how many potential loans there are to invest\n",
    "    total_loans = len(train_df.loc[train_df['pred_returns']>=t, 'total_pymnt'])\n",
    "    returns.append((av_return, t, total_loans))\n",
    "\n",
    "plt.figure()\n",
    "plt.plot([x[1] for x in returns], [x[0] for x in returns])\n",
    "plt.title('Model Performance on Out of Fold Samples')\n",
    "plt.xlabel('Predicted return investment threshold')\n",
    "plt.ylabel('Actual return');"
   ]
  },
  {
   "cell_type": "code",
   "execution_count": 29,
   "metadata": {},
   "outputs": [
    {
     "data": {
      "text/plain": [
       "529873"
      ]
     },
     "execution_count": 29,
     "metadata": {},
     "output_type": "execute_result"
    }
   ],
   "source": [
    "size = len(train_df); size"
   ]
  },
  {
   "cell_type": "code",
   "execution_count": 30,
   "metadata": {},
   "outputs": [
    {
     "data": {
      "text/plain": [
       "[(0.08346460745989258, 0.073, 5618),\n",
       " (0.0827346126260264, 0.07200000000000001, 6267),\n",
       " (0.08236178594361976, 0.07100000000000001, 7031),\n",
       " (0.08171942632229362, 0.07, 7951),\n",
       " (0.08091560094451997, 0.069, 8922),\n",
       " (0.07953747263350189, 0.068, 9990),\n",
       " (0.07817065478360631, 0.067, 11235),\n",
       " (0.07732269229671049, 0.066, 12694),\n",
       " (0.0764979283710934, 0.065, 14236),\n",
       " (0.07538304979045123, 0.064, 15998)]"
      ]
     },
     "execution_count": 30,
     "metadata": {},
     "output_type": "execute_result"
    }
   ],
   "source": [
    "# this shows actual return followed by predicted returnes, and num loans available at that threshold\n",
    "# limit values to investment thresholds that are available to at least 1% loans\n",
    "returns = list(filter(lambda x: x[2] > int(size*0.01), returns))\n",
    "returns.sort(key=lambda x: x[0], reverse=True)\n",
    "returns[:10]"
   ]
  },
  {
   "cell_type": "code",
   "execution_count": 31,
   "metadata": {},
   "outputs": [
    {
     "data": {
      "text/plain": [
       "0.03131349458319939"
      ]
     },
     "execution_count": 31,
     "metadata": {},
     "output_type": "execute_result"
    }
   ],
   "source": [
    "# train set average returns\n",
    "train_df.returns.mean()"
   ]
  },
  {
   "cell_type": "code",
   "execution_count": 33,
   "metadata": {},
   "outputs": [
    {
     "data": {
      "image/png": "[encoded data removed]",
      "text/plain": [
       "<Figure size 432x288 with 1 Axes>"
      ]
     },
     "metadata": {
      "needs_background": "light"
     },
     "output_type": "display_data"
    }
   ],
   "source": [
    "# plot distribution of sampled portfolios\n",
    "high_returns = train_df.loc[train_df['pred_returns']>=0.07]\n",
    "high_returns = high_returns['returns']\n",
    "\n",
    "from scipy import stats\n",
    "high_returns.mean()\n",
    "\n",
    "returns = []\n",
    "for i in range(10000):\n",
    "    returns.append(np.random.choice(high_returns,size=100,replace=True).mean())\n",
    "plt.hist(returns,bins=150)\n",
    "plt.title('Returns on Portfolios with 100 Loans, Sampled from loans above target threshold')\n",
    "plt.xlabel('Actual Returns')\n",
    "plt.ylabel('Number of Portfolios');"
   ]
  },
  {
   "cell_type": "code",
   "execution_count": 37,
   "metadata": {},
   "outputs": [
    {
     "data": {
      "text/plain": [
       "((0.08171942632229362, (0.054132029061209216, 0.10930682358337802)),\n",
       " 0.015005482445793614)"
      ]
     },
     "execution_count": 37,
     "metadata": {},
     "output_type": "execute_result"
    }
   ],
   "source": [
    "# av returns, confidence interval, percantage of loans available to invest in\n",
    "conf_interval(train_df,return_thresh=0.07), len(train_df.loc[train_df['pred_returns']>=0.07])/len(train_df)"
   ]
  },
  {
   "cell_type": "code",
   "execution_count": 38,
   "metadata": {},
   "outputs": [
    {
     "data": {
      "text/plain": [
       "((0.08526510355401297, (0.056509643012810785, 0.11402056409521516)),\n",
       " 0.008605835737997596)"
      ]
     },
     "execution_count": 38,
     "metadata": {},
     "output_type": "execute_result"
    }
   ],
   "source": [
    "conf_interval(train_df,return_thresh=0.075), len(train_df.loc[train_df['pred_returns']>=0.075])/len(train_df)"
   ]
  },
  {
   "cell_type": "code",
   "execution_count": 39,
   "metadata": {},
   "outputs": [
    {
     "data": {
      "text/plain": [
       "((0.09168250843632615, (0.06304926284963079, 0.12031575402302151)),\n",
       " 0.005135192772607776)"
      ]
     },
     "execution_count": 39,
     "metadata": {},
     "output_type": "execute_result"
    }
   ],
   "source": [
    "conf_interval(train_df,return_thresh=0.08), len(train_df.loc[train_df['pred_returns']>=0.08])/len(train_df)"
   ]
  },
  {
   "cell_type": "code",
   "execution_count": 27,
   "metadata": {},
   "outputs": [
    {
     "name": "stdout",
     "output_type": "stream",
     "text": [
      "model_2.txt\n",
      "model_3.txt\n",
      "model_1.txt\n",
      "model_0.txt\n",
      "model_4.txt\n"
     ]
    }
   ],
   "source": [
    "import os\n",
    "test_df['pred_returns'] = 0\n",
    "for m in os.listdir('models/'):\n",
    "    if m[-4:] == '.txt':\n",
    "        print(m)\n",
    "        model = lgb.Booster(model_file=f'models/{m}')\n",
    "        preds = model.predict(test_df[x_cols])\n",
    "        test_df['pred_returns'] += preds/5"
   ]
  },
  {
   "cell_type": "code",
   "execution_count": 28,
   "metadata": {},
   "outputs": [
    {
     "data": {
      "text/plain": [
       "(0.07152281877293333, (0.032995064872479996, 0.11005057267338667))"
      ]
     },
     "execution_count": 28,
     "metadata": {},
     "output_type": "execute_result"
    }
   ],
   "source": [
    "conf_interval(train_df=test_df,return_thresh=0.07,N=100,conf=0.95)"
   ]
  },
  {
   "cell_type": "code",
   "execution_count": 29,
   "metadata": {},
   "outputs": [
    {
     "data": {
      "image/png": "[encoded data removed]",
      "text/plain": [
       "<Figure size 432x288 with 1 Axes>"
      ]
     },
     "metadata": {
      "needs_background": "light"
     },
     "output_type": "display_data"
    }
   ],
   "source": [
    "high_returns = test_df.loc[test_df['pred_returns']>=0.07]\n",
    "high_returns = high_returns['returns']\n",
    "\n",
    "returns = []\n",
    "for i in range(10000):\n",
    "    returns.append(np.random.choice(high_returns,size=100,replace=True).mean())\n",
    "plt.hist(returns,bins=150)\n",
    "plt.title('Returns on 100 Loan Portfolios, Sampled from loans above target threshold')\n",
    "plt.xlabel('Actual Returns')\n",
    "plt.ylabel('Number of Portfolios');"
   ]
  },
  {
   "cell_type": "code",
   "execution_count": 36,
   "metadata": {},
   "outputs": [
    {
     "data": {
      "text/plain": [
       "1720"
      ]
     },
     "execution_count": 36,
     "metadata": {},
     "output_type": "execute_result"
    }
   ],
   "source": [
    "len(high_returns)"
   ]
  },
  {
   "cell_type": "code",
   "execution_count": 30,
   "metadata": {},
   "outputs": [
    {
     "data": {
      "text/plain": [
       "0.005784195694137112"
      ]
     },
     "execution_count": 30,
     "metadata": {},
     "output_type": "execute_result"
    }
   ],
   "source": [
    "len(high_returns)/len(test_df)"
   ]
  },
  {
   "cell_type": "code",
   "execution_count": 31,
   "metadata": {},
   "outputs": [
    {
     "data": {
      "text/plain": [
       "(0.07152281877293333, (0.032995064872479996, 0.11005057267338667))"
      ]
     },
     "execution_count": 31,
     "metadata": {},
     "output_type": "execute_result"
    }
   ],
   "source": [
    "conf_interval(train_df=test_df,return_thresh=0.07,N=100,conf=0.95)"
   ]
  },
  {
   "cell_type": "code",
   "execution_count": 32,
   "metadata": {},
   "outputs": [
    {
     "data": {
      "text/plain": [
       "(0.07152281877293333, (0.020888767188563494, 0.12215687035730316))"
      ]
     },
     "execution_count": 32,
     "metadata": {},
     "output_type": "execute_result"
    }
   ],
   "source": [
    "conf_interval(train_df=test_df,return_thresh=0.07,N=100,conf=0.99)"
   ]
  },
  {
   "cell_type": "code",
   "execution_count": 33,
   "metadata": {},
   "outputs": [
    {
     "data": {
      "text/plain": [
       "(0.08052039516946284, (0.04175675401275023, 0.11928403632617546))"
      ]
     },
     "execution_count": 33,
     "metadata": {},
     "output_type": "execute_result"
    }
   ],
   "source": [
    "conf_interval(train_df=test_df,return_thresh=0.075,N=100,conf=0.95)"
   ]
  },
  {
   "cell_type": "code",
   "execution_count": 34,
   "metadata": {},
   "outputs": [
    {
     "data": {
      "text/plain": [
       "(0.08052039516946284, (0.029576335180959507, 0.13146445515796618))"
      ]
     },
     "execution_count": 34,
     "metadata": {},
     "output_type": "execute_result"
    }
   ],
   "source": [
    "conf_interval(train_df=test_df,return_thresh=0.075,N=100,conf=0.99)"
   ]
  }
 ],
 "metadata": {
  "kernelspec": {
   "display_name": "Python [conda env:lending_club]",
   "language": "python",
   "name": "conda-env-lending_club-py"
  },
  "language_info": {
   "codemirror_mode": {
    "name": "ipython",
    "version": 3
   },
   "file_extension": ".py",
   "mimetype": "text/x-python",
   "name": "python",
   "nbconvert_exporter": "python",
   "pygments_lexer": "ipython3",
   "version": "3.7.3"
  }
 },
 "nbformat": 4,
 "nbformat_minor": 2
}
