{
 "cells": [
  {
   "cell_type": "markdown",
   "metadata": {},
   "source": [
    "In this notebook create a baseline LightGBM model and performs related feature engineering."
   ]
  },
  {
   "cell_type": "code",
   "execution_count": 1,
   "metadata": {},
   "outputs": [
    {
     "name": "stderr",
     "output_type": "stream",
     "text": [
      "/Users/johndimarco/anaconda3/envs/lending_club/lib/python3.7/site-packages/lightgbm/__init__.py:46: UserWarning: Starting from version 2.2.1, the library file in distribution wheels for macOS is built by the Apple Clang (Xcode_9.4.1) compiler.\n",
      "This means that in case of installing LightGBM from PyPI via the ``pip install lightgbm`` command, you don't need to install the gcc compiler anymore.\n",
      "Instead of that, you need to install the OpenMP library, which is required for running LightGBM on the system with the Apple Clang compiler.\n",
      "You can install the OpenMP library by the following command: ``brew install libomp``.\n",
      "  \"You can install the OpenMP library by the following command: ``brew install libomp``.\", UserWarning)\n"
     ]
    }
   ],
   "source": [
    "import warnings\n",
    "import numpy as np\n",
    "import pandas as pd\n",
    "import lightgbm as lgb\n",
    "import xgboost as xgb\n",
    "import matplotlib.pyplot as plt\n",
    "from pathlib import Path\n",
    "%matplotlib inline\n",
    "pd.set_option('display.max_columns', 50)\n",
    "warnings.filterwarnings('ignore')"
   ]
  },
  {
   "cell_type": "code",
   "execution_count": 2,
   "metadata": {},
   "outputs": [],
   "source": [
    "train_df = pd.read_pickle('clean_data/api_train_df.pkl').iloc[:,2:] # first two columns are id info\n",
    "val_df = pd.read_pickle('clean_data/api_val_df.pkl').iloc[:,2:]\n",
    "test_df = pd.read_pickle('clean_data/api_val_df.pkl').iloc[:,2:]"
   ]
  },
  {
   "cell_type": "markdown",
   "metadata": {},
   "source": [
    "Create list of features by removing loan performace info"
   ]
  },
  {
   "cell_type": "code",
   "execution_count": 3,
   "metadata": {},
   "outputs": [],
   "source": [
    "to_drop = ['issue_d','desc','loan_status', 'total_pymnt','total_rec_int',\n",
    "           'total_rec_late_fee','total_rec_prncp', 'recoveries', \n",
    "           'collection_recovery_fee', 'last_pymnt_d', \n",
    "           'loan_length', 'returns']\n",
    "x_cols = [x for x in list(train_df.columns) if x not in to_drop]"
   ]
  },
  {
   "cell_type": "markdown",
   "metadata": {},
   "source": [
    "Check which cols are strings"
   ]
  },
  {
   "cell_type": "code",
   "execution_count": 4,
   "metadata": {},
   "outputs": [
    {
     "name": "stdout",
     "output_type": "stream",
     "text": [
      "grade\n",
      "sub_grade\n",
      "emp_length\n",
      "home_ownership\n",
      "verification_status\n",
      "purpose\n",
      "zip_code\n",
      "addr_state\n",
      "initial_list_status\n",
      "emp_title\n",
      "application_type\n",
      "verification_status_joint\n",
      "sec_app_earliest_cr_line\n"
     ]
    }
   ],
   "source": [
    "for col in x_cols:\n",
    "    if train_df[col].dtype == object:\n",
    "        print(col)"
   ]
  },
  {
   "cell_type": "markdown",
   "metadata": {},
   "source": [
    "To encode the categorical/str columns to numbers:\n",
    "1. Create a dictionary with encoding info for each column\n",
    "2. For each column, with the training data create a dict mapping each category to an int\n",
    "3. Apply the categorical mapping from str to ints on the train and val data\n",
    "\n",
    "Sklearn label encoder was not used because it has issues if there are values in the val set we are mapping that were not seen in the train encodings. We do not want to fit a label encoder on both train and val data because we are simulating training on historical data to validate against unseen data."
   ]
  },
  {
   "cell_type": "code",
   "execution_count": 5,
   "metadata": {},
   "outputs": [],
   "source": [
    "cat_encs = {}\n",
    "\n",
    "for col in x_cols:\n",
    "    if train_df[col].dtype == object:\n",
    "        cat_encs[col] = dict(zip(train_df[col].unique(), range(len(train_df[col].unique()))))\n",
    "        \n",
    "for col in cat_encs.keys():\n",
    "    val_df[col] = val_df[col].map(cat_encs[col], na_action='UNK')\n",
    "    train_df[col] = train_df[col].map(cat_encs[col], na_action='UNK')\n",
    "    test_df[col] = test_df[col].map(cat_encs[col], na_action='UNK')"
   ]
  },
  {
   "cell_type": "markdown",
   "metadata": {},
   "source": [
    "cat_encs is a dictionary of features. each feature is a dictionary with its categorical mapping"
   ]
  },
  {
   "cell_type": "code",
   "execution_count": 6,
   "metadata": {},
   "outputs": [
    {
     "data": {
      "text/plain": [
       "{'debt_consolidation': 0,\n",
       " 'other': 1,\n",
       " 'home_improvement': 2,\n",
       " 'credit_card': 3,\n",
       " 'small_business': 4,\n",
       " 'house': 5,\n",
       " 'moving': 6,\n",
       " 'medical': 7,\n",
       " 'car': 8,\n",
       " 'major_purchase': 9,\n",
       " 'vacation': 10,\n",
       " 'renewable_energy': 11,\n",
       " 'wedding': 12,\n",
       " 'educational': 13}"
      ]
     },
     "execution_count": 6,
     "metadata": {},
     "output_type": "execute_result"
    }
   ],
   "source": [
    "cat_encs['purpose']"
   ]
  },
  {
   "cell_type": "code",
   "execution_count": 7,
   "metadata": {},
   "outputs": [],
   "source": [
    "# save the lightgbm formatted data\n",
    "train_df.to_pickle('clean_data/train_lgbm.pkl')\n",
    "val_df.to_pickle('clean_data/val_lgbm.pkl')\n",
    "test_df.to_pickle('clean_data/test_lgbm.pkl')"
   ]
  },
  {
   "cell_type": "code",
   "execution_count": 8,
   "metadata": {},
   "outputs": [],
   "source": [
    "# split the data from full dfs, to x,y\n",
    "x_train = train_df[x_cols]\n",
    "y_train = train_df['loan_status']\n",
    "\n",
    "x_val = val_df[x_cols]\n",
    "y_val = val_df['loan_status']\n",
    "\n",
    "# Label encode target column\n",
    "y_train = y_train.map({'Fully Paid': 0, 'Charged Off': 1})\n",
    "y_val = y_val.map({'Fully Paid': 0, 'Charged Off': 1})"
   ]
  },
  {
   "cell_type": "markdown",
   "metadata": {},
   "source": [
    "Predict loan default"
   ]
  },
  {
   "cell_type": "code",
   "execution_count": 9,
   "metadata": {},
   "outputs": [
    {
     "name": "stdout",
     "output_type": "stream",
     "text": [
      "Training until validation scores don't improve for 100 rounds.\n",
      "[100]\ttraining's auc: 0.732372\tvalid_1's auc: 0.688922\n",
      "[200]\ttraining's auc: 0.767839\tvalid_1's auc: 0.685815\n",
      "Early stopping, best iteration is:\n",
      "[118]\ttraining's auc: 0.740094\tvalid_1's auc: 0.689069\n"
     ]
    }
   ],
   "source": [
    "# lgbm with default params\n",
    "params = {'num_leaves': 32,\n",
    "          'metric': 'auc',}\n",
    "\n",
    "# prepare data\n",
    "train_data = lgb.Dataset(x_train,label=y_train)\n",
    "val_data = lgb.Dataset(x_val, label=y_val)\n",
    "\n",
    "# train\n",
    "lgb_model = lgb.train(params,\n",
    "                      train_data,\n",
    "                      num_boost_round=1000,\n",
    "                      valid_sets = [train_data, val_data],\n",
    "                      verbose_eval=100,\n",
    "                      early_stopping_rounds = 100)"
   ]
  },
  {
   "cell_type": "code",
   "execution_count": 10,
   "metadata": {},
   "outputs": [
    {
     "data": {
      "text/plain": [
       "[('int_rate', 2477.808713078499),\n",
       " ('annual_inc', 998.7596771717072),\n",
       " ('grade', 721.8495355844498),\n",
       " ('acc_open_past_24mths', 401.91810071468353),\n",
       " ('emp_title', 355.08557373285294),\n",
       " ('dti', 345.4366352558136),\n",
       " ('installment', 306.18234461545944),\n",
       " ('mths_since_recent_bc', 279.92888551950455),\n",
       " ('loan_amnt', 272.6489664912224),\n",
       " ('total_bc_limit', 256.12167739868164)]"
      ]
     },
     "execution_count": 10,
     "metadata": {},
     "output_type": "execute_result"
    }
   ],
   "source": [
    "# view most important features\n",
    "lgb_fi = list(zip(lgb_model.feature_name(),lgb_model.feature_importance(importance_type='gain')))\n",
    "lgb_fi.sort(key = lambda tup: tup[1], reverse=True)\n",
    "lgb_fi[:10]"
   ]
  },
  {
   "cell_type": "code",
   "execution_count": 11,
   "metadata": {},
   "outputs": [
    {
     "data": {
      "image/png": "[encoded data removed]",
      "text/plain": [
       "<Figure size 432x288 with 1 Axes>"
      ]
     },
     "metadata": {
      "needs_background": "light"
     },
     "output_type": "display_data"
    }
   ],
   "source": [
    "lgb.plot_importance(lgb_model, importance_type='gain', max_num_features=10);"
   ]
  },
  {
   "cell_type": "markdown",
   "metadata": {},
   "source": [
    "Next view hypothetical returns for different default thresholds. We are most interested in optimizing investment returns"
   ]
  },
  {
   "cell_type": "code",
   "execution_count": 12,
   "metadata": {},
   "outputs": [],
   "source": [
    "preds = lgb_model.predict(x_val)"
   ]
  },
  {
   "cell_type": "code",
   "execution_count": 13,
   "metadata": {},
   "outputs": [],
   "source": [
    "val_df['prediction'] = preds"
   ]
  },
  {
   "cell_type": "markdown",
   "metadata": {},
   "source": [
    "Predicting returns at different default thresholds:\n",
    "Investing in lendingclub allows you to invest any amount you want into a loan ($25 minimum). Since we invest the same amount into every loan, we can calculate returns by averaging the return on all loans invested."
   ]
  },
  {
   "cell_type": "code",
   "execution_count": 14,
   "metadata": {},
   "outputs": [],
   "source": [
    "# creates a list of our hypothetical investment returns for different loan prediction thresholds\n",
    "thresholds = [x/100 for x in range(0,100)]\n",
    "returns = []\n",
    "for thresh in thresholds:\n",
    "    total_returns = val_df.loc[val_df['prediction']<=thresh, 'returns'].mean()\n",
    "    returns.append(total_returns)"
   ]
  },
  {
   "cell_type": "code",
   "execution_count": 15,
   "metadata": {},
   "outputs": [
    {
     "data": {
      "text/plain": [
       "0.03089708897937485"
      ]
     },
     "execution_count": 15,
     "metadata": {},
     "output_type": "execute_result"
    }
   ],
   "source": [
    "# identify average return for total val set\n",
    "val_df.returns.mean()"
   ]
  },
  {
   "cell_type": "code",
   "execution_count": 16,
   "metadata": {},
   "outputs": [
    {
     "data": {
      "text/plain": [
       "<matplotlib.legend.Legend at 0x1a21c4a908>"
      ]
     },
     "execution_count": 16,
     "metadata": {},
     "output_type": "execute_result"
    },
    {
     "data": {
      "image/png": "[encoded data removed]",
      "text/plain": [
       "<Figure size 432x288 with 1 Axes>"
      ]
     },
     "metadata": {
      "needs_background": "light"
     },
     "output_type": "display_data"
    }
   ],
   "source": [
    "# plot returns at different thresholds vs total val_df returns\n",
    "plt.plot(returns)\n",
    "plt.plot([val_df.returns.mean()]*len(thresholds))\n",
    "plt.xlabel('Model Predicted Default Probability')\n",
    "plt.ylabel('% return')\n",
    "plt.title('Returns vs Model Loan Default Probability Thresholds')\n",
    "plt.legend(['Model thresholds', 'Val set Av'])"
   ]
  },
  {
   "cell_type": "code",
   "execution_count": 17,
   "metadata": {},
   "outputs": [
    {
     "data": {
      "text/plain": [
       "0.009315742719565454"
      ]
     },
     "execution_count": 17,
     "metadata": {},
     "output_type": "execute_result"
    }
   ],
   "source": [
    "max(returns) - val_df.returns.mean()"
   ]
  },
  {
   "cell_type": "markdown",
   "metadata": {},
   "source": [
    "So far our model can generate a 0.9% greater return than average loan performance."
   ]
  },
  {
   "cell_type": "markdown",
   "metadata": {},
   "source": [
    "What happens if we predict return on investment for our loans directly instead of default probability?"
   ]
  },
  {
   "cell_type": "code",
   "execution_count": 18,
   "metadata": {},
   "outputs": [],
   "source": [
    "y_train = train_df['returns']\n",
    "y_val = val_df['returns']"
   ]
  },
  {
   "cell_type": "code",
   "execution_count": 19,
   "metadata": {},
   "outputs": [
    {
     "name": "stdout",
     "output_type": "stream",
     "text": [
      "Training until validation scores don't improve for 100 rounds.\n",
      "[100]\ttraining's rmse: 0.142708\tvalid_1's rmse: 0.15895\n",
      "Early stopping, best iteration is:\n",
      "[78]\ttraining's rmse: 0.143728\tvalid_1's rmse: 0.158918\n"
     ]
    }
   ],
   "source": [
    "# lgbm with default params\n",
    "params = {'num_leaves': 32,\n",
    "          'metric': 'rmse',}\n",
    "\n",
    "# prepare data\n",
    "train_data = lgb.Dataset(x_train,label=y_train)\n",
    "val_data = lgb.Dataset(x_val, label=y_val)\n",
    "\n",
    "# train\n",
    "retuns_model = lgb.train(params,\n",
    "                         train_data,\n",
    "                         num_boost_round=1000,\n",
    "                         valid_sets = [train_data, val_data],\n",
    "                         verbose_eval=100,\n",
    "                         early_stopping_rounds = 100)"
   ]
  },
  {
   "cell_type": "code",
   "execution_count": 20,
   "metadata": {},
   "outputs": [],
   "source": [
    "pred_returns = retuns_model.predict(x_val)"
   ]
  },
  {
   "cell_type": "code",
   "execution_count": 21,
   "metadata": {},
   "outputs": [],
   "source": [
    "val_df['pred_returns'] = pred_returns"
   ]
  },
  {
   "cell_type": "markdown",
   "metadata": {},
   "source": [
    "Next plot returns for different investment thresholds"
   ]
  },
  {
   "cell_type": "code",
   "execution_count": 22,
   "metadata": {},
   "outputs": [],
   "source": [
    "returns = []\n",
    "for t in np.arange(val_df['pred_returns'].min(),val_df['pred_returns'].max(), 0.01):\n",
    "    av_return = val_df.loc[val_df['pred_returns']>=t, 'returns'].mean()\n",
    "    # also store how many potential loans there are to invest\n",
    "    total_loans = len(val_df.loc[val_df['pred_returns']>=t, 'total_pymnt'])\n",
    "    returns.append((av_return, t, total_loans))"
   ]
  },
  {
   "cell_type": "code",
   "execution_count": 23,
   "metadata": {},
   "outputs": [
    {
     "data": {
      "image/png": "[encoded data removed]",
      "text/plain": [
       "<Figure size 432x288 with 1 Axes>"
      ]
     },
     "metadata": {
      "needs_background": "light"
     },
     "output_type": "display_data"
    }
   ],
   "source": [
    "plt.figure()\n",
    "plt.plot([x[1] for x in returns], [x[0] for x in returns])\n",
    "plt.plot(val_df.returns.mean())\n",
    "plt.xlabel('Predicted return investment threshold')\n",
    "plt.ylabel('Actual return');"
   ]
  },
  {
   "cell_type": "markdown",
   "metadata": {},
   "source": [
    "There is potential to earn a higher return by training a model directly on predicted annualized return. Because there are fewer loans available the pickier we become in selecting loans, it is important to set a base amount to invest. Then we can chose a predicted return threshold that balances total returns, and total loans available at that threshold.\n",
    "\n",
    "It is also recommened to hold at least 100 loans to properly diversify your portfolio, so lets ensure 100+ loans available at a given threshold."
   ]
  },
  {
   "cell_type": "code",
   "execution_count": 24,
   "metadata": {},
   "outputs": [
    {
     "data": {
      "text/plain": [
       "[(0.12810447730083285, 0.12921895126172506, 1),\n",
       " (0.1836113213004344, 0.11921895126172505, 7),\n",
       " (0.15759734732158398, 0.10921895126172504, 17),\n",
       " (0.10282868056834818, 0.09921895126172503, 85),\n",
       " (0.09713772774144191, 0.08921895126172502, 291),\n",
       " (0.08273183311418196, 0.07921895126172501, 1095),\n",
       " (0.06739646911032433, 0.069218951261725, 4996),\n",
       " (0.05771921634655782, 0.059218951261724995, 18748),\n",
       " (0.04969216995291766, 0.049218951261724986, 46362),\n",
       " (0.04272855678693795, 0.03921895126172498, 93040)]"
      ]
     },
     "execution_count": 24,
     "metadata": {},
     "output_type": "execute_result"
    }
   ],
   "source": [
    "# this shows actual return followed by predicted returnes, and num loans available at that threshold\n",
    "returns.sort(key=lambda x: x[1], reverse=True)\n",
    "returns[:10]"
   ]
  },
  {
   "cell_type": "markdown",
   "metadata": {},
   "source": [
    "Row 5 looks like a great investment threshold. It had an annualized return over 9% with almost 300 loans available to invest in."
   ]
  },
  {
   "cell_type": "code",
   "execution_count": 25,
   "metadata": {},
   "outputs": [
    {
     "data": {
      "text/plain": [
       "(0.09713772774144191, 0.08921895126172502, 291)"
      ]
     },
     "execution_count": 25,
     "metadata": {},
     "output_type": "execute_result"
    }
   ],
   "source": [
    "returns[4]"
   ]
  },
  {
   "cell_type": "code",
   "execution_count": 26,
   "metadata": {},
   "outputs": [
    {
     "data": {
      "text/plain": [
       "13206.369638401658"
      ]
     },
     "execution_count": 26,
     "metadata": {},
     "output_type": "execute_result"
    }
   ],
   "source": [
    "10000*(1+returns[4][0])**3"
   ]
  },
  {
   "cell_type": "markdown",
   "metadata": {},
   "source": [
    "An initial 10,000 investment would grow to 13200 over 3 years!"
   ]
  }
 ],
 "metadata": {
  "kernelspec": {
   "display_name": "Python [conda env:lending_club]",
   "language": "python",
   "name": "conda-env-lending_club-py"
  },
  "language_info": {
   "codemirror_mode": {
    "name": "ipython",
    "version": 3
   },
   "file_extension": ".py",
   "mimetype": "text/x-python",
   "name": "python",
   "nbconvert_exporter": "python",
   "pygments_lexer": "ipython3",
   "version": "3.7.3"
  }
 },
 "nbformat": 4,
 "nbformat_minor": 2
}
